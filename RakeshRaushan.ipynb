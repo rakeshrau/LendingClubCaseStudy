{
 "cells": [
  {
   "cell_type": "code",
   "execution_count": 1,
   "metadata": {},
   "outputs": [],
   "source": [
    "# Import necessary libraries\n",
    "import numpy as np\n",
    "import pandas as pd\n",
    "import matplotlib.pyplot as plt\n",
    "import seaborn as sns\n",
    "import warnings\n",
    "warnings.filterwarnings('ignore')"
   ]
  },
  {
   "cell_type": "code",
   "execution_count": 2,
   "metadata": {},
   "outputs": [
    {
     "data": {
      "text/html": [
       "<div>\n",
       "<style scoped>\n",
       "    .dataframe tbody tr th:only-of-type {\n",
       "        vertical-align: middle;\n",
       "    }\n",
       "\n",
       "    .dataframe tbody tr th {\n",
       "        vertical-align: top;\n",
       "    }\n",
       "\n",
       "    .dataframe thead th {\n",
       "        text-align: right;\n",
       "    }\n",
       "</style>\n",
       "<table border=\"1\" class=\"dataframe\">\n",
       "  <thead>\n",
       "    <tr style=\"text-align: right;\">\n",
       "      <th></th>\n",
       "      <th>id</th>\n",
       "      <th>member_id</th>\n",
       "      <th>loan_amnt</th>\n",
       "      <th>funded_amnt</th>\n",
       "      <th>funded_amnt_inv</th>\n",
       "      <th>term</th>\n",
       "      <th>int_rate</th>\n",
       "      <th>installment</th>\n",
       "      <th>grade</th>\n",
       "      <th>sub_grade</th>\n",
       "      <th>...</th>\n",
       "      <th>num_tl_90g_dpd_24m</th>\n",
       "      <th>num_tl_op_past_12m</th>\n",
       "      <th>pct_tl_nvr_dlq</th>\n",
       "      <th>percent_bc_gt_75</th>\n",
       "      <th>pub_rec_bankruptcies</th>\n",
       "      <th>tax_liens</th>\n",
       "      <th>tot_hi_cred_lim</th>\n",
       "      <th>total_bal_ex_mort</th>\n",
       "      <th>total_bc_limit</th>\n",
       "      <th>total_il_high_credit_limit</th>\n",
       "    </tr>\n",
       "  </thead>\n",
       "  <tbody>\n",
       "    <tr>\n",
       "      <th>0</th>\n",
       "      <td>1077501</td>\n",
       "      <td>1296599</td>\n",
       "      <td>5000</td>\n",
       "      <td>5000</td>\n",
       "      <td>4975.0</td>\n",
       "      <td>36 months</td>\n",
       "      <td>10.65%</td>\n",
       "      <td>162.87</td>\n",
       "      <td>B</td>\n",
       "      <td>B2</td>\n",
       "      <td>...</td>\n",
       "      <td>NaN</td>\n",
       "      <td>NaN</td>\n",
       "      <td>NaN</td>\n",
       "      <td>NaN</td>\n",
       "      <td>0.0</td>\n",
       "      <td>0.0</td>\n",
       "      <td>NaN</td>\n",
       "      <td>NaN</td>\n",
       "      <td>NaN</td>\n",
       "      <td>NaN</td>\n",
       "    </tr>\n",
       "    <tr>\n",
       "      <th>1</th>\n",
       "      <td>1077430</td>\n",
       "      <td>1314167</td>\n",
       "      <td>2500</td>\n",
       "      <td>2500</td>\n",
       "      <td>2500.0</td>\n",
       "      <td>60 months</td>\n",
       "      <td>15.27%</td>\n",
       "      <td>59.83</td>\n",
       "      <td>C</td>\n",
       "      <td>C4</td>\n",
       "      <td>...</td>\n",
       "      <td>NaN</td>\n",
       "      <td>NaN</td>\n",
       "      <td>NaN</td>\n",
       "      <td>NaN</td>\n",
       "      <td>0.0</td>\n",
       "      <td>0.0</td>\n",
       "      <td>NaN</td>\n",
       "      <td>NaN</td>\n",
       "      <td>NaN</td>\n",
       "      <td>NaN</td>\n",
       "    </tr>\n",
       "    <tr>\n",
       "      <th>2</th>\n",
       "      <td>1077175</td>\n",
       "      <td>1313524</td>\n",
       "      <td>2400</td>\n",
       "      <td>2400</td>\n",
       "      <td>2400.0</td>\n",
       "      <td>36 months</td>\n",
       "      <td>15.96%</td>\n",
       "      <td>84.33</td>\n",
       "      <td>C</td>\n",
       "      <td>C5</td>\n",
       "      <td>...</td>\n",
       "      <td>NaN</td>\n",
       "      <td>NaN</td>\n",
       "      <td>NaN</td>\n",
       "      <td>NaN</td>\n",
       "      <td>0.0</td>\n",
       "      <td>0.0</td>\n",
       "      <td>NaN</td>\n",
       "      <td>NaN</td>\n",
       "      <td>NaN</td>\n",
       "      <td>NaN</td>\n",
       "    </tr>\n",
       "    <tr>\n",
       "      <th>3</th>\n",
       "      <td>1076863</td>\n",
       "      <td>1277178</td>\n",
       "      <td>10000</td>\n",
       "      <td>10000</td>\n",
       "      <td>10000.0</td>\n",
       "      <td>36 months</td>\n",
       "      <td>13.49%</td>\n",
       "      <td>339.31</td>\n",
       "      <td>C</td>\n",
       "      <td>C1</td>\n",
       "      <td>...</td>\n",
       "      <td>NaN</td>\n",
       "      <td>NaN</td>\n",
       "      <td>NaN</td>\n",
       "      <td>NaN</td>\n",
       "      <td>0.0</td>\n",
       "      <td>0.0</td>\n",
       "      <td>NaN</td>\n",
       "      <td>NaN</td>\n",
       "      <td>NaN</td>\n",
       "      <td>NaN</td>\n",
       "    </tr>\n",
       "    <tr>\n",
       "      <th>4</th>\n",
       "      <td>1075358</td>\n",
       "      <td>1311748</td>\n",
       "      <td>3000</td>\n",
       "      <td>3000</td>\n",
       "      <td>3000.0</td>\n",
       "      <td>60 months</td>\n",
       "      <td>12.69%</td>\n",
       "      <td>67.79</td>\n",
       "      <td>B</td>\n",
       "      <td>B5</td>\n",
       "      <td>...</td>\n",
       "      <td>NaN</td>\n",
       "      <td>NaN</td>\n",
       "      <td>NaN</td>\n",
       "      <td>NaN</td>\n",
       "      <td>0.0</td>\n",
       "      <td>0.0</td>\n",
       "      <td>NaN</td>\n",
       "      <td>NaN</td>\n",
       "      <td>NaN</td>\n",
       "      <td>NaN</td>\n",
       "    </tr>\n",
       "  </tbody>\n",
       "</table>\n",
       "<p>5 rows × 111 columns</p>\n",
       "</div>"
      ],
      "text/plain": [
       "        id  member_id  loan_amnt  funded_amnt  funded_amnt_inv        term  \\\n",
       "0  1077501    1296599       5000         5000           4975.0   36 months   \n",
       "1  1077430    1314167       2500         2500           2500.0   60 months   \n",
       "2  1077175    1313524       2400         2400           2400.0   36 months   \n",
       "3  1076863    1277178      10000        10000          10000.0   36 months   \n",
       "4  1075358    1311748       3000         3000           3000.0   60 months   \n",
       "\n",
       "  int_rate  installment grade sub_grade  ... num_tl_90g_dpd_24m  \\\n",
       "0   10.65%       162.87     B        B2  ...                NaN   \n",
       "1   15.27%        59.83     C        C4  ...                NaN   \n",
       "2   15.96%        84.33     C        C5  ...                NaN   \n",
       "3   13.49%       339.31     C        C1  ...                NaN   \n",
       "4   12.69%        67.79     B        B5  ...                NaN   \n",
       "\n",
       "  num_tl_op_past_12m pct_tl_nvr_dlq  percent_bc_gt_75 pub_rec_bankruptcies  \\\n",
       "0                NaN            NaN               NaN                  0.0   \n",
       "1                NaN            NaN               NaN                  0.0   \n",
       "2                NaN            NaN               NaN                  0.0   \n",
       "3                NaN            NaN               NaN                  0.0   \n",
       "4                NaN            NaN               NaN                  0.0   \n",
       "\n",
       "  tax_liens tot_hi_cred_lim total_bal_ex_mort total_bc_limit  \\\n",
       "0       0.0             NaN               NaN            NaN   \n",
       "1       0.0             NaN               NaN            NaN   \n",
       "2       0.0             NaN               NaN            NaN   \n",
       "3       0.0             NaN               NaN            NaN   \n",
       "4       0.0             NaN               NaN            NaN   \n",
       "\n",
       "  total_il_high_credit_limit  \n",
       "0                        NaN  \n",
       "1                        NaN  \n",
       "2                        NaN  \n",
       "3                        NaN  \n",
       "4                        NaN  \n",
       "\n",
       "[5 rows x 111 columns]"
      ]
     },
     "execution_count": 2,
     "metadata": {},
     "output_type": "execute_result"
    }
   ],
   "source": [
    "#Load the provided data\n",
    "loan = pd.read_csv('loan.csv', low_memory=False)\n",
    "loan.head()"
   ]
  },
  {
   "cell_type": "markdown",
   "metadata": {},
   "source": [
    "# <font color='green'>Step1:Data Understanding</font>"
   ]
  },
  {
   "cell_type": "markdown",
   "metadata": {},
   "source": [
    "##  <font color='orange'>Step1a:Handling Null values<font>"
   ]
  },
  {
   "cell_type": "code",
   "execution_count": 3,
   "metadata": {},
   "outputs": [
    {
     "data": {
      "text/plain": [
       "id                                  0.000000\n",
       "member_id                           0.000000\n",
       "loan_amnt                           0.000000\n",
       "funded_amnt                         0.000000\n",
       "funded_amnt_inv                     0.000000\n",
       "term                                0.000000\n",
       "int_rate                            0.000000\n",
       "installment                         0.000000\n",
       "grade                               0.000000\n",
       "sub_grade                           0.000000\n",
       "emp_title                           6.191303\n",
       "emp_length                          2.706650\n",
       "home_ownership                      0.000000\n",
       "annual_inc                          0.000000\n",
       "verification_status                 0.000000\n",
       "issue_d                             0.000000\n",
       "loan_status                         0.000000\n",
       "pymnt_plan                          0.000000\n",
       "url                                 0.000000\n",
       "desc                               32.580507\n",
       "purpose                             0.000000\n",
       "title                               0.027696\n",
       "zip_code                            0.000000\n",
       "addr_state                          0.000000\n",
       "dti                                 0.000000\n",
       "delinq_2yrs                         0.000000\n",
       "earliest_cr_line                    0.000000\n",
       "inq_last_6mths                      0.000000\n",
       "mths_since_last_delinq             64.662487\n",
       "mths_since_last_record             92.985372\n",
       "                                     ...    \n",
       "mo_sin_old_rev_tl_op              100.000000\n",
       "mo_sin_rcnt_rev_tl_op             100.000000\n",
       "mo_sin_rcnt_tl                    100.000000\n",
       "mort_acc                          100.000000\n",
       "mths_since_recent_bc              100.000000\n",
       "mths_since_recent_bc_dlq          100.000000\n",
       "mths_since_recent_inq             100.000000\n",
       "mths_since_recent_revol_delinq    100.000000\n",
       "num_accts_ever_120_pd             100.000000\n",
       "num_actv_bc_tl                    100.000000\n",
       "num_actv_rev_tl                   100.000000\n",
       "num_bc_sats                       100.000000\n",
       "num_bc_tl                         100.000000\n",
       "num_il_tl                         100.000000\n",
       "num_op_rev_tl                     100.000000\n",
       "num_rev_accts                     100.000000\n",
       "num_rev_tl_bal_gt_0               100.000000\n",
       "num_sats                          100.000000\n",
       "num_tl_120dpd_2m                  100.000000\n",
       "num_tl_30dpd                      100.000000\n",
       "num_tl_90g_dpd_24m                100.000000\n",
       "num_tl_op_past_12m                100.000000\n",
       "pct_tl_nvr_dlq                    100.000000\n",
       "percent_bc_gt_75                  100.000000\n",
       "pub_rec_bankruptcies                1.754916\n",
       "tax_liens                           0.098195\n",
       "tot_hi_cred_lim                   100.000000\n",
       "total_bal_ex_mort                 100.000000\n",
       "total_bc_limit                    100.000000\n",
       "total_il_high_credit_limit        100.000000\n",
       "Length: 111, dtype: float64"
      ]
     },
     "execution_count": 3,
     "metadata": {},
     "output_type": "execute_result"
    }
   ],
   "source": [
    "#Find what percentage of null values are present in each column\n",
    "missing_percent = (loan.isnull().sum()/len(loan.index))*100\n",
    "#Check which columns have what percent of missing values\n",
    "missing_percent"
   ]
  },
  {
   "cell_type": "markdown",
   "metadata": {},
   "source": [
    "##### Observation:\n",
    "There are many columns which have 100% missing values and some columns have less.Let us drop columns which have more than 25% values missing,otherwise those columns wont make much sense"
   ]
  },
  {
   "cell_type": "code",
   "execution_count": 4,
   "metadata": {},
   "outputs": [],
   "source": [
    "#Drop columns which have more than 25% null values in it.\n",
    "loan.drop(missing_percent[ missing_percent > 25 ].index, axis=1, inplace=True)"
   ]
  },
  {
   "cell_type": "markdown",
   "metadata": {},
   "source": [
    "## <font color='orange'>1b:Unique value check</font>"
   ]
  },
  {
   "cell_type": "code",
   "execution_count": 5,
   "metadata": {},
   "outputs": [
    {
     "data": {
      "text/plain": [
       "id                            39717\n",
       "member_id                     39717\n",
       "url                           39717\n",
       "total_pymnt                   37850\n",
       "total_pymnt_inv               37518\n",
       "total_rec_int                 35148\n",
       "last_pymnt_amnt               34930\n",
       "emp_title                     28820\n",
       "revol_bal                     21711\n",
       "title                         19615\n",
       "installment                   15383\n",
       "funded_amnt_inv                8205\n",
       "total_rec_prncp                7976\n",
       "annual_inc                     5318\n",
       "recoveries                     4040\n",
       "dti                            2868\n",
       "collection_recovery_fee        2616\n",
       "total_rec_late_fee             1356\n",
       "out_prncp_inv                  1138\n",
       "out_prncp                      1137\n",
       "revol_util                     1089\n",
       "funded_amnt                    1041\n",
       "loan_amnt                       885\n",
       "zip_code                        823\n",
       "earliest_cr_line                526\n",
       "int_rate                        371\n",
       "last_credit_pull_d              106\n",
       "last_pymnt_d                    101\n",
       "total_acc                        82\n",
       "issue_d                          55\n",
       "addr_state                       50\n",
       "open_acc                         40\n",
       "sub_grade                        35\n",
       "purpose                          14\n",
       "emp_length                       11\n",
       "delinq_2yrs                      11\n",
       "inq_last_6mths                    9\n",
       "grade                             7\n",
       "home_ownership                    5\n",
       "pub_rec                           5\n",
       "loan_status                       3\n",
       "verification_status               3\n",
       "pub_rec_bankruptcies              3\n",
       "term                              2\n",
       "pymnt_plan                        1\n",
       "initial_list_status               1\n",
       "collections_12_mths_ex_med        1\n",
       "policy_code                       1\n",
       "application_type                  1\n",
       "acc_now_delinq                    1\n",
       "chargeoff_within_12_mths          1\n",
       "delinq_amnt                       1\n",
       "tax_liens                         1\n",
       "dtype: int64"
      ]
     },
     "execution_count": 5,
     "metadata": {},
     "output_type": "execute_result"
    }
   ],
   "source": [
    "loan.nunique().sort_values(ascending=False)"
   ]
  },
  {
   "cell_type": "markdown",
   "metadata": {},
   "source": [
    "##### Observation:\n",
    "Columns 'pymnt_plan', 'initial_list_status' ,'collections_12_mths_ex_med' ,'policy_code' ,'application_type' ,'acc_now_delinq' ,'chargeoff_within_12_mths' ,'delinq_amnt' ,'tax_liens'  have only one unique value which will not add any value to our analysis so let us drop them"
   ]
  },
  {
   "cell_type": "code",
   "execution_count": 6,
   "metadata": {},
   "outputs": [],
   "source": [
    "#Dropping columns which have only one unique value\n",
    "loan.drop(['pymnt_plan', 'initial_list_status' ,'collections_12_mths_ex_med' ,'policy_code' ,'application_type' ,'acc_now_delinq' ,'chargeoff_within_12_mths' ,'delinq_amnt' ,'tax_liens'], axis=1, inplace=True)"
   ]
  },
  {
   "cell_type": "markdown",
   "metadata": {},
   "source": [
    "## <font color='orange'>1c:Relevancy Check</font>"
   ]
  },
  {
   "cell_type": "markdown",
   "metadata": {},
   "source": [
    "##### Observation:\n",
    "Since when the company receives a loan application, the company has to make a decision for loan approval but there are many columns which are related to post approval of loan,so we have to drop them-- \n",
    "'total_rec_int', 'total_rec_prncp', 'total_rec_late_fee', 'last_credit_pull_d', 'recoveries', 'collection_recovery_fee', 'last_pymnt_d','out_prncp', 'out_prncp_inv'"
   ]
  },
  {
   "cell_type": "code",
   "execution_count": 7,
   "metadata": {},
   "outputs": [],
   "source": [
    "loan.drop(['total_rec_int', 'total_rec_prncp', 'total_rec_late_fee', 'last_credit_pull_d', 'recoveries', 'collection_recovery_fee', 'last_pymnt_d','out_prncp', 'out_prncp_inv'], axis=1, inplace=True)"
   ]
  },
  {
   "cell_type": "code",
   "execution_count": 8,
   "metadata": {},
   "outputs": [
    {
     "data": {
      "text/plain": [
       "url                     39717\n",
       "member_id               39717\n",
       "id                      39717\n",
       "total_pymnt             37850\n",
       "total_pymnt_inv         37518\n",
       "last_pymnt_amnt         34930\n",
       "emp_title               28820\n",
       "revol_bal               21711\n",
       "title                   19615\n",
       "installment             15383\n",
       "funded_amnt_inv          8205\n",
       "annual_inc               5318\n",
       "dti                      2868\n",
       "revol_util               1089\n",
       "funded_amnt              1041\n",
       "loan_amnt                 885\n",
       "zip_code                  823\n",
       "earliest_cr_line          526\n",
       "int_rate                  371\n",
       "total_acc                  82\n",
       "issue_d                    55\n",
       "addr_state                 50\n",
       "open_acc                   40\n",
       "sub_grade                  35\n",
       "purpose                    14\n",
       "emp_length                 11\n",
       "delinq_2yrs                11\n",
       "inq_last_6mths              9\n",
       "grade                       7\n",
       "home_ownership              5\n",
       "pub_rec                     5\n",
       "verification_status         3\n",
       "loan_status                 3\n",
       "pub_rec_bankruptcies        3\n",
       "term                        2\n",
       "dtype: int64"
      ]
     },
     "execution_count": 8,
     "metadata": {},
     "output_type": "execute_result"
    }
   ],
   "source": [
    "loan.nunique().sort_values(ascending=False)"
   ]
  },
  {
   "cell_type": "markdown",
   "metadata": {},
   "source": [
    "##### Observation:\n",
    "1.As seen in the above output  'url' ,'member_id' , 'id' have all unique values so we will retain just 'id' and drop  'url' and 'member_id'.\n",
    "\n",
    "2.'emp_title' has job title supplied by borrowers so these names would not add value to the analysis hence dropping off"
   ]
  },
  {
   "cell_type": "code",
   "execution_count": 9,
   "metadata": {},
   "outputs": [],
   "source": [
    "loan.drop(['url','member_id','emp_title'], axis=1, inplace=True)"
   ]
  },
  {
   "cell_type": "markdown",
   "metadata": {},
   "source": [
    "##### Observation:\n",
    "'loan_status' column has 3 distinct values-'Fully Paid','Charged Off','Current'. We dont need 'Current' as it doesnt tell whether the loan will be defaulted or not so rows containing it will be removed"
   ]
  },
  {
   "cell_type": "code",
   "execution_count": 10,
   "metadata": {},
   "outputs": [
    {
     "data": {
      "text/plain": [
       "array(['Fully Paid', 'Charged Off', 'Current'], dtype=object)"
      ]
     },
     "execution_count": 10,
     "metadata": {},
     "output_type": "execute_result"
    }
   ],
   "source": [
    "loan['loan_status'].unique()"
   ]
  },
  {
   "cell_type": "code",
   "execution_count": 11,
   "metadata": {},
   "outputs": [],
   "source": [
    "#Removing rows having Current as loan_status\n",
    "loan = loan[loan.loan_status != 'Current']"
   ]
  },
  {
   "cell_type": "markdown",
   "metadata": {},
   "source": [
    "##### The values of column 'term' have empty space so it will be stripped"
   ]
  },
  {
   "cell_type": "code",
   "execution_count": 12,
   "metadata": {},
   "outputs": [
    {
     "data": {
      "text/plain": [
       "array([' 36 months', ' 60 months'], dtype=object)"
      ]
     },
     "execution_count": 12,
     "metadata": {},
     "output_type": "execute_result"
    }
   ],
   "source": [
    "#Checking unique values for 'term' column\n",
    "loan.term.unique()"
   ]
  },
  {
   "cell_type": "code",
   "execution_count": 13,
   "metadata": {},
   "outputs": [
    {
     "data": {
      "text/plain": [
       "array(['36 months', '60 months'], dtype=object)"
      ]
     },
     "execution_count": 13,
     "metadata": {},
     "output_type": "execute_result"
    }
   ],
   "source": [
    "#Stripping off empty space\n",
    "loan['term'] = loan.term.str.strip()\n",
    "loan.term.unique()"
   ]
  },
  {
   "cell_type": "code",
   "execution_count": 14,
   "metadata": {},
   "outputs": [
    {
     "data": {
      "text/plain": [
       "(38577, 32)"
      ]
     },
     "execution_count": 14,
     "metadata": {},
     "output_type": "execute_result"
    }
   ],
   "source": [
    "loan.shape"
   ]
  },
  {
   "cell_type": "markdown",
   "metadata": {},
   "source": [
    "# <font color='green'>Step2:Data Cleaning and Manipulation</font>"
   ]
  },
  {
   "cell_type": "markdown",
   "metadata": {},
   "source": [
    "## <font color='orange'>2a:Handling missing values</font>"
   ]
  },
  {
   "cell_type": "code",
   "execution_count": 15,
   "metadata": {},
   "outputs": [
    {
     "data": {
      "text/plain": [
       "emp_length              2.677761\n",
       "pub_rec_bankruptcies    1.806776\n",
       "revol_util              0.129611\n",
       "title                   0.028514\n",
       "grade                   0.000000\n",
       "verification_status     0.000000\n",
       "annual_inc              0.000000\n",
       "home_ownership          0.000000\n",
       "sub_grade               0.000000\n",
       "installment             0.000000\n",
       "loan_status             0.000000\n",
       "int_rate                0.000000\n",
       "term                    0.000000\n",
       "funded_amnt_inv         0.000000\n",
       "funded_amnt             0.000000\n",
       "loan_amnt               0.000000\n",
       "issue_d                 0.000000\n",
       "purpose                 0.000000\n",
       "last_pymnt_amnt         0.000000\n",
       "zip_code                0.000000\n",
       "addr_state              0.000000\n",
       "dti                     0.000000\n",
       "delinq_2yrs             0.000000\n",
       "earliest_cr_line        0.000000\n",
       "inq_last_6mths          0.000000\n",
       "open_acc                0.000000\n",
       "pub_rec                 0.000000\n",
       "revol_bal               0.000000\n",
       "total_acc               0.000000\n",
       "total_pymnt             0.000000\n",
       "total_pymnt_inv         0.000000\n",
       "id                      0.000000\n",
       "dtype: float64"
      ]
     },
     "execution_count": 15,
     "metadata": {},
     "output_type": "execute_result"
    }
   ],
   "source": [
    "#Find what percentage of null values are present in each column\n",
    "missing_percent = (loan.isnull().sum()/len(loan.index))*100\n",
    "#Check which columns have what percent of missing values\n",
    "missing_percent.sort_values(ascending=False)"
   ]
  },
  {
   "cell_type": "markdown",
   "metadata": {},
   "source": [
    "### Columns 'emp_length','pub_rec_bankruptcies','revol_util','title' have missing values so let us handle them"
   ]
  },
  {
   "cell_type": "markdown",
   "metadata": {},
   "source": [
    "#### Handling missing values for 'emp.length'"
   ]
  },
  {
   "cell_type": "code",
   "execution_count": 16,
   "metadata": {},
   "outputs": [
    {
     "data": {
      "text/plain": [
       "10+ years    8488\n",
       "< 1 year     4508\n",
       "2 years      4291\n",
       "3 years      4012\n",
       "4 years      3342\n",
       "5 years      3194\n",
       "1 year       3169\n",
       "6 years      2168\n",
       "7 years      1711\n",
       "8 years      1435\n",
       "9 years      1226\n",
       "Name: emp_length, dtype: int64"
      ]
     },
     "execution_count": 16,
     "metadata": {},
     "output_type": "execute_result"
    }
   ],
   "source": [
    "loan.emp_length.value_counts()"
   ]
  },
  {
   "cell_type": "code",
   "execution_count": 17,
   "metadata": {},
   "outputs": [
    {
     "data": {
      "text/plain": [
       "0    10+ years\n",
       "dtype: object"
      ]
     },
     "execution_count": 17,
     "metadata": {},
     "output_type": "execute_result"
    }
   ],
   "source": [
    "loan.emp_length.mode()"
   ]
  },
  {
   "cell_type": "markdown",
   "metadata": {},
   "source": [
    "##### Above data shows that for 'emp.length' mode is 10+ years and it has far higher frequency than next value,so we can safely impute with mode"
   ]
  },
  {
   "cell_type": "code",
   "execution_count": 18,
   "metadata": {},
   "outputs": [],
   "source": [
    "loan.emp_length.fillna(loan.emp_length.mode()[0], inplace = True)"
   ]
  },
  {
   "cell_type": "markdown",
   "metadata": {},
   "source": [
    "#### Handling missing values for 'pub_rec_bankruptcies'"
   ]
  },
  {
   "cell_type": "code",
   "execution_count": 19,
   "metadata": {},
   "outputs": [
    {
     "data": {
      "text/plain": [
       "0.0    36238\n",
       "1.0     1637\n",
       "2.0        5\n",
       "Name: pub_rec_bankruptcies, dtype: int64"
      ]
     },
     "execution_count": 19,
     "metadata": {},
     "output_type": "execute_result"
    }
   ],
   "source": [
    "loan.pub_rec_bankruptcies.value_counts()"
   ]
  },
  {
   "cell_type": "code",
   "execution_count": 20,
   "metadata": {},
   "outputs": [
    {
     "data": {
      "text/plain": [
       "0    0.0\n",
       "dtype: float64"
      ]
     },
     "execution_count": 20,
     "metadata": {},
     "output_type": "execute_result"
    }
   ],
   "source": [
    "loan.pub_rec_bankruptcies.mode()"
   ]
  },
  {
   "cell_type": "markdown",
   "metadata": {},
   "source": [
    "##### Above data shows that for 'pub_rec_bankruptcies' mode is 0.0 and it has far far higher frequency than next value,so we can safely impute with mode"
   ]
  },
  {
   "cell_type": "code",
   "execution_count": 21,
   "metadata": {},
   "outputs": [],
   "source": [
    "loan.pub_rec_bankruptcies.fillna(loan.pub_rec_bankruptcies.mode()[0], inplace = True)"
   ]
  },
  {
   "cell_type": "markdown",
   "metadata": {},
   "source": [
    "#### Handling missing values for 'revol_util'"
   ]
  },
  {
   "cell_type": "code",
   "execution_count": 22,
   "metadata": {},
   "outputs": [
    {
     "data": {
      "text/plain": [
       "0%        954\n",
       "0.20%      62\n",
       "63%        62\n",
       "40.70%     57\n",
       "31.20%     57\n",
       "66.70%     56\n",
       "61%        56\n",
       "70.40%     56\n",
       "66.60%     55\n",
       "46.40%     55\n",
       "37.60%     55\n",
       "0.10%      55\n",
       "57.40%     55\n",
       "32%        54\n",
       "46.60%     54\n",
       "64.60%     54\n",
       "64.80%     54\n",
       "75.50%     54\n",
       "34.40%     53\n",
       "48.90%     53\n",
       "68.70%     53\n",
       "35.30%     53\n",
       "25.50%     53\n",
       "49.80%     53\n",
       "65.90%     53\n",
       "70.80%     53\n",
       "45.60%     52\n",
       "47.80%     52\n",
       "48%        52\n",
       "89.50%     52\n",
       "         ... \n",
       "13.56%      1\n",
       "47.36%      1\n",
       "41.85%      1\n",
       "49.69%      1\n",
       "0.75%       1\n",
       "25.33%      1\n",
       "6.75%       1\n",
       "94.46%      1\n",
       "17.78%      1\n",
       "1.88%       1\n",
       "26.32%      1\n",
       "37.63%      1\n",
       "54.22%      1\n",
       "12.42%      1\n",
       "70.94%      1\n",
       "9.34%       1\n",
       "56.26%      1\n",
       "8.46%       1\n",
       "33.29%      1\n",
       "77.63%      1\n",
       "23.11%      1\n",
       "0.01%       1\n",
       "18.82%      1\n",
       "25.74%      1\n",
       "34.89%      1\n",
       "37.73%      1\n",
       "39.95%      1\n",
       "24.89%      1\n",
       "0.83%       1\n",
       "26.33%      1\n",
       "Name: revol_util, Length: 1088, dtype: int64"
      ]
     },
     "execution_count": 22,
     "metadata": {},
     "output_type": "execute_result"
    }
   ],
   "source": [
    "loan.revol_util.value_counts()"
   ]
  },
  {
   "cell_type": "code",
   "execution_count": 23,
   "metadata": {},
   "outputs": [
    {
     "data": {
      "text/plain": [
       "0    0%\n",
       "dtype: object"
      ]
     },
     "execution_count": 23,
     "metadata": {},
     "output_type": "execute_result"
    }
   ],
   "source": [
    "loan.revol_util.mode()"
   ]
  },
  {
   "cell_type": "markdown",
   "metadata": {},
   "source": [
    "##### Above data shows that for 'revol_util' mode is 0% and it has far far higher frequency than next value,so we can safely impute with mode"
   ]
  },
  {
   "cell_type": "code",
   "execution_count": 24,
   "metadata": {},
   "outputs": [],
   "source": [
    "loan.revol_util.fillna(loan.revol_util.mode()[0], inplace = True)"
   ]
  },
  {
   "cell_type": "markdown",
   "metadata": {},
   "source": [
    "#### Handling missing values for 'title'"
   ]
  },
  {
   "cell_type": "code",
   "execution_count": 25,
   "metadata": {},
   "outputs": [
    {
     "data": {
      "text/plain": [
       "Debt Consolidation         2090\n",
       "Debt Consolidation Loan    1620\n",
       "Personal Loan               641\n",
       "Consolidation               491\n",
       "debt consolidation          478\n",
       "Name: title, dtype: int64"
      ]
     },
     "execution_count": 25,
     "metadata": {},
     "output_type": "execute_result"
    }
   ],
   "source": [
    "loan.title.value_counts()[:5]"
   ]
  },
  {
   "cell_type": "code",
   "execution_count": 26,
   "metadata": {},
   "outputs": [
    {
     "data": {
      "text/plain": [
       "0    Debt Consolidation\n",
       "dtype: object"
      ]
     },
     "execution_count": 26,
     "metadata": {},
     "output_type": "execute_result"
    }
   ],
   "source": [
    "loan.title.mode()"
   ]
  },
  {
   "cell_type": "markdown",
   "metadata": {},
   "source": [
    "##### Above data shows that 'Debt Consolidation' , 'Debt Consolidation Loan' ,'Consolidation' which basically mean the same are the most popular choice.Hence replacing by the mode "
   ]
  },
  {
   "cell_type": "code",
   "execution_count": 27,
   "metadata": {},
   "outputs": [],
   "source": [
    "loan.title.fillna(loan.title.mode()[0], inplace = True)"
   ]
  },
  {
   "cell_type": "code",
   "execution_count": 28,
   "metadata": {},
   "outputs": [
    {
     "data": {
      "text/plain": [
       "pub_rec_bankruptcies    0.0\n",
       "last_pymnt_amnt         0.0\n",
       "loan_amnt               0.0\n",
       "funded_amnt             0.0\n",
       "funded_amnt_inv         0.0\n",
       "term                    0.0\n",
       "int_rate                0.0\n",
       "installment             0.0\n",
       "grade                   0.0\n",
       "sub_grade               0.0\n",
       "emp_length              0.0\n",
       "home_ownership          0.0\n",
       "annual_inc              0.0\n",
       "verification_status     0.0\n",
       "issue_d                 0.0\n",
       "loan_status             0.0\n",
       "purpose                 0.0\n",
       "title                   0.0\n",
       "zip_code                0.0\n",
       "addr_state              0.0\n",
       "dti                     0.0\n",
       "delinq_2yrs             0.0\n",
       "earliest_cr_line        0.0\n",
       "inq_last_6mths          0.0\n",
       "open_acc                0.0\n",
       "pub_rec                 0.0\n",
       "revol_bal               0.0\n",
       "revol_util              0.0\n",
       "total_acc               0.0\n",
       "total_pymnt             0.0\n",
       "total_pymnt_inv         0.0\n",
       "id                      0.0\n",
       "dtype: float64"
      ]
     },
     "execution_count": 28,
     "metadata": {},
     "output_type": "execute_result"
    }
   ],
   "source": [
    "#Find what percentage of null values are present in each column\n",
    "missing_percent = (loan.isnull().sum()/len(loan.index))*100\n",
    "#Check which columns have what percent of missing values\n",
    "missing_percent.sort_values(ascending=False)"
   ]
  },
  {
   "cell_type": "markdown",
   "metadata": {},
   "source": [
    "#### We have successfully handled all missing values"
   ]
  },
  {
   "cell_type": "markdown",
   "metadata": {},
   "source": [
    "## <font color='orange'>2b:Data type check and conversions to suitable format</font>"
   ]
  },
  {
   "cell_type": "code",
   "execution_count": 29,
   "metadata": {},
   "outputs": [
    {
     "data": {
      "text/plain": [
       "id                        int64\n",
       "loan_amnt                 int64\n",
       "funded_amnt               int64\n",
       "funded_amnt_inv         float64\n",
       "term                     object\n",
       "int_rate                 object\n",
       "installment             float64\n",
       "grade                    object\n",
       "sub_grade                object\n",
       "emp_length               object\n",
       "home_ownership           object\n",
       "annual_inc              float64\n",
       "verification_status      object\n",
       "issue_d                  object\n",
       "loan_status              object\n",
       "purpose                  object\n",
       "title                    object\n",
       "zip_code                 object\n",
       "addr_state               object\n",
       "dti                     float64\n",
       "delinq_2yrs               int64\n",
       "earliest_cr_line         object\n",
       "inq_last_6mths            int64\n",
       "open_acc                  int64\n",
       "pub_rec                   int64\n",
       "revol_bal                 int64\n",
       "revol_util               object\n",
       "total_acc                 int64\n",
       "total_pymnt             float64\n",
       "total_pymnt_inv         float64\n",
       "last_pymnt_amnt         float64\n",
       "pub_rec_bankruptcies    float64\n",
       "dtype: object"
      ]
     },
     "execution_count": 29,
     "metadata": {},
     "output_type": "execute_result"
    }
   ],
   "source": [
    "#Check data type of each column\n",
    "loan.dtypes"
   ]
  },
  {
   "cell_type": "markdown",
   "metadata": {},
   "source": [
    "####  'issue_d' ,'earliest_cr_line' columns have to be converted to same  datetime format "
   ]
  },
  {
   "cell_type": "code",
   "execution_count": 30,
   "metadata": {},
   "outputs": [],
   "source": [
    "loan['earliest_cr_line'] = pd.to_datetime(loan.earliest_cr_line, format='%b-%y')\n",
    "loan['issue_d'] = pd.to_datetime(loan.issue_d, format='%b-%y')"
   ]
  },
  {
   "cell_type": "markdown",
   "metadata": {},
   "source": [
    "####  'int_rate' ,'revol_util' columns have '%' symbol which has to be removed so that our libraries treat them as float values"
   ]
  },
  {
   "cell_type": "code",
   "execution_count": 31,
   "metadata": {},
   "outputs": [],
   "source": [
    "loan['revol_util'] = loan.revol_util.str.strip('%').astype(float)\n",
    "loan['int_rate'] = loan.int_rate.str.strip('%').astype(float)"
   ]
  },
  {
   "cell_type": "markdown",
   "metadata": {},
   "source": [
    "## <font color='orange'>2c:Outlier Detection and handling</font>"
   ]
  },
  {
   "cell_type": "code",
   "execution_count": 32,
   "metadata": {},
   "outputs": [
    {
     "data": {
      "text/plain": [
       "<matplotlib.axes._subplots.AxesSubplot at 0x1c3b3c122e8>"
      ]
     },
     "execution_count": 32,
     "metadata": {},
     "output_type": "execute_result"
    },
    {
     "data": {
      "image/png": "[encoded data removed]",
      "text/plain": [
       "<Figure size 432x288 with 1 Axes>"
      ]
     },
     "metadata": {
      "needs_background": "light"
     },
     "output_type": "display_data"
    }
   ],
   "source": [
    "sns.boxplot(loan.dti)"
   ]
  },
  {
   "cell_type": "markdown",
   "metadata": {},
   "source": [
    "##### Observation:\n",
    "'dti' data looks good and does not contain outliers"
   ]
  },
  {
   "cell_type": "code",
   "execution_count": 33,
   "metadata": {},
   "outputs": [
    {
     "data": {
      "text/plain": [
       "<matplotlib.axes._subplots.AxesSubplot at 0x1c3b3beeef0>"
      ]
     },
     "execution_count": 33,
     "metadata": {},
     "output_type": "execute_result"
    },
    {
     "data": {
      "image/png": "[encoded data removed]",
      "text/plain": [
       "<Figure size 432x288 with 1 Axes>"
      ]
     },
     "metadata": {
      "needs_background": "light"
     },
     "output_type": "display_data"
    }
   ],
   "source": [
    "sns.boxplot(loan.loan_amnt)"
   ]
  },
  {
   "cell_type": "code",
   "execution_count": 34,
   "metadata": {},
   "outputs": [
    {
     "data": {
      "text/plain": [
       "<matplotlib.axes._subplots.AxesSubplot at 0x1c3b3788588>"
      ]
     },
     "execution_count": 34,
     "metadata": {},
     "output_type": "execute_result"
    },
    {
     "data": {
      "image/png": "[encoded data removed]",
      "text/plain": [
       "<Figure size 432x288 with 1 Axes>"
      ]
     },
     "metadata": {
      "needs_background": "light"
     },
     "output_type": "display_data"
    }
   ],
   "source": [
    "sns.boxplot(loan.funded_amnt)"
   ]
  },
  {
   "cell_type": "code",
   "execution_count": 35,
   "metadata": {},
   "outputs": [
    {
     "data": {
      "text/plain": [
       "<matplotlib.axes._subplots.AxesSubplot at 0x1c3b37ef978>"
      ]
     },
     "execution_count": 35,
     "metadata": {},
     "output_type": "execute_result"
    },
    {
     "data": {
      "image/png": "[encoded data removed]",
      "text/plain": [
       "<Figure size 432x288 with 1 Axes>"
      ]
     },
     "metadata": {
      "needs_background": "light"
     },
     "output_type": "display_data"
    }
   ],
   "source": [
    "sns.boxplot(loan.funded_amnt_inv)"
   ]
  },
  {
   "cell_type": "markdown",
   "metadata": {},
   "source": [
    "##### Observation:\n",
    "\n",
    "1.'loan_amnt' is the loan amount requested by a borrower;'funded_amnt' ,'funded_amnt_inv' are respectively the amount committed to the loan and amount committed by the investor.\n",
    "\n",
    "2. All the three graphs look consistent with each other and related to each other.In business terms it means that certain customers requested for higher loan and same was committed to them. \n",
    "\n",
    "3.Looking at the consistency of the three variables, in my opinion they dont need outlier treatment "
   ]
  },
  {
   "cell_type": "code",
   "execution_count": 36,
   "metadata": {},
   "outputs": [
    {
     "data": {
      "text/plain": [
       "<matplotlib.axes._subplots.AxesSubplot at 0x1c3b3860278>"
      ]
     },
     "execution_count": 36,
     "metadata": {},
     "output_type": "execute_result"
    },
    {
     "data": {
      "image/png": "[encoded data removed]",
      "text/plain": [
       "<Figure size 432x288 with 1 Axes>"
      ]
     },
     "metadata": {
      "needs_background": "light"
     },
     "output_type": "display_data"
    }
   ],
   "source": [
    "sns.boxplot(loan.annual_inc)"
   ]
  },
  {
   "cell_type": "code",
   "execution_count": 37,
   "metadata": {},
   "outputs": [
    {
     "data": {
      "text/plain": [
       "0.25      40000.0\n",
       "0.50      58868.0\n",
       "0.75      82000.0\n",
       "0.90     115000.0\n",
       "0.95     140004.0\n",
       "0.99     234144.0\n",
       "1.00    6000000.0\n",
       "Name: annual_inc, dtype: float64"
      ]
     },
     "execution_count": 37,
     "metadata": {},
     "output_type": "execute_result"
    }
   ],
   "source": [
    "loan.annual_inc.quantile([0.25,0.50, 0.75,0.90, 0.95, 0.99, 1.0])"
   ]
  },
  {
   "cell_type": "markdown",
   "metadata": {},
   "source": [
    "#### Observation:\n",
    "There are few outliers which will impact our analysis by skewing it ,so we will remove the outlier beyond quantile 0.9"
   ]
  },
  {
   "cell_type": "code",
   "execution_count": 38,
   "metadata": {},
   "outputs": [],
   "source": [
    "loan = loan[loan.annual_inc < loan['annual_inc'].quantile(0.90)]"
   ]
  },
  {
   "cell_type": "code",
   "execution_count": 39,
   "metadata": {},
   "outputs": [
    {
     "data": {
      "text/plain": [
       "<matplotlib.axes._subplots.AxesSubplot at 0x1c3afb79b38>"
      ]
     },
     "execution_count": 39,
     "metadata": {},
     "output_type": "execute_result"
    },
    {
     "data": {
      "image/png": "[encoded data removed]",
      "text/plain": [
       "<Figure size 432x288 with 1 Axes>"
      ]
     },
     "metadata": {
      "needs_background": "light"
     },
     "output_type": "display_data"
    }
   ],
   "source": [
    "sns.boxplot(loan.annual_inc)"
   ]
  },
  {
   "cell_type": "markdown",
   "metadata": {},
   "source": [
    "##### All the outliers are removed now from 'annual_inc'"
   ]
  },
  {
   "cell_type": "markdown",
   "metadata": {},
   "source": [
    "# <font color='green'>Step3:Data Analysis</font>"
   ]
  },
  {
   "cell_type": "markdown",
   "metadata": {},
   "source": [
    "## <font color='orange'>3a:Univariate & Segmented Univariate Analysis</font>"
   ]
  },
  {
   "cell_type": "markdown",
   "metadata": {},
   "source": [
    "### What percent of loan is Fully Paid vs. Charged Off"
   ]
  },
  {
   "cell_type": "code",
   "execution_count": 40,
   "metadata": {},
   "outputs": [
    {
     "data": {
      "image/png": "[encoded data removed]",
      "text/plain": [
       "<Figure size 720x432 with 1 Axes>"
      ]
     },
     "metadata": {
      "needs_background": "light"
     },
     "output_type": "display_data"
    }
   ],
   "source": [
    "fig, ax = plt.subplots(figsize = (10,6))\n",
    "sns.barplot(x='index', y='loan_status', data=loan['loan_status'].value_counts(normalize=True).reset_index())\n",
    "plt.xlabel('loan_status')\n",
    "plt.ylabel('Percent')\n",
    "plt.show()"
   ]
  },
  {
   "cell_type": "markdown",
   "metadata": {},
   "source": [
    "##### Observation:\n",
    "85% of the borrowers have fully paid the loan while around 15% is Charged Off"
   ]
  },
  {
   "cell_type": "markdown",
   "metadata": {},
   "source": [
    "### Analyzing loans taken for which pupose is 'Charged Off' most frequently"
   ]
  },
  {
   "cell_type": "code",
   "execution_count": 41,
   "metadata": {},
   "outputs": [
    {
     "data": {
      "text/plain": [
       "<matplotlib.axes._subplots.AxesSubplot at 0x1c3b16705c0>"
      ]
     },
     "execution_count": 41,
     "metadata": {},
     "output_type": "execute_result"
    },
    {
     "data": {
      "image/png": "[encoded data removed]",
      "text/plain": [
       "<Figure size 720x432 with 1 Axes>"
      ]
     },
     "metadata": {
      "needs_background": "light"
     },
     "output_type": "display_data"
    }
   ],
   "source": [
    "fig, ax = plt.subplots(figsize = (10,6))\n",
    "sns.countplot(y ='purpose', data=loan[loan.loan_status == 'Charged Off'])"
   ]
  },
  {
   "cell_type": "markdown",
   "metadata": {},
   "source": [
    "##### Observation:\n",
    "The loans taken for debt consolidation are Charged Off most often compared to loans taken for other purpose"
   ]
  },
  {
   "cell_type": "markdown",
   "metadata": {},
   "source": [
    "### Analyzing which term loans are'Charged Off' most frequently"
   ]
  },
  {
   "cell_type": "code",
   "execution_count": 42,
   "metadata": {},
   "outputs": [
    {
     "data": {
      "text/plain": [
       "<matplotlib.axes._subplots.AxesSubplot at 0x1c3b1719e80>"
      ]
     },
     "execution_count": 42,
     "metadata": {},
     "output_type": "execute_result"
    },
    {
     "data": {
      "image/png": "[encoded data removed]",
      "text/plain": [
       "<Figure size 720x432 with 1 Axes>"
      ]
     },
     "metadata": {
      "needs_background": "light"
     },
     "output_type": "display_data"
    }
   ],
   "source": [
    "fig, ax = plt.subplots(figsize = (10,6))\n",
    "sns.countplot(y ='term', data=loan[loan.loan_status == 'Charged Off'])"
   ]
  },
  {
   "cell_type": "markdown",
   "metadata": {},
   "source": [
    "##### Observation:\n",
    "36 months term loan are Charged Off more frequently than 60 months"
   ]
  },
  {
   "cell_type": "markdown",
   "metadata": {},
   "source": [
    "### Analyzing which 'grade' loans are'Charged Off' most frequently"
   ]
  },
  {
   "cell_type": "code",
   "execution_count": 43,
   "metadata": {},
   "outputs": [
    {
     "data": {
      "text/plain": [
       "<matplotlib.axes._subplots.AxesSubplot at 0x1c3b16cc6d8>"
      ]
     },
     "execution_count": 43,
     "metadata": {},
     "output_type": "execute_result"
    },
    {
     "data": {
      "image/png": "[encoded data removed]",
      "text/plain": [
       "<Figure size 720x432 with 1 Axes>"
      ]
     },
     "metadata": {
      "needs_background": "light"
     },
     "output_type": "display_data"
    }
   ],
   "source": [
    "fig, ax = plt.subplots(figsize = (10,6))\n",
    "sns.countplot(y ='grade', data=loan[loan.loan_status == 'Charged Off'])"
   ]
  },
  {
   "cell_type": "markdown",
   "metadata": {},
   "source": [
    "##### Observation:\n",
    "B,C followed by D grade loan are Charged Off more frequently compared to other grades"
   ]
  },
  {
   "cell_type": "markdown",
   "metadata": {},
   "source": [
    "### Analyzing which 'sub_grade' loans are'Charged Off' most frequently"
   ]
  },
  {
   "cell_type": "code",
   "execution_count": 44,
   "metadata": {},
   "outputs": [
    {
     "data": {
      "text/plain": [
       "<matplotlib.axes._subplots.AxesSubplot at 0x1c3b17d1b00>"
      ]
     },
     "execution_count": 44,
     "metadata": {},
     "output_type": "execute_result"
    },
    {
     "data": {
      "image/png": "[encoded data removed]",
      "text/plain": [
       "<Figure size 720x1440 with 1 Axes>"
      ]
     },
     "metadata": {
      "needs_background": "light"
     },
     "output_type": "display_data"
    }
   ],
   "source": [
    "fig, ax = plt.subplots(figsize = (10,20))\n",
    "sns.countplot(y ='sub_grade', data=loan[loan.loan_status == 'Charged Off'])"
   ]
  },
  {
   "cell_type": "markdown",
   "metadata": {},
   "source": [
    "##### Observation:\n",
    "B5 followed by B3 sub-grade loan are Charged Off more frequently compared to other sub-grades"
   ]
  },
  {
   "cell_type": "markdown",
   "metadata": {},
   "source": [
    "### Analyzing employees working for how long('emp_length') have loans which are'Charged Off' most often"
   ]
  },
  {
   "cell_type": "code",
   "execution_count": 45,
   "metadata": {},
   "outputs": [
    {
     "data": {
      "text/plain": [
       "<matplotlib.axes._subplots.AxesSubplot at 0x1c3b341f710>"
      ]
     },
     "execution_count": 45,
     "metadata": {},
     "output_type": "execute_result"
    },
    {
     "data": {
      "image/png": "[encoded data removed]",
      "text/plain": [
       "<Figure size 720x432 with 1 Axes>"
      ]
     },
     "metadata": {
      "needs_background": "light"
     },
     "output_type": "display_data"
    }
   ],
   "source": [
    "fig, ax = plt.subplots(figsize = (10,6))\n",
    "sns.countplot(y ='emp_length', data=loan[loan.loan_status == 'Charged Off'])"
   ]
  },
  {
   "cell_type": "markdown",
   "metadata": {},
   "source": [
    "##### Observation:\n",
    "Employees who are working for 10+ years have most 'Charged Off' loans"
   ]
  },
  {
   "cell_type": "markdown",
   "metadata": {},
   "source": [
    "### Analyzing loans in which state('addr_state') are 'Charged Off' most often "
   ]
  },
  {
   "cell_type": "code",
   "execution_count": 46,
   "metadata": {},
   "outputs": [
    {
     "data": {
      "text/plain": [
       "<matplotlib.axes._subplots.AxesSubplot at 0x1c3b3469be0>"
      ]
     },
     "execution_count": 46,
     "metadata": {},
     "output_type": "execute_result"
    },
    {
     "data": {
      "image/png": "[encoded data removed]",
      "text/plain": [
       "<Figure size 720x1440 with 1 Axes>"
      ]
     },
     "metadata": {
      "needs_background": "light"
     },
     "output_type": "display_data"
    }
   ],
   "source": [
    "fig, ax = plt.subplots(figsize = (10,20))\n",
    "sns.countplot(y ='addr_state', data=loan[loan.loan_status == 'Charged Off'])"
   ]
  },
  {
   "cell_type": "markdown",
   "metadata": {},
   "source": [
    "##### Observation:\n",
    "Loans in the state of CA(California) are \"Charged Off\" most often so banks in CA have to be more vigilant before sanctioning loan"
   ]
  },
  {
   "cell_type": "markdown",
   "metadata": {},
   "source": [
    "### Analyzing what 'verification_status' are 'Charged Off' most often "
   ]
  },
  {
   "cell_type": "code",
   "execution_count": 47,
   "metadata": {},
   "outputs": [
    {
     "data": {
      "text/plain": [
       "<matplotlib.axes._subplots.AxesSubplot at 0x1c3b35a98d0>"
      ]
     },
     "execution_count": 47,
     "metadata": {},
     "output_type": "execute_result"
    },
    {
     "data": {
      "image/png": "[encoded data removed]",
      "text/plain": [
       "<Figure size 720x432 with 1 Axes>"
      ]
     },
     "metadata": {
      "needs_background": "light"
     },
     "output_type": "display_data"
    }
   ],
   "source": [
    "fig, ax = plt.subplots(figsize = (10,6))\n",
    "sns.countplot(y ='verification_status', data=loan[loan.loan_status == 'Charged Off'])"
   ]
  },
  {
   "cell_type": "markdown",
   "metadata": {},
   "source": [
    "##### Observation:\n",
    "Loans with 'verification_status' as 'Not Verified' are 'Charged Off' most often"
   ]
  },
  {
   "cell_type": "markdown",
   "metadata": {},
   "source": [
    "### Analyzing borrowers with which 'home_ownership' are 'Charged Off' most often "
   ]
  },
  {
   "cell_type": "code",
   "execution_count": 48,
   "metadata": {},
   "outputs": [
    {
     "data": {
      "text/plain": [
       "<matplotlib.axes._subplots.AxesSubplot at 0x1c3b360b9b0>"
      ]
     },
     "execution_count": 48,
     "metadata": {},
     "output_type": "execute_result"
    },
    {
     "data": {
      "image/png": "[encoded data removed]",
      "text/plain": [
       "<Figure size 720x432 with 1 Axes>"
      ]
     },
     "metadata": {
      "needs_background": "light"
     },
     "output_type": "display_data"
    }
   ],
   "source": [
    "fig, ax = plt.subplots(figsize = (10,6))\n",
    "sns.countplot(y ='home_ownership', data=loan[loan.loan_status == 'Charged Off'])"
   ]
  },
  {
   "cell_type": "markdown",
   "metadata": {},
   "source": [
    "##### Observation:\n",
    "People who are in rented home are Charged Off most often"
   ]
  },
  {
   "cell_type": "markdown",
   "metadata": {},
   "source": [
    "## <font color='orange'>3b:Derived Variables</font>"
   ]
  },
  {
   "cell_type": "markdown",
   "metadata": {},
   "source": [
    "### Derive a variable to find what percent of loan requested was funded most commonly"
   ]
  },
  {
   "cell_type": "code",
   "execution_count": 49,
   "metadata": {},
   "outputs": [],
   "source": [
    "loan['percent_loan_funded'] = loan.funded_amnt_inv*100/loan.loan_amnt"
   ]
  },
  {
   "cell_type": "code",
   "execution_count": 50,
   "metadata": {},
   "outputs": [
    {
     "name": "stdout",
     "output_type": "stream",
     "text": [
      "100.000000    17534\n",
      "99.500000       320\n",
      "99.750000       317\n",
      "99.583333       280\n",
      "99.791667       221\n",
      "99.375000       205\n",
      "98.750000       203\n",
      "99.166667       203\n",
      "99.000000       200\n",
      "97.500000       177\n",
      "98.333333       174\n",
      "99.687500       153\n",
      "99.833333       150\n",
      "99.875000       146\n",
      "95.000000       136\n",
      "97.916667       133\n",
      "0.000000        122\n",
      "99.642857       117\n",
      "99.666667       108\n",
      "99.900000        97\n",
      "98.000000        95\n",
      "95.833333        88\n",
      "99.843750        87\n",
      "99.285714        81\n",
      "99.722222        81\n",
      "98.500000        77\n",
      "96.666667        68\n",
      "98.437500        67\n",
      "98.958333        67\n",
      "93.750000        64\n",
      "              ...  \n",
      "92.333991         1\n",
      "95.670103         1\n",
      "22.878571         1\n",
      "94.922551         1\n",
      "99.436069         1\n",
      "78.982417         1\n",
      "23.269048         1\n",
      "58.461457         1\n",
      "63.606557         1\n",
      "97.003280         1\n",
      "60.586452         1\n",
      "62.307692         1\n",
      "0.000130          1\n",
      "99.810964         1\n",
      "97.689076         1\n",
      "99.147727         1\n",
      "96.414000         1\n",
      "12.996802         1\n",
      "10.125000         1\n",
      "63.000000         1\n",
      "66.484656         1\n",
      "94.529191         1\n",
      "84.353183         1\n",
      "99.603997         1\n",
      "21.330400         1\n",
      "24.226667         1\n",
      "87.775348         1\n",
      "99.734396         1\n",
      "97.613289         1\n",
      "22.088353         1\n",
      "Name: percent_loan_funded, Length: 8561, dtype: int64\n"
     ]
    }
   ],
   "source": [
    "print(loan['percent_loan_funded'].value_counts())"
   ]
  },
  {
   "cell_type": "markdown",
   "metadata": {},
   "source": [
    "##### Observation:\n",
    "Most commonly 100% of the requested loan amount was funded by investors"
   ]
  },
  {
   "cell_type": "markdown",
   "metadata": {},
   "source": [
    "### Derive a variable to find how many times your 'annual_inc' should be of loan amount approved by investors('funded_amnt_inv') "
   ]
  },
  {
   "cell_type": "code",
   "execution_count": 51,
   "metadata": {},
   "outputs": [],
   "source": [
    "loan['times_income_fundedloan'] = round(loan.annual_inc/loan.funded_amnt_inv)"
   ]
  },
  {
   "cell_type": "code",
   "execution_count": 52,
   "metadata": {},
   "outputs": [
    {
     "name": "stdout",
     "output_type": "stream",
     "text": [
      "4.0            4656\n",
      "3.0            4300\n",
      "5.0            4039\n",
      "6.0            3300\n",
      "7.0            2543\n",
      "8.0            2245\n",
      "2.0            1695\n",
      "9.0            1631\n",
      "10.0           1473\n",
      "11.0           1092\n",
      "12.0            989\n",
      "13.0            708\n",
      "14.0            648\n",
      "15.0            521\n",
      "16.0            464\n",
      "17.0            422\n",
      "18.0            384\n",
      "19.0            287\n",
      "20.0            286\n",
      "22.0            244\n",
      "21.0            192\n",
      "24.0            173\n",
      "23.0            141\n",
      "25.0            139\n",
      "inf             122\n",
      "28.0            113\n",
      "26.0            113\n",
      "30.0            108\n",
      "27.0            104\n",
      "32.0             86\n",
      "               ... \n",
      "429.0             1\n",
      "155.0             1\n",
      "104.0             1\n",
      "116.0             1\n",
      "120.0             1\n",
      "132.0             1\n",
      "222.0             1\n",
      "8039176.0         1\n",
      "789.0             1\n",
      "225.0             1\n",
      "5494917.0         1\n",
      "250.0             1\n",
      "126.0             1\n",
      "122.0             1\n",
      "226.0             1\n",
      "309.0             1\n",
      "24425577.0        1\n",
      "364.0             1\n",
      "312.0             1\n",
      "111.0             1\n",
      "999.0             1\n",
      "114.0             1\n",
      "348.0             1\n",
      "464.0             1\n",
      "249.0             1\n",
      "454177608.0       1\n",
      "204.0             1\n",
      "1000.0            1\n",
      "801.0             1\n",
      "3326.0            1\n",
      "Name: times_income_fundedloan, Length: 235, dtype: int64\n"
     ]
    }
   ],
   "source": [
    "print(loan['times_income_fundedloan'].value_counts())"
   ]
  },
  {
   "cell_type": "markdown",
   "metadata": {},
   "source": [
    "##### Observation:\n",
    "Most commonly the annual income of the borrower is 3,4 or 5 times of the  loan amount approved by investors"
   ]
  },
  {
   "cell_type": "markdown",
   "metadata": {},
   "source": [
    "### Derive variables to get loan issue('issue_d') month and year"
   ]
  },
  {
   "cell_type": "code",
   "execution_count": 53,
   "metadata": {},
   "outputs": [],
   "source": [
    "loan['issue_year'] = loan['issue_d'].dt.year \n",
    "loan['issue_month'] = loan['issue_d'].dt.month "
   ]
  },
  {
   "cell_type": "markdown",
   "metadata": {},
   "source": [
    "### Analyzing numeric variables by binning them"
   ]
  },
  {
   "cell_type": "code",
   "execution_count": 54,
   "metadata": {},
   "outputs": [],
   "source": [
    "#Create bins for interest rate and annual income\n",
    "loan['int_rate_bins'] = pd.cut(loan['int_rate'], bins=4,precision =0,labels=['5%-10%','11%-16%','17%-22%','23%-28%'])\n",
    "loan['annual_inc_bins'] = pd.cut(loan['annual_inc'], bins=5,precision =0,labels =['3k-30k','31k-58k','59k-86k','87k-114k','115k-142k'])\n"
   ]
  },
  {
   "cell_type": "markdown",
   "metadata": {},
   "source": [
    "### Analyzing borrowers in which interest rate group are 'Charged Off' most often "
   ]
  },
  {
   "cell_type": "code",
   "execution_count": 55,
   "metadata": {},
   "outputs": [
    {
     "data": {
      "text/plain": [
       "<matplotlib.axes._subplots.AxesSubplot at 0x1c3b35ba198>"
      ]
     },
     "execution_count": 55,
     "metadata": {},
     "output_type": "execute_result"
    },
    {
     "data": {
      "image/png": "[encoded data removed]",
      "text/plain": [
       "<Figure size 720x432 with 1 Axes>"
      ]
     },
     "metadata": {
      "needs_background": "light"
     },
     "output_type": "display_data"
    }
   ],
   "source": [
    "fig, ax = plt.subplots(figsize = (10,6))\n",
    "sns.countplot(y ='int_rate_bins', data=loan[loan.loan_status == 'Charged Off'])"
   ]
  },
  {
   "cell_type": "markdown",
   "metadata": {},
   "source": [
    "##### Observation:\n",
    "Borrowers in interest rate group 11%-16% are most often 'Charged-Off'"
   ]
  },
  {
   "cell_type": "markdown",
   "metadata": {},
   "source": [
    "### Analyzing borrowers in which Annual income group are 'Charged Off' most often "
   ]
  },
  {
   "cell_type": "code",
   "execution_count": 56,
   "metadata": {},
   "outputs": [
    {
     "data": {
      "text/plain": [
       "<matplotlib.axes._subplots.AxesSubplot at 0x1c3b3c42cf8>"
      ]
     },
     "execution_count": 56,
     "metadata": {},
     "output_type": "execute_result"
    },
    {
     "data": {
      "image/png": "[encoded data removed]",
      "text/plain": [
       "<Figure size 720x432 with 1 Axes>"
      ]
     },
     "metadata": {
      "needs_background": "light"
     },
     "output_type": "display_data"
    }
   ],
   "source": [
    "fig, ax = plt.subplots(figsize = (10,6))\n",
    "sns.countplot(y ='annual_inc_bins', data=loan[loan.loan_status == 'Charged Off'])"
   ]
  },
  {
   "cell_type": "markdown",
   "metadata": {},
   "source": [
    "##### Observation:\n",
    "Borrowers with annual income in the range 31K-58K are most often 'Charged-Off'"
   ]
  },
  {
   "cell_type": "code",
   "execution_count": 57,
   "metadata": {},
   "outputs": [],
   "source": [
    "### Analyzing in which month and year maximum loan was'Charged Off'"
   ]
  },
  {
   "cell_type": "code",
   "execution_count": 58,
   "metadata": {},
   "outputs": [
    {
     "data": {
      "text/plain": [
       "<matplotlib.axes._subplots.AxesSubplot at 0x1c3b39bda90>"
      ]
     },
     "execution_count": 58,
     "metadata": {},
     "output_type": "execute_result"
    },
    {
     "data": {
      "image/png": "[encoded data removed]",
      "text/plain": [
       "<Figure size 720x432 with 1 Axes>"
      ]
     },
     "metadata": {
      "needs_background": "light"
     },
     "output_type": "display_data"
    }
   ],
   "source": [
    "fig, ax = plt.subplots(figsize = (10,6))\n",
    "sns.countplot(y ='issue_year', data=loan[loan.loan_status == 'Charged Off'])"
   ]
  },
  {
   "cell_type": "markdown",
   "metadata": {},
   "source": [
    "##### Observation:\n",
    "Most loans were charged off in the year 2011"
   ]
  },
  {
   "cell_type": "code",
   "execution_count": 59,
   "metadata": {},
   "outputs": [
    {
     "data": {
      "text/plain": [
       "<matplotlib.axes._subplots.AxesSubplot at 0x1c3b3a27550>"
      ]
     },
     "execution_count": 59,
     "metadata": {},
     "output_type": "execute_result"
    },
    {
     "data": {
      "image/png": "[encoded data removed]",
      "text/plain": [
       "<Figure size 720x432 with 1 Axes>"
      ]
     },
     "metadata": {
      "needs_background": "light"
     },
     "output_type": "display_data"
    }
   ],
   "source": [
    "fig, ax = plt.subplots(figsize = (10,6))\n",
    "sns.countplot(y ='issue_month', data=loan[loan.loan_status == 'Charged Off'])"
   ]
  },
  {
   "cell_type": "markdown",
   "metadata": {},
   "source": [
    "##### Observation:\n",
    "Most loans were charged off in the 12th month i.e December"
   ]
  },
  {
   "cell_type": "markdown",
   "metadata": {},
   "source": [
    "## <font color='red'>Factors leading to higher Charge-off based on Univariate & Segmented Univariate analysis--\n",
    "\n",
    "1.\t85% of the borrowers have fully paid the loan while around 15% is Charged Off.\n",
    "2.\tThe loans taken for debt consolidation are Charged Off most often compared to loans taken for other purpose.\n",
    "3.\t36 months term loan are Charged Off more frequently than 60 months.\n",
    "4.\tLoans of Grades B,C followed by D are Charged Off more frequently compared to other grades.\n",
    "5.\tLoans of sub-grade B5 followed by B3 are Charged Off more frequently compared to other sub-grades.\n",
    "6.\tEmployees who are working for 10+ years have most 'Charged Off' loans.\n",
    "7.\tLoans in the state of CA(California) are 'Charged Off' most often so banks in CA have to be more vigilant. \n",
    "8.\tLoans with verification_status as 'Not Verified' are 'Charged Off' most often.\n",
    "9.  People who live in rented home are Charged Off most often.\n",
    "10. Most commonly 100% of the requested loan amount was funded by investors.\n",
    "11. Most commonly the annual income of the borrower is 3,4 or 5 times of the loan amount approved by investors.\n",
    "12. Borrowers in interest rate group 11%-16% are most often 'Charged-Off'.\n",
    "13. Borrowers with annual income in the range 31K-58K are most often 'Charged-Off'.\n",
    "14. Most loans were charged off in the year 2011.\n",
    "15. Most loans were charged off in the December month.</font>\n",
    "\n"
   ]
  },
  {
   "cell_type": "markdown",
   "metadata": {},
   "source": [
    "## <font color='orange'>3c:Bivariate Analysis</font>"
   ]
  },
  {
   "cell_type": "markdown",
   "metadata": {},
   "source": [
    "### Correlation Matrix"
   ]
  },
  {
   "cell_type": "code",
   "execution_count": 60,
   "metadata": {},
   "outputs": [
    {
     "data": {
      "text/plain": [
       "id                                  int64\n",
       "loan_amnt                           int64\n",
       "funded_amnt                         int64\n",
       "funded_amnt_inv                   float64\n",
       "term                               object\n",
       "int_rate                          float64\n",
       "installment                       float64\n",
       "grade                              object\n",
       "sub_grade                          object\n",
       "emp_length                         object\n",
       "home_ownership                     object\n",
       "annual_inc                        float64\n",
       "verification_status                object\n",
       "issue_d                    datetime64[ns]\n",
       "loan_status                        object\n",
       "purpose                            object\n",
       "title                              object\n",
       "zip_code                           object\n",
       "addr_state                         object\n",
       "dti                               float64\n",
       "delinq_2yrs                         int64\n",
       "earliest_cr_line           datetime64[ns]\n",
       "inq_last_6mths                      int64\n",
       "open_acc                            int64\n",
       "pub_rec                             int64\n",
       "revol_bal                           int64\n",
       "revol_util                        float64\n",
       "total_acc                           int64\n",
       "total_pymnt                       float64\n",
       "total_pymnt_inv                   float64\n",
       "last_pymnt_amnt                   float64\n",
       "pub_rec_bankruptcies              float64\n",
       "percent_loan_funded               float64\n",
       "times_income_fundedloan           float64\n",
       "issue_year                          int64\n",
       "issue_month                         int64\n",
       "int_rate_bins                    category\n",
       "annual_inc_bins                  category\n",
       "dtype: object"
      ]
     },
     "execution_count": 60,
     "metadata": {},
     "output_type": "execute_result"
    }
   ],
   "source": [
    "#Check which columns are numerical\n",
    "loan.dtypes"
   ]
  },
  {
   "cell_type": "code",
   "execution_count": 61,
   "metadata": {},
   "outputs": [
    {
     "data": {
      "text/html": [
       "<style  type=\"text/css\" >\n",
       "    #T_e7b86a18_c8da_11ed_a891_bc542f299c57row0_col0 {\n",
       "            background-color:  #b40426;\n",
       "            color:  #f1f1f1;\n",
       "        }    #T_e7b86a18_c8da_11ed_a891_bc542f299c57row0_col1 {\n",
       "            background-color:  #ba162b;\n",
       "            color:  #f1f1f1;\n",
       "        }    #T_e7b86a18_c8da_11ed_a891_bc542f299c57row0_col2 {\n",
       "            background-color:  #ca3b37;\n",
       "            color:  #f1f1f1;\n",
       "        }    #T_e7b86a18_c8da_11ed_a891_bc542f299c57row0_col3 {\n",
       "            background-color:  #aac7fd;\n",
       "            color:  #000000;\n",
       "        }    #T_e7b86a18_c8da_11ed_a891_bc542f299c57row0_col4 {\n",
       "            background-color:  #cb3e38;\n",
       "            color:  #f1f1f1;\n",
       "        }    #T_e7b86a18_c8da_11ed_a891_bc542f299c57row0_col5 {\n",
       "            background-color:  #c6d6f1;\n",
       "            color:  #000000;\n",
       "        }    #T_e7b86a18_c8da_11ed_a891_bc542f299c57row0_col6 {\n",
       "            background-color:  #6788ee;\n",
       "            color:  #000000;\n",
       "        }    #T_e7b86a18_c8da_11ed_a891_bc542f299c57row0_col7 {\n",
       "            background-color:  #4257c9;\n",
       "            color:  #f1f1f1;\n",
       "        }    #T_e7b86a18_c8da_11ed_a891_bc542f299c57row0_col8 {\n",
       "            background-color:  #4f69d9;\n",
       "            color:  #000000;\n",
       "        }    #T_e7b86a18_c8da_11ed_a891_bc542f299c57row0_col9 {\n",
       "            background-color:  #89acfd;\n",
       "            color:  #000000;\n",
       "        }    #T_e7b86a18_c8da_11ed_a891_bc542f299c57row0_col10 {\n",
       "            background-color:  #3e51c5;\n",
       "            color:  #f1f1f1;\n",
       "        }    #T_e7b86a18_c8da_11ed_a891_bc542f299c57row0_col11 {\n",
       "            background-color:  #b2ccfb;\n",
       "            color:  #000000;\n",
       "        }    #T_e7b86a18_c8da_11ed_a891_bc542f299c57row0_col12 {\n",
       "            background-color:  #6c8ff1;\n",
       "            color:  #000000;\n",
       "        }    #T_e7b86a18_c8da_11ed_a891_bc542f299c57row0_col13 {\n",
       "            background-color:  #9dbdff;\n",
       "            color:  #000000;\n",
       "        }    #T_e7b86a18_c8da_11ed_a891_bc542f299c57row0_col14 {\n",
       "            background-color:  #dd5f4b;\n",
       "            color:  #000000;\n",
       "        }    #T_e7b86a18_c8da_11ed_a891_bc542f299c57row0_col15 {\n",
       "            background-color:  #e57058;\n",
       "            color:  #000000;\n",
       "        }    #T_e7b86a18_c8da_11ed_a891_bc542f299c57row0_col16 {\n",
       "            background-color:  #d6dce4;\n",
       "            color:  #000000;\n",
       "        }    #T_e7b86a18_c8da_11ed_a891_bc542f299c57row0_col17 {\n",
       "            background-color:  #3e51c5;\n",
       "            color:  #f1f1f1;\n",
       "        }    #T_e7b86a18_c8da_11ed_a891_bc542f299c57row0_col18 {\n",
       "            background-color:  #6b8df0;\n",
       "            color:  #000000;\n",
       "        }    #T_e7b86a18_c8da_11ed_a891_bc542f299c57row0_col19 {\n",
       "            background-color:  #516ddb;\n",
       "            color:  #000000;\n",
       "        }    #T_e7b86a18_c8da_11ed_a891_bc542f299c57row1_col0 {\n",
       "            background-color:  #ba162b;\n",
       "            color:  #f1f1f1;\n",
       "        }    #T_e7b86a18_c8da_11ed_a891_bc542f299c57row1_col1 {\n",
       "            background-color:  #b40426;\n",
       "            color:  #f1f1f1;\n",
       "        }    #T_e7b86a18_c8da_11ed_a891_bc542f299c57row1_col2 {\n",
       "            background-color:  #c43032;\n",
       "            color:  #f1f1f1;\n",
       "        }    #T_e7b86a18_c8da_11ed_a891_bc542f299c57row1_col3 {\n",
       "            background-color:  #abc8fd;\n",
       "            color:  #000000;\n",
       "        }    #T_e7b86a18_c8da_11ed_a891_bc542f299c57row1_col4 {\n",
       "            background-color:  #c32e31;\n",
       "            color:  #f1f1f1;\n",
       "        }    #T_e7b86a18_c8da_11ed_a891_bc542f299c57row1_col5 {\n",
       "            background-color:  #c5d6f2;\n",
       "            color:  #000000;\n",
       "        }    #T_e7b86a18_c8da_11ed_a891_bc542f299c57row1_col6 {\n",
       "            background-color:  #6788ee;\n",
       "            color:  #000000;\n",
       "        }    #T_e7b86a18_c8da_11ed_a891_bc542f299c57row1_col7 {\n",
       "            background-color:  #4257c9;\n",
       "            color:  #f1f1f1;\n",
       "        }    #T_e7b86a18_c8da_11ed_a891_bc542f299c57row1_col8 {\n",
       "            background-color:  #4f69d9;\n",
       "            color:  #000000;\n",
       "        }    #T_e7b86a18_c8da_11ed_a891_bc542f299c57row1_col9 {\n",
       "            background-color:  #89acfd;\n",
       "            color:  #000000;\n",
       "        }    #T_e7b86a18_c8da_11ed_a891_bc542f299c57row1_col10 {\n",
       "            background-color:  #3e51c5;\n",
       "            color:  #f1f1f1;\n",
       "        }    #T_e7b86a18_c8da_11ed_a891_bc542f299c57row1_col11 {\n",
       "            background-color:  #afcafc;\n",
       "            color:  #000000;\n",
       "        }    #T_e7b86a18_c8da_11ed_a891_bc542f299c57row1_col12 {\n",
       "            background-color:  #6e90f2;\n",
       "            color:  #000000;\n",
       "        }    #T_e7b86a18_c8da_11ed_a891_bc542f299c57row1_col13 {\n",
       "            background-color:  #9abbff;\n",
       "            color:  #000000;\n",
       "        }    #T_e7b86a18_c8da_11ed_a891_bc542f299c57row1_col14 {\n",
       "            background-color:  #d85646;\n",
       "            color:  #000000;\n",
       "        }    #T_e7b86a18_c8da_11ed_a891_bc542f299c57row1_col15 {\n",
       "            background-color:  #e26952;\n",
       "            color:  #000000;\n",
       "        }    #T_e7b86a18_c8da_11ed_a891_bc542f299c57row1_col16 {\n",
       "            background-color:  #d7dce3;\n",
       "            color:  #000000;\n",
       "        }    #T_e7b86a18_c8da_11ed_a891_bc542f299c57row1_col17 {\n",
       "            background-color:  #3e51c5;\n",
       "            color:  #f1f1f1;\n",
       "        }    #T_e7b86a18_c8da_11ed_a891_bc542f299c57row1_col18 {\n",
       "            background-color:  #6f92f3;\n",
       "            color:  #000000;\n",
       "        }    #T_e7b86a18_c8da_11ed_a891_bc542f299c57row1_col19 {\n",
       "            background-color:  #4f69d9;\n",
       "            color:  #000000;\n",
       "        }    #T_e7b86a18_c8da_11ed_a891_bc542f299c57row2_col0 {\n",
       "            background-color:  #ca3b37;\n",
       "            color:  #f1f1f1;\n",
       "        }    #T_e7b86a18_c8da_11ed_a891_bc542f299c57row2_col1 {\n",
       "            background-color:  #c43032;\n",
       "            color:  #f1f1f1;\n",
       "        }    #T_e7b86a18_c8da_11ed_a891_bc542f299c57row2_col2 {\n",
       "            background-color:  #b40426;\n",
       "            color:  #f1f1f1;\n",
       "        }    #T_e7b86a18_c8da_11ed_a891_bc542f299c57row2_col3 {\n",
       "            background-color:  #aac7fd;\n",
       "            color:  #000000;\n",
       "        }    #T_e7b86a18_c8da_11ed_a891_bc542f299c57row2_col4 {\n",
       "            background-color:  #d55042;\n",
       "            color:  #000000;\n",
       "        }    #T_e7b86a18_c8da_11ed_a891_bc542f299c57row2_col5 {\n",
       "            background-color:  #c0d4f5;\n",
       "            color:  #000000;\n",
       "        }    #T_e7b86a18_c8da_11ed_a891_bc542f299c57row2_col6 {\n",
       "            background-color:  #688aef;\n",
       "            color:  #000000;\n",
       "        }    #T_e7b86a18_c8da_11ed_a891_bc542f299c57row2_col7 {\n",
       "            background-color:  #4055c8;\n",
       "            color:  #f1f1f1;\n",
       "        }    #T_e7b86a18_c8da_11ed_a891_bc542f299c57row2_col8 {\n",
       "            background-color:  #4a63d3;\n",
       "            color:  #f1f1f1;\n",
       "        }    #T_e7b86a18_c8da_11ed_a891_bc542f299c57row2_col9 {\n",
       "            background-color:  #85a8fc;\n",
       "            color:  #000000;\n",
       "        }    #T_e7b86a18_c8da_11ed_a891_bc542f299c57row2_col10 {\n",
       "            background-color:  #3d50c3;\n",
       "            color:  #f1f1f1;\n",
       "        }    #T_e7b86a18_c8da_11ed_a891_bc542f299c57row2_col11 {\n",
       "            background-color:  #aac7fd;\n",
       "            color:  #000000;\n",
       "        }    #T_e7b86a18_c8da_11ed_a891_bc542f299c57row2_col12 {\n",
       "            background-color:  #6f92f3;\n",
       "            color:  #000000;\n",
       "        }    #T_e7b86a18_c8da_11ed_a891_bc542f299c57row2_col13 {\n",
       "            background-color:  #98b9ff;\n",
       "            color:  #000000;\n",
       "        }    #T_e7b86a18_c8da_11ed_a891_bc542f299c57row2_col14 {\n",
       "            background-color:  #df634e;\n",
       "            color:  #000000;\n",
       "        }    #T_e7b86a18_c8da_11ed_a891_bc542f299c57row2_col15 {\n",
       "            background-color:  #d55042;\n",
       "            color:  #000000;\n",
       "        }    #T_e7b86a18_c8da_11ed_a891_bc542f299c57row2_col16 {\n",
       "            background-color:  #d6dce4;\n",
       "            color:  #000000;\n",
       "        }    #T_e7b86a18_c8da_11ed_a891_bc542f299c57row2_col17 {\n",
       "            background-color:  #3e51c5;\n",
       "            color:  #f1f1f1;\n",
       "        }    #T_e7b86a18_c8da_11ed_a891_bc542f299c57row2_col18 {\n",
       "            background-color:  #9dbdff;\n",
       "            color:  #000000;\n",
       "        }    #T_e7b86a18_c8da_11ed_a891_bc542f299c57row2_col19 {\n",
       "            background-color:  #5875e1;\n",
       "            color:  #000000;\n",
       "        }    #T_e7b86a18_c8da_11ed_a891_bc542f299c57row3_col0 {\n",
       "            background-color:  #a2c1ff;\n",
       "            color:  #000000;\n",
       "        }    #T_e7b86a18_c8da_11ed_a891_bc542f299c57row3_col1 {\n",
       "            background-color:  #a5c3fe;\n",
       "            color:  #000000;\n",
       "        }    #T_e7b86a18_c8da_11ed_a891_bc542f299c57row3_col2 {\n",
       "            background-color:  #a3c2fe;\n",
       "            color:  #000000;\n",
       "        }    #T_e7b86a18_c8da_11ed_a891_bc542f299c57row3_col3 {\n",
       "            background-color:  #b40426;\n",
       "            color:  #f1f1f1;\n",
       "        }    #T_e7b86a18_c8da_11ed_a891_bc542f299c57row3_col4 {\n",
       "            background-color:  #9bbcff;\n",
       "            color:  #000000;\n",
       "        }    #T_e7b86a18_c8da_11ed_a891_bc542f299c57row3_col5 {\n",
       "            background-color:  #5572df;\n",
       "            color:  #000000;\n",
       "        }    #T_e7b86a18_c8da_11ed_a891_bc542f299c57row3_col6 {\n",
       "            background-color:  #6788ee;\n",
       "            color:  #000000;\n",
       "        }    #T_e7b86a18_c8da_11ed_a891_bc542f299c57row3_col7 {\n",
       "            background-color:  #7da0f9;\n",
       "            color:  #000000;\n",
       "        }    #T_e7b86a18_c8da_11ed_a891_bc542f299c57row3_col8 {\n",
       "            background-color:  #779af7;\n",
       "            color:  #000000;\n",
       "        }    #T_e7b86a18_c8da_11ed_a891_bc542f299c57row3_col9 {\n",
       "            background-color:  #516ddb;\n",
       "            color:  #000000;\n",
       "        }    #T_e7b86a18_c8da_11ed_a891_bc542f299c57row3_col10 {\n",
       "            background-color:  #6b8df0;\n",
       "            color:  #000000;\n",
       "        }    #T_e7b86a18_c8da_11ed_a891_bc542f299c57row3_col11 {\n",
       "            background-color:  #6384eb;\n",
       "            color:  #000000;\n",
       "        }    #T_e7b86a18_c8da_11ed_a891_bc542f299c57row3_col12 {\n",
       "            background-color:  #e0dbd8;\n",
       "            color:  #000000;\n",
       "        }    #T_e7b86a18_c8da_11ed_a891_bc542f299c57row3_col13 {\n",
       "            background-color:  #3d50c3;\n",
       "            color:  #f1f1f1;\n",
       "        }    #T_e7b86a18_c8da_11ed_a891_bc542f299c57row3_col14 {\n",
       "            background-color:  #9ebeff;\n",
       "            color:  #000000;\n",
       "        }    #T_e7b86a18_c8da_11ed_a891_bc542f299c57row3_col15 {\n",
       "            background-color:  #9dbdff;\n",
       "            color:  #000000;\n",
       "        }    #T_e7b86a18_c8da_11ed_a891_bc542f299c57row3_col16 {\n",
       "            background-color:  #7396f5;\n",
       "            color:  #000000;\n",
       "        }    #T_e7b86a18_c8da_11ed_a891_bc542f299c57row3_col17 {\n",
       "            background-color:  #6282ea;\n",
       "            color:  #000000;\n",
       "        }    #T_e7b86a18_c8da_11ed_a891_bc542f299c57row3_col18 {\n",
       "            background-color:  #5572df;\n",
       "            color:  #000000;\n",
       "        }    #T_e7b86a18_c8da_11ed_a891_bc542f299c57row3_col19 {\n",
       "            background-color:  #4b64d5;\n",
       "            color:  #f1f1f1;\n",
       "        }    #T_e7b86a18_c8da_11ed_a891_bc542f299c57row4_col0 {\n",
       "            background-color:  #cb3e38;\n",
       "            color:  #f1f1f1;\n",
       "        }    #T_e7b86a18_c8da_11ed_a891_bc542f299c57row4_col1 {\n",
       "            background-color:  #c32e31;\n",
       "            color:  #f1f1f1;\n",
       "        }    #T_e7b86a18_c8da_11ed_a891_bc542f299c57row4_col2 {\n",
       "            background-color:  #d55042;\n",
       "            color:  #000000;\n",
       "        }    #T_e7b86a18_c8da_11ed_a891_bc542f299c57row4_col3 {\n",
       "            background-color:  #a3c2fe;\n",
       "            color:  #000000;\n",
       "        }    #T_e7b86a18_c8da_11ed_a891_bc542f299c57row4_col4 {\n",
       "            background-color:  #b40426;\n",
       "            color:  #f1f1f1;\n",
       "        }    #T_e7b86a18_c8da_11ed_a891_bc542f299c57row4_col5 {\n",
       "            background-color:  #c4d5f3;\n",
       "            color:  #000000;\n",
       "        }    #T_e7b86a18_c8da_11ed_a891_bc542f299c57row4_col6 {\n",
       "            background-color:  #6384eb;\n",
       "            color:  #000000;\n",
       "        }    #T_e7b86a18_c8da_11ed_a891_bc542f299c57row4_col7 {\n",
       "            background-color:  #455cce;\n",
       "            color:  #f1f1f1;\n",
       "        }    #T_e7b86a18_c8da_11ed_a891_bc542f299c57row4_col8 {\n",
       "            background-color:  #4e68d8;\n",
       "            color:  #000000;\n",
       "        }    #T_e7b86a18_c8da_11ed_a891_bc542f299c57row4_col9 {\n",
       "            background-color:  #86a9fc;\n",
       "            color:  #000000;\n",
       "        }    #T_e7b86a18_c8da_11ed_a891_bc542f299c57row4_col10 {\n",
       "            background-color:  #3f53c6;\n",
       "            color:  #f1f1f1;\n",
       "        }    #T_e7b86a18_c8da_11ed_a891_bc542f299c57row4_col11 {\n",
       "            background-color:  #afcafc;\n",
       "            color:  #000000;\n",
       "        }    #T_e7b86a18_c8da_11ed_a891_bc542f299c57row4_col12 {\n",
       "            background-color:  #779af7;\n",
       "            color:  #000000;\n",
       "        }    #T_e7b86a18_c8da_11ed_a891_bc542f299c57row4_col13 {\n",
       "            background-color:  #93b5fe;\n",
       "            color:  #000000;\n",
       "        }    #T_e7b86a18_c8da_11ed_a891_bc542f299c57row4_col14 {\n",
       "            background-color:  #e36b54;\n",
       "            color:  #000000;\n",
       "        }    #T_e7b86a18_c8da_11ed_a891_bc542f299c57row4_col15 {\n",
       "            background-color:  #eb7d62;\n",
       "            color:  #000000;\n",
       "        }    #T_e7b86a18_c8da_11ed_a891_bc542f299c57row4_col16 {\n",
       "            background-color:  #c5d6f2;\n",
       "            color:  #000000;\n",
       "        }    #T_e7b86a18_c8da_11ed_a891_bc542f299c57row4_col17 {\n",
       "            background-color:  #3f53c6;\n",
       "            color:  #f1f1f1;\n",
       "        }    #T_e7b86a18_c8da_11ed_a891_bc542f299c57row4_col18 {\n",
       "            background-color:  #5977e3;\n",
       "            color:  #000000;\n",
       "        }    #T_e7b86a18_c8da_11ed_a891_bc542f299c57row4_col19 {\n",
       "            background-color:  #4b64d5;\n",
       "            color:  #f1f1f1;\n",
       "        }    #T_e7b86a18_c8da_11ed_a891_bc542f299c57row5_col0 {\n",
       "            background-color:  #c6d6f1;\n",
       "            color:  #000000;\n",
       "        }    #T_e7b86a18_c8da_11ed_a891_bc542f299c57row5_col1 {\n",
       "            background-color:  #c5d6f2;\n",
       "            color:  #000000;\n",
       "        }    #T_e7b86a18_c8da_11ed_a891_bc542f299c57row5_col2 {\n",
       "            background-color:  #c0d4f5;\n",
       "            color:  #000000;\n",
       "        }    #T_e7b86a18_c8da_11ed_a891_bc542f299c57row5_col3 {\n",
       "            background-color:  #5d7ce6;\n",
       "            color:  #000000;\n",
       "        }    #T_e7b86a18_c8da_11ed_a891_bc542f299c57row5_col4 {\n",
       "            background-color:  #c3d5f4;\n",
       "            color:  #000000;\n",
       "        }    #T_e7b86a18_c8da_11ed_a891_bc542f299c57row5_col5 {\n",
       "            background-color:  #b40426;\n",
       "            color:  #f1f1f1;\n",
       "        }    #T_e7b86a18_c8da_11ed_a891_bc542f299c57row5_col6 {\n",
       "            background-color:  #3b4cc0;\n",
       "            color:  #f1f1f1;\n",
       "        }    #T_e7b86a18_c8da_11ed_a891_bc542f299c57row5_col7 {\n",
       "            background-color:  #5572df;\n",
       "            color:  #000000;\n",
       "        }    #T_e7b86a18_c8da_11ed_a891_bc542f299c57row5_col8 {\n",
       "            background-color:  #5673e0;\n",
       "            color:  #000000;\n",
       "        }    #T_e7b86a18_c8da_11ed_a891_bc542f299c57row5_col9 {\n",
       "            background-color:  #aac7fd;\n",
       "            color:  #000000;\n",
       "        }    #T_e7b86a18_c8da_11ed_a891_bc542f299c57row5_col10 {\n",
       "            background-color:  #4b64d5;\n",
       "            color:  #f1f1f1;\n",
       "        }    #T_e7b86a18_c8da_11ed_a891_bc542f299c57row5_col11 {\n",
       "            background-color:  #c4d5f3;\n",
       "            color:  #000000;\n",
       "        }    #T_e7b86a18_c8da_11ed_a891_bc542f299c57row5_col12 {\n",
       "            background-color:  #6485ec;\n",
       "            color:  #000000;\n",
       "        }    #T_e7b86a18_c8da_11ed_a891_bc542f299c57row5_col13 {\n",
       "            background-color:  #c9d7f0;\n",
       "            color:  #000000;\n",
       "        }    #T_e7b86a18_c8da_11ed_a891_bc542f299c57row5_col14 {\n",
       "            background-color:  #bfd3f6;\n",
       "            color:  #000000;\n",
       "        }    #T_e7b86a18_c8da_11ed_a891_bc542f299c57row5_col15 {\n",
       "            background-color:  #bbd1f8;\n",
       "            color:  #000000;\n",
       "        }    #T_e7b86a18_c8da_11ed_a891_bc542f299c57row5_col16 {\n",
       "            background-color:  #85a8fc;\n",
       "            color:  #000000;\n",
       "        }    #T_e7b86a18_c8da_11ed_a891_bc542f299c57row5_col17 {\n",
       "            background-color:  #485fd1;\n",
       "            color:  #f1f1f1;\n",
       "        }    #T_e7b86a18_c8da_11ed_a891_bc542f299c57row5_col18 {\n",
       "            background-color:  #5875e1;\n",
       "            color:  #000000;\n",
       "        }    #T_e7b86a18_c8da_11ed_a891_bc542f299c57row5_col19 {\n",
       "            background-color:  #465ecf;\n",
       "            color:  #f1f1f1;\n",
       "        }    #T_e7b86a18_c8da_11ed_a891_bc542f299c57row6_col0 {\n",
       "            background-color:  #6788ee;\n",
       "            color:  #000000;\n",
       "        }    #T_e7b86a18_c8da_11ed_a891_bc542f299c57row6_col1 {\n",
       "            background-color:  #6687ed;\n",
       "            color:  #000000;\n",
       "        }    #T_e7b86a18_c8da_11ed_a891_bc542f299c57row6_col2 {\n",
       "            background-color:  #6a8bef;\n",
       "            color:  #000000;\n",
       "        }    #T_e7b86a18_c8da_11ed_a891_bc542f299c57row6_col3 {\n",
       "            background-color:  #6f92f3;\n",
       "            color:  #000000;\n",
       "        }    #T_e7b86a18_c8da_11ed_a891_bc542f299c57row6_col4 {\n",
       "            background-color:  #6282ea;\n",
       "            color:  #000000;\n",
       "        }    #T_e7b86a18_c8da_11ed_a891_bc542f299c57row6_col5 {\n",
       "            background-color:  #3b4cc0;\n",
       "            color:  #f1f1f1;\n",
       "        }    #T_e7b86a18_c8da_11ed_a891_bc542f299c57row6_col6 {\n",
       "            background-color:  #b40426;\n",
       "            color:  #f1f1f1;\n",
       "        }    #T_e7b86a18_c8da_11ed_a891_bc542f299c57row6_col7 {\n",
       "            background-color:  #455cce;\n",
       "            color:  #f1f1f1;\n",
       "        }    #T_e7b86a18_c8da_11ed_a891_bc542f299c57row6_col8 {\n",
       "            background-color:  #506bda;\n",
       "            color:  #000000;\n",
       "        }    #T_e7b86a18_c8da_11ed_a891_bc542f299c57row6_col9 {\n",
       "            background-color:  #b5cdfa;\n",
       "            color:  #000000;\n",
       "        }    #T_e7b86a18_c8da_11ed_a891_bc542f299c57row6_col10 {\n",
       "            background-color:  #4961d2;\n",
       "            color:  #f1f1f1;\n",
       "        }    #T_e7b86a18_c8da_11ed_a891_bc542f299c57row6_col11 {\n",
       "            background-color:  #aac7fd;\n",
       "            color:  #000000;\n",
       "        }    #T_e7b86a18_c8da_11ed_a891_bc542f299c57row6_col12 {\n",
       "            background-color:  #adc9fd;\n",
       "            color:  #000000;\n",
       "        }    #T_e7b86a18_c8da_11ed_a891_bc542f299c57row6_col13 {\n",
       "            background-color:  #a2c1ff;\n",
       "            color:  #000000;\n",
       "        }    #T_e7b86a18_c8da_11ed_a891_bc542f299c57row6_col14 {\n",
       "            background-color:  #6687ed;\n",
       "            color:  #000000;\n",
       "        }    #T_e7b86a18_c8da_11ed_a891_bc542f299c57row6_col15 {\n",
       "            background-color:  #6788ee;\n",
       "            color:  #000000;\n",
       "        }    #T_e7b86a18_c8da_11ed_a891_bc542f299c57row6_col16 {\n",
       "            background-color:  #4b64d5;\n",
       "            color:  #f1f1f1;\n",
       "        }    #T_e7b86a18_c8da_11ed_a891_bc542f299c57row6_col17 {\n",
       "            background-color:  #485fd1;\n",
       "            color:  #f1f1f1;\n",
       "        }    #T_e7b86a18_c8da_11ed_a891_bc542f299c57row6_col18 {\n",
       "            background-color:  #688aef;\n",
       "            color:  #000000;\n",
       "        }    #T_e7b86a18_c8da_11ed_a891_bc542f299c57row6_col19 {\n",
       "            background-color:  #4961d2;\n",
       "            color:  #f1f1f1;\n",
       "        }    #T_e7b86a18_c8da_11ed_a891_bc542f299c57row7_col0 {\n",
       "            background-color:  #3b4cc0;\n",
       "            color:  #f1f1f1;\n",
       "        }    #T_e7b86a18_c8da_11ed_a891_bc542f299c57row7_col1 {\n",
       "            background-color:  #3b4cc0;\n",
       "            color:  #f1f1f1;\n",
       "        }    #T_e7b86a18_c8da_11ed_a891_bc542f299c57row7_col2 {\n",
       "            background-color:  #3b4cc0;\n",
       "            color:  #f1f1f1;\n",
       "        }    #T_e7b86a18_c8da_11ed_a891_bc542f299c57row7_col3 {\n",
       "            background-color:  #80a3fa;\n",
       "            color:  #000000;\n",
       "        }    #T_e7b86a18_c8da_11ed_a891_bc542f299c57row7_col4 {\n",
       "            background-color:  #3d50c3;\n",
       "            color:  #f1f1f1;\n",
       "        }    #T_e7b86a18_c8da_11ed_a891_bc542f299c57row7_col5 {\n",
       "            background-color:  #4e68d8;\n",
       "            color:  #000000;\n",
       "        }    #T_e7b86a18_c8da_11ed_a891_bc542f299c57row7_col6 {\n",
       "            background-color:  #3e51c5;\n",
       "            color:  #f1f1f1;\n",
       "        }    #T_e7b86a18_c8da_11ed_a891_bc542f299c57row7_col7 {\n",
       "            background-color:  #b40426;\n",
       "            color:  #f1f1f1;\n",
       "        }    #T_e7b86a18_c8da_11ed_a891_bc542f299c57row7_col8 {\n",
       "            background-color:  #506bda;\n",
       "            color:  #000000;\n",
       "        }    #T_e7b86a18_c8da_11ed_a891_bc542f299c57row7_col9 {\n",
       "            background-color:  #5b7ae5;\n",
       "            color:  #000000;\n",
       "        }    #T_e7b86a18_c8da_11ed_a891_bc542f299c57row7_col10 {\n",
       "            background-color:  #4e68d8;\n",
       "            color:  #000000;\n",
       "        }    #T_e7b86a18_c8da_11ed_a891_bc542f299c57row7_col11 {\n",
       "            background-color:  #3b4cc0;\n",
       "            color:  #f1f1f1;\n",
       "        }    #T_e7b86a18_c8da_11ed_a891_bc542f299c57row7_col12 {\n",
       "            background-color:  #4a63d3;\n",
       "            color:  #f1f1f1;\n",
       "        }    #T_e7b86a18_c8da_11ed_a891_bc542f299c57row7_col13 {\n",
       "            background-color:  #6687ed;\n",
       "            color:  #000000;\n",
       "        }    #T_e7b86a18_c8da_11ed_a891_bc542f299c57row7_col14 {\n",
       "            background-color:  #3e51c5;\n",
       "            color:  #f1f1f1;\n",
       "        }    #T_e7b86a18_c8da_11ed_a891_bc542f299c57row7_col15 {\n",
       "            background-color:  #3d50c3;\n",
       "            color:  #f1f1f1;\n",
       "        }    #T_e7b86a18_c8da_11ed_a891_bc542f299c57row7_col16 {\n",
       "            background-color:  #3d50c3;\n",
       "            color:  #f1f1f1;\n",
       "        }    #T_e7b86a18_c8da_11ed_a891_bc542f299c57row7_col17 {\n",
       "            background-color:  #485fd1;\n",
       "            color:  #f1f1f1;\n",
       "        }    #T_e7b86a18_c8da_11ed_a891_bc542f299c57row7_col18 {\n",
       "            background-color:  #4b64d5;\n",
       "            color:  #f1f1f1;\n",
       "        }    #T_e7b86a18_c8da_11ed_a891_bc542f299c57row7_col19 {\n",
       "            background-color:  #4055c8;\n",
       "            color:  #f1f1f1;\n",
       "        }    #T_e7b86a18_c8da_11ed_a891_bc542f299c57row8_col0 {\n",
       "            background-color:  #485fd1;\n",
       "            color:  #f1f1f1;\n",
       "        }    #T_e7b86a18_c8da_11ed_a891_bc542f299c57row8_col1 {\n",
       "            background-color:  #485fd1;\n",
       "            color:  #f1f1f1;\n",
       "        }    #T_e7b86a18_c8da_11ed_a891_bc542f299c57row8_col2 {\n",
       "            background-color:  #445acc;\n",
       "            color:  #f1f1f1;\n",
       "        }    #T_e7b86a18_c8da_11ed_a891_bc542f299c57row8_col3 {\n",
       "            background-color:  #799cf8;\n",
       "            color:  #000000;\n",
       "        }    #T_e7b86a18_c8da_11ed_a891_bc542f299c57row8_col4 {\n",
       "            background-color:  #465ecf;\n",
       "            color:  #f1f1f1;\n",
       "        }    #T_e7b86a18_c8da_11ed_a891_bc542f299c57row8_col5 {\n",
       "            background-color:  #506bda;\n",
       "            color:  #000000;\n",
       "        }    #T_e7b86a18_c8da_11ed_a891_bc542f299c57row8_col6 {\n",
       "            background-color:  #4961d2;\n",
       "            color:  #f1f1f1;\n",
       "        }    #T_e7b86a18_c8da_11ed_a891_bc542f299c57row8_col7 {\n",
       "            background-color:  #506bda;\n",
       "            color:  #000000;\n",
       "        }    #T_e7b86a18_c8da_11ed_a891_bc542f299c57row8_col8 {\n",
       "            background-color:  #b40426;\n",
       "            color:  #f1f1f1;\n",
       "        }    #T_e7b86a18_c8da_11ed_a891_bc542f299c57row8_col9 {\n",
       "            background-color:  #7396f5;\n",
       "            color:  #000000;\n",
       "        }    #T_e7b86a18_c8da_11ed_a891_bc542f299c57row8_col10 {\n",
       "            background-color:  #536edd;\n",
       "            color:  #000000;\n",
       "        }    #T_e7b86a18_c8da_11ed_a891_bc542f299c57row8_col11 {\n",
       "            background-color:  #465ecf;\n",
       "            color:  #f1f1f1;\n",
       "        }    #T_e7b86a18_c8da_11ed_a891_bc542f299c57row8_col12 {\n",
       "            background-color:  #445acc;\n",
       "            color:  #f1f1f1;\n",
       "        }    #T_e7b86a18_c8da_11ed_a891_bc542f299c57row8_col13 {\n",
       "            background-color:  #7396f5;\n",
       "            color:  #000000;\n",
       "        }    #T_e7b86a18_c8da_11ed_a891_bc542f299c57row8_col14 {\n",
       "            background-color:  #4257c9;\n",
       "            color:  #f1f1f1;\n",
       "        }    #T_e7b86a18_c8da_11ed_a891_bc542f299c57row8_col15 {\n",
       "            background-color:  #3f53c6;\n",
       "            color:  #f1f1f1;\n",
       "        }    #T_e7b86a18_c8da_11ed_a891_bc542f299c57row8_col16 {\n",
       "            background-color:  #485fd1;\n",
       "            color:  #f1f1f1;\n",
       "        }    #T_e7b86a18_c8da_11ed_a891_bc542f299c57row8_col17 {\n",
       "            background-color:  #4b64d5;\n",
       "            color:  #f1f1f1;\n",
       "        }    #T_e7b86a18_c8da_11ed_a891_bc542f299c57row8_col18 {\n",
       "            background-color:  #3b4cc0;\n",
       "            color:  #f1f1f1;\n",
       "        }    #T_e7b86a18_c8da_11ed_a891_bc542f299c57row8_col19 {\n",
       "            background-color:  #485fd1;\n",
       "            color:  #f1f1f1;\n",
       "        }    #T_e7b86a18_c8da_11ed_a891_bc542f299c57row9_col0 {\n",
       "            background-color:  #7a9df8;\n",
       "            color:  #000000;\n",
       "        }    #T_e7b86a18_c8da_11ed_a891_bc542f299c57row9_col1 {\n",
       "            background-color:  #799cf8;\n",
       "            color:  #000000;\n",
       "        }    #T_e7b86a18_c8da_11ed_a891_bc542f299c57row9_col2 {\n",
       "            background-color:  #7699f6;\n",
       "            color:  #000000;\n",
       "        }    #T_e7b86a18_c8da_11ed_a891_bc542f299c57row9_col3 {\n",
       "            background-color:  #4a63d3;\n",
       "            color:  #f1f1f1;\n",
       "        }    #T_e7b86a18_c8da_11ed_a891_bc542f299c57row9_col4 {\n",
       "            background-color:  #7699f6;\n",
       "            color:  #000000;\n",
       "        }    #T_e7b86a18_c8da_11ed_a891_bc542f299c57row9_col5 {\n",
       "            background-color:  #9ebeff;\n",
       "            color:  #000000;\n",
       "        }    #T_e7b86a18_c8da_11ed_a891_bc542f299c57row9_col6 {\n",
       "            background-color:  #a9c6fd;\n",
       "            color:  #000000;\n",
       "        }    #T_e7b86a18_c8da_11ed_a891_bc542f299c57row9_col7 {\n",
       "            background-color:  #536edd;\n",
       "            color:  #000000;\n",
       "        }    #T_e7b86a18_c8da_11ed_a891_bc542f299c57row9_col8 {\n",
       "            background-color:  #6a8bef;\n",
       "            color:  #000000;\n",
       "        }    #T_e7b86a18_c8da_11ed_a891_bc542f299c57row9_col9 {\n",
       "            background-color:  #b40426;\n",
       "            color:  #f1f1f1;\n",
       "        }    #T_e7b86a18_c8da_11ed_a891_bc542f299c57row9_col10 {\n",
       "            background-color:  #4c66d6;\n",
       "            color:  #000000;\n",
       "        }    #T_e7b86a18_c8da_11ed_a891_bc542f299c57row9_col11 {\n",
       "            background-color:  #a7c5fe;\n",
       "            color:  #000000;\n",
       "        }    #T_e7b86a18_c8da_11ed_a891_bc542f299c57row9_col12 {\n",
       "            background-color:  #3b4cc0;\n",
       "            color:  #f1f1f1;\n",
       "        }    #T_e7b86a18_c8da_11ed_a891_bc542f299c57row9_col13 {\n",
       "            background-color:  #f7a98b;\n",
       "            color:  #000000;\n",
       "        }    #T_e7b86a18_c8da_11ed_a891_bc542f299c57row9_col14 {\n",
       "            background-color:  #7597f6;\n",
       "            color:  #000000;\n",
       "        }    #T_e7b86a18_c8da_11ed_a891_bc542f299c57row9_col15 {\n",
       "            background-color:  #7295f4;\n",
       "            color:  #000000;\n",
       "        }    #T_e7b86a18_c8da_11ed_a891_bc542f299c57row9_col16 {\n",
       "            background-color:  #5977e3;\n",
       "            color:  #000000;\n",
       "        }    #T_e7b86a18_c8da_11ed_a891_bc542f299c57row9_col17 {\n",
       "            background-color:  #4a63d3;\n",
       "            color:  #f1f1f1;\n",
       "        }    #T_e7b86a18_c8da_11ed_a891_bc542f299c57row9_col18 {\n",
       "            background-color:  #4f69d9;\n",
       "            color:  #000000;\n",
       "        }    #T_e7b86a18_c8da_11ed_a891_bc542f299c57row9_col19 {\n",
       "            background-color:  #4358cb;\n",
       "            color:  #f1f1f1;\n",
       "        }    #T_e7b86a18_c8da_11ed_a891_bc542f299c57row10_col0 {\n",
       "            background-color:  #3b4cc0;\n",
       "            color:  #f1f1f1;\n",
       "        }    #T_e7b86a18_c8da_11ed_a891_bc542f299c57row10_col1 {\n",
       "            background-color:  #3b4cc0;\n",
       "            color:  #f1f1f1;\n",
       "        }    #T_e7b86a18_c8da_11ed_a891_bc542f299c57row10_col2 {\n",
       "            background-color:  #3b4cc0;\n",
       "            color:  #f1f1f1;\n",
       "        }    #T_e7b86a18_c8da_11ed_a891_bc542f299c57row10_col3 {\n",
       "            background-color:  #6f92f3;\n",
       "            color:  #000000;\n",
       "        }    #T_e7b86a18_c8da_11ed_a891_bc542f299c57row10_col4 {\n",
       "            background-color:  #3b4cc0;\n",
       "            color:  #f1f1f1;\n",
       "        }    #T_e7b86a18_c8da_11ed_a891_bc542f299c57row10_col5 {\n",
       "            background-color:  #465ecf;\n",
       "            color:  #f1f1f1;\n",
       "        }    #T_e7b86a18_c8da_11ed_a891_bc542f299c57row10_col6 {\n",
       "            background-color:  #445acc;\n",
       "            color:  #f1f1f1;\n",
       "        }    #T_e7b86a18_c8da_11ed_a891_bc542f299c57row10_col7 {\n",
       "            background-color:  #506bda;\n",
       "            color:  #000000;\n",
       "        }    #T_e7b86a18_c8da_11ed_a891_bc542f299c57row10_col8 {\n",
       "            background-color:  #5572df;\n",
       "            color:  #000000;\n",
       "        }    #T_e7b86a18_c8da_11ed_a891_bc542f299c57row10_col9 {\n",
       "            background-color:  #5977e3;\n",
       "            color:  #000000;\n",
       "        }    #T_e7b86a18_c8da_11ed_a891_bc542f299c57row10_col10 {\n",
       "            background-color:  #b40426;\n",
       "            color:  #f1f1f1;\n",
       "        }    #T_e7b86a18_c8da_11ed_a891_bc542f299c57row10_col11 {\n",
       "            background-color:  #3d50c3;\n",
       "            color:  #f1f1f1;\n",
       "        }    #T_e7b86a18_c8da_11ed_a891_bc542f299c57row10_col12 {\n",
       "            background-color:  #688aef;\n",
       "            color:  #000000;\n",
       "        }    #T_e7b86a18_c8da_11ed_a891_bc542f299c57row10_col13 {\n",
       "            background-color:  #4e68d8;\n",
       "            color:  #000000;\n",
       "        }    #T_e7b86a18_c8da_11ed_a891_bc542f299c57row10_col14 {\n",
       "            background-color:  #3b4cc0;\n",
       "            color:  #f1f1f1;\n",
       "        }    #T_e7b86a18_c8da_11ed_a891_bc542f299c57row10_col15 {\n",
       "            background-color:  #3b4cc0;\n",
       "            color:  #f1f1f1;\n",
       "        }    #T_e7b86a18_c8da_11ed_a891_bc542f299c57row10_col16 {\n",
       "            background-color:  #3b4cc0;\n",
       "            color:  #f1f1f1;\n",
       "        }    #T_e7b86a18_c8da_11ed_a891_bc542f299c57row10_col17 {\n",
       "            background-color:  #e36c55;\n",
       "            color:  #000000;\n",
       "        }    #T_e7b86a18_c8da_11ed_a891_bc542f299c57row10_col18 {\n",
       "            background-color:  #4a63d3;\n",
       "            color:  #f1f1f1;\n",
       "        }    #T_e7b86a18_c8da_11ed_a891_bc542f299c57row10_col19 {\n",
       "            background-color:  #3d50c3;\n",
       "            color:  #f1f1f1;\n",
       "        }    #T_e7b86a18_c8da_11ed_a891_bc542f299c57row11_col0 {\n",
       "            background-color:  #adc9fd;\n",
       "            color:  #000000;\n",
       "        }    #T_e7b86a18_c8da_11ed_a891_bc542f299c57row11_col1 {\n",
       "            background-color:  #aac7fd;\n",
       "            color:  #000000;\n",
       "        }    #T_e7b86a18_c8da_11ed_a891_bc542f299c57row11_col2 {\n",
       "            background-color:  #a5c3fe;\n",
       "            color:  #000000;\n",
       "        }    #T_e7b86a18_c8da_11ed_a891_bc542f299c57row11_col3 {\n",
       "            background-color:  #6485ec;\n",
       "            color:  #000000;\n",
       "        }    #T_e7b86a18_c8da_11ed_a891_bc542f299c57row11_col4 {\n",
       "            background-color:  #a9c6fd;\n",
       "            color:  #000000;\n",
       "        }    #T_e7b86a18_c8da_11ed_a891_bc542f299c57row11_col5 {\n",
       "            background-color:  #bfd3f6;\n",
       "            color:  #000000;\n",
       "        }    #T_e7b86a18_c8da_11ed_a891_bc542f299c57row11_col6 {\n",
       "            background-color:  #a5c3fe;\n",
       "            color:  #000000;\n",
       "        }    #T_e7b86a18_c8da_11ed_a891_bc542f299c57row11_col7 {\n",
       "            background-color:  #3b4cc0;\n",
       "            color:  #f1f1f1;\n",
       "        }    #T_e7b86a18_c8da_11ed_a891_bc542f299c57row11_col8 {\n",
       "            background-color:  #465ecf;\n",
       "            color:  #f1f1f1;\n",
       "        }    #T_e7b86a18_c8da_11ed_a891_bc542f299c57row11_col9 {\n",
       "            background-color:  #afcafc;\n",
       "            color:  #000000;\n",
       "        }    #T_e7b86a18_c8da_11ed_a891_bc542f299c57row11_col10 {\n",
       "            background-color:  #3b4cc0;\n",
       "            color:  #f1f1f1;\n",
       "        }    #T_e7b86a18_c8da_11ed_a891_bc542f299c57row11_col11 {\n",
       "            background-color:  #b40426;\n",
       "            color:  #f1f1f1;\n",
       "        }    #T_e7b86a18_c8da_11ed_a891_bc542f299c57row11_col12 {\n",
       "            background-color:  #bbd1f8;\n",
       "            color:  #000000;\n",
       "        }    #T_e7b86a18_c8da_11ed_a891_bc542f299c57row11_col13 {\n",
       "            background-color:  #b2ccfb;\n",
       "            color:  #000000;\n",
       "        }    #T_e7b86a18_c8da_11ed_a891_bc542f299c57row11_col14 {\n",
       "            background-color:  #a2c1ff;\n",
       "            color:  #000000;\n",
       "        }    #T_e7b86a18_c8da_11ed_a891_bc542f299c57row11_col15 {\n",
       "            background-color:  #9dbdff;\n",
       "            color:  #000000;\n",
       "        }    #T_e7b86a18_c8da_11ed_a891_bc542f299c57row11_col16 {\n",
       "            background-color:  #6788ee;\n",
       "            color:  #000000;\n",
       "        }    #T_e7b86a18_c8da_11ed_a891_bc542f299c57row11_col17 {\n",
       "            background-color:  #3b4cc0;\n",
       "            color:  #f1f1f1;\n",
       "        }    #T_e7b86a18_c8da_11ed_a891_bc542f299c57row11_col18 {\n",
       "            background-color:  #4a63d3;\n",
       "            color:  #f1f1f1;\n",
       "        }    #T_e7b86a18_c8da_11ed_a891_bc542f299c57row11_col19 {\n",
       "            background-color:  #4961d2;\n",
       "            color:  #f1f1f1;\n",
       "        }    #T_e7b86a18_c8da_11ed_a891_bc542f299c57row12_col0 {\n",
       "            background-color:  #5d7ce6;\n",
       "            color:  #000000;\n",
       "        }    #T_e7b86a18_c8da_11ed_a891_bc542f299c57row12_col1 {\n",
       "            background-color:  #5e7de7;\n",
       "            color:  #000000;\n",
       "        }    #T_e7b86a18_c8da_11ed_a891_bc542f299c57row12_col2 {\n",
       "            background-color:  #6180e9;\n",
       "            color:  #000000;\n",
       "        }    #T_e7b86a18_c8da_11ed_a891_bc542f299c57row12_col3 {\n",
       "            background-color:  #dddcdc;\n",
       "            color:  #000000;\n",
       "        }    #T_e7b86a18_c8da_11ed_a891_bc542f299c57row12_col4 {\n",
       "            background-color:  #6687ed;\n",
       "            color:  #000000;\n",
       "        }    #T_e7b86a18_c8da_11ed_a891_bc542f299c57row12_col5 {\n",
       "            background-color:  #5572df;\n",
       "            color:  #000000;\n",
       "        }    #T_e7b86a18_c8da_11ed_a891_bc542f299c57row12_col6 {\n",
       "            background-color:  #9fbfff;\n",
       "            color:  #000000;\n",
       "        }    #T_e7b86a18_c8da_11ed_a891_bc542f299c57row12_col7 {\n",
       "            background-color:  #4257c9;\n",
       "            color:  #f1f1f1;\n",
       "        }    #T_e7b86a18_c8da_11ed_a891_bc542f299c57row12_col8 {\n",
       "            background-color:  #3b4cc0;\n",
       "            color:  #f1f1f1;\n",
       "        }    #T_e7b86a18_c8da_11ed_a891_bc542f299c57row12_col9 {\n",
       "            background-color:  #3b4cc0;\n",
       "            color:  #f1f1f1;\n",
       "        }    #T_e7b86a18_c8da_11ed_a891_bc542f299c57row12_col10 {\n",
       "            background-color:  #5d7ce6;\n",
       "            color:  #000000;\n",
       "        }    #T_e7b86a18_c8da_11ed_a891_bc542f299c57row12_col11 {\n",
       "            background-color:  #b5cdfa;\n",
       "            color:  #000000;\n",
       "        }    #T_e7b86a18_c8da_11ed_a891_bc542f299c57row12_col12 {\n",
       "            background-color:  #b40426;\n",
       "            color:  #f1f1f1;\n",
       "        }    #T_e7b86a18_c8da_11ed_a891_bc542f299c57row12_col13 {\n",
       "            background-color:  #3b4cc0;\n",
       "            color:  #f1f1f1;\n",
       "        }    #T_e7b86a18_c8da_11ed_a891_bc542f299c57row12_col14 {\n",
       "            background-color:  #5f7fe8;\n",
       "            color:  #000000;\n",
       "        }    #T_e7b86a18_c8da_11ed_a891_bc542f299c57row12_col15 {\n",
       "            background-color:  #6180e9;\n",
       "            color:  #000000;\n",
       "        }    #T_e7b86a18_c8da_11ed_a891_bc542f299c57row12_col16 {\n",
       "            background-color:  #3f53c6;\n",
       "            color:  #f1f1f1;\n",
       "        }    #T_e7b86a18_c8da_11ed_a891_bc542f299c57row12_col17 {\n",
       "            background-color:  #5977e3;\n",
       "            color:  #000000;\n",
       "        }    #T_e7b86a18_c8da_11ed_a891_bc542f299c57row12_col18 {\n",
       "            background-color:  #6180e9;\n",
       "            color:  #000000;\n",
       "        }    #T_e7b86a18_c8da_11ed_a891_bc542f299c57row12_col19 {\n",
       "            background-color:  #536edd;\n",
       "            color:  #000000;\n",
       "        }    #T_e7b86a18_c8da_11ed_a891_bc542f299c57row13_col0 {\n",
       "            background-color:  #92b4fe;\n",
       "            color:  #000000;\n",
       "        }    #T_e7b86a18_c8da_11ed_a891_bc542f299c57row13_col1 {\n",
       "            background-color:  #90b2fe;\n",
       "            color:  #000000;\n",
       "        }    #T_e7b86a18_c8da_11ed_a891_bc542f299c57row13_col2 {\n",
       "            background-color:  #8fb1fe;\n",
       "            color:  #000000;\n",
       "        }    #T_e7b86a18_c8da_11ed_a891_bc542f299c57row13_col3 {\n",
       "            background-color:  #3b4cc0;\n",
       "            color:  #f1f1f1;\n",
       "        }    #T_e7b86a18_c8da_11ed_a891_bc542f299c57row13_col4 {\n",
       "            background-color:  #86a9fc;\n",
       "            color:  #000000;\n",
       "        }    #T_e7b86a18_c8da_11ed_a891_bc542f299c57row13_col5 {\n",
       "            background-color:  #c3d5f4;\n",
       "            color:  #000000;\n",
       "        }    #T_e7b86a18_c8da_11ed_a891_bc542f299c57row13_col6 {\n",
       "            background-color:  #98b9ff;\n",
       "            color:  #000000;\n",
       "        }    #T_e7b86a18_c8da_11ed_a891_bc542f299c57row13_col7 {\n",
       "            background-color:  #6282ea;\n",
       "            color:  #000000;\n",
       "        }    #T_e7b86a18_c8da_11ed_a891_bc542f299c57row13_col8 {\n",
       "            background-color:  #6f92f3;\n",
       "            color:  #000000;\n",
       "        }    #T_e7b86a18_c8da_11ed_a891_bc542f299c57row13_col9 {\n",
       "            background-color:  #f7a889;\n",
       "            color:  #000000;\n",
       "        }    #T_e7b86a18_c8da_11ed_a891_bc542f299c57row13_col10 {\n",
       "            background-color:  #465ecf;\n",
       "            color:  #f1f1f1;\n",
       "        }    #T_e7b86a18_c8da_11ed_a891_bc542f299c57row13_col11 {\n",
       "            background-color:  #afcafc;\n",
       "            color:  #000000;\n",
       "        }    #T_e7b86a18_c8da_11ed_a891_bc542f299c57row13_col12 {\n",
       "            background-color:  #3f53c6;\n",
       "            color:  #f1f1f1;\n",
       "        }    #T_e7b86a18_c8da_11ed_a891_bc542f299c57row13_col13 {\n",
       "            background-color:  #b40426;\n",
       "            color:  #f1f1f1;\n",
       "        }    #T_e7b86a18_c8da_11ed_a891_bc542f299c57row13_col14 {\n",
       "            background-color:  #86a9fc;\n",
       "            color:  #000000;\n",
       "        }    #T_e7b86a18_c8da_11ed_a891_bc542f299c57row13_col15 {\n",
       "            background-color:  #86a9fc;\n",
       "            color:  #000000;\n",
       "        }    #T_e7b86a18_c8da_11ed_a891_bc542f299c57row13_col16 {\n",
       "            background-color:  #7396f5;\n",
       "            color:  #000000;\n",
       "        }    #T_e7b86a18_c8da_11ed_a891_bc542f299c57row13_col17 {\n",
       "            background-color:  #465ecf;\n",
       "            color:  #f1f1f1;\n",
       "        }    #T_e7b86a18_c8da_11ed_a891_bc542f299c57row13_col18 {\n",
       "            background-color:  #5b7ae5;\n",
       "            color:  #000000;\n",
       "        }    #T_e7b86a18_c8da_11ed_a891_bc542f299c57row13_col19 {\n",
       "            background-color:  #445acc;\n",
       "            color:  #f1f1f1;\n",
       "        }    #T_e7b86a18_c8da_11ed_a891_bc542f299c57row14_col0 {\n",
       "            background-color:  #dd5f4b;\n",
       "            color:  #000000;\n",
       "        }    #T_e7b86a18_c8da_11ed_a891_bc542f299c57row14_col1 {\n",
       "            background-color:  #d85646;\n",
       "            color:  #000000;\n",
       "        }    #T_e7b86a18_c8da_11ed_a891_bc542f299c57row14_col2 {\n",
       "            background-color:  #df634e;\n",
       "            color:  #000000;\n",
       "        }    #T_e7b86a18_c8da_11ed_a891_bc542f299c57row14_col3 {\n",
       "            background-color:  #a5c3fe;\n",
       "            color:  #000000;\n",
       "        }    #T_e7b86a18_c8da_11ed_a891_bc542f299c57row14_col4 {\n",
       "            background-color:  #e36b54;\n",
       "            color:  #000000;\n",
       "        }    #T_e7b86a18_c8da_11ed_a891_bc542f299c57row14_col5 {\n",
       "            background-color:  #bfd3f6;\n",
       "            color:  #000000;\n",
       "        }    #T_e7b86a18_c8da_11ed_a891_bc542f299c57row14_col6 {\n",
       "            background-color:  #6485ec;\n",
       "            color:  #000000;\n",
       "        }    #T_e7b86a18_c8da_11ed_a891_bc542f299c57row14_col7 {\n",
       "            background-color:  #445acc;\n",
       "            color:  #f1f1f1;\n",
       "        }    #T_e7b86a18_c8da_11ed_a891_bc542f299c57row14_col8 {\n",
       "            background-color:  #485fd1;\n",
       "            color:  #f1f1f1;\n",
       "        }    #T_e7b86a18_c8da_11ed_a891_bc542f299c57row14_col9 {\n",
       "            background-color:  #84a7fc;\n",
       "            color:  #000000;\n",
       "        }    #T_e7b86a18_c8da_11ed_a891_bc542f299c57row14_col10 {\n",
       "            background-color:  #3d50c3;\n",
       "            color:  #f1f1f1;\n",
       "        }    #T_e7b86a18_c8da_11ed_a891_bc542f299c57row14_col11 {\n",
       "            background-color:  #a7c5fe;\n",
       "            color:  #000000;\n",
       "        }    #T_e7b86a18_c8da_11ed_a891_bc542f299c57row14_col12 {\n",
       "            background-color:  #6f92f3;\n",
       "            color:  #000000;\n",
       "        }    #T_e7b86a18_c8da_11ed_a891_bc542f299c57row14_col13 {\n",
       "            background-color:  #90b2fe;\n",
       "            color:  #000000;\n",
       "        }    #T_e7b86a18_c8da_11ed_a891_bc542f299c57row14_col14 {\n",
       "            background-color:  #b40426;\n",
       "            color:  #f1f1f1;\n",
       "        }    #T_e7b86a18_c8da_11ed_a891_bc542f299c57row14_col15 {\n",
       "            background-color:  #be242e;\n",
       "            color:  #f1f1f1;\n",
       "        }    #T_e7b86a18_c8da_11ed_a891_bc542f299c57row14_col16 {\n",
       "            background-color:  #e2dad5;\n",
       "            color:  #000000;\n",
       "        }    #T_e7b86a18_c8da_11ed_a891_bc542f299c57row14_col17 {\n",
       "            background-color:  #3d50c3;\n",
       "            color:  #f1f1f1;\n",
       "        }    #T_e7b86a18_c8da_11ed_a891_bc542f299c57row14_col18 {\n",
       "            background-color:  #6b8df0;\n",
       "            color:  #000000;\n",
       "        }    #T_e7b86a18_c8da_11ed_a891_bc542f299c57row14_col19 {\n",
       "            background-color:  #4a63d3;\n",
       "            color:  #f1f1f1;\n",
       "        }    #T_e7b86a18_c8da_11ed_a891_bc542f299c57row15_col0 {\n",
       "            background-color:  #e57058;\n",
       "            color:  #000000;\n",
       "        }    #T_e7b86a18_c8da_11ed_a891_bc542f299c57row15_col1 {\n",
       "            background-color:  #e26952;\n",
       "            color:  #000000;\n",
       "        }    #T_e7b86a18_c8da_11ed_a891_bc542f299c57row15_col2 {\n",
       "            background-color:  #d55042;\n",
       "            color:  #000000;\n",
       "        }    #T_e7b86a18_c8da_11ed_a891_bc542f299c57row15_col3 {\n",
       "            background-color:  #a3c2fe;\n",
       "            color:  #000000;\n",
       "        }    #T_e7b86a18_c8da_11ed_a891_bc542f299c57row15_col4 {\n",
       "            background-color:  #eb7d62;\n",
       "            color:  #000000;\n",
       "        }    #T_e7b86a18_c8da_11ed_a891_bc542f299c57row15_col5 {\n",
       "            background-color:  #bad0f8;\n",
       "            color:  #000000;\n",
       "        }    #T_e7b86a18_c8da_11ed_a891_bc542f299c57row15_col6 {\n",
       "            background-color:  #6788ee;\n",
       "            color:  #000000;\n",
       "        }    #T_e7b86a18_c8da_11ed_a891_bc542f299c57row15_col7 {\n",
       "            background-color:  #4358cb;\n",
       "            color:  #f1f1f1;\n",
       "        }    #T_e7b86a18_c8da_11ed_a891_bc542f299c57row15_col8 {\n",
       "            background-color:  #455cce;\n",
       "            color:  #f1f1f1;\n",
       "        }    #T_e7b86a18_c8da_11ed_a891_bc542f299c57row15_col9 {\n",
       "            background-color:  #81a4fb;\n",
       "            color:  #000000;\n",
       "        }    #T_e7b86a18_c8da_11ed_a891_bc542f299c57row15_col10 {\n",
       "            background-color:  #3d50c3;\n",
       "            color:  #f1f1f1;\n",
       "        }    #T_e7b86a18_c8da_11ed_a891_bc542f299c57row15_col11 {\n",
       "            background-color:  #a2c1ff;\n",
       "            color:  #000000;\n",
       "        }    #T_e7b86a18_c8da_11ed_a891_bc542f299c57row15_col12 {\n",
       "            background-color:  #7093f3;\n",
       "            color:  #000000;\n",
       "        }    #T_e7b86a18_c8da_11ed_a891_bc542f299c57row15_col13 {\n",
       "            background-color:  #8fb1fe;\n",
       "            color:  #000000;\n",
       "        }    #T_e7b86a18_c8da_11ed_a891_bc542f299c57row15_col14 {\n",
       "            background-color:  #be242e;\n",
       "            color:  #f1f1f1;\n",
       "        }    #T_e7b86a18_c8da_11ed_a891_bc542f299c57row15_col15 {\n",
       "            background-color:  #b40426;\n",
       "            color:  #f1f1f1;\n",
       "        }    #T_e7b86a18_c8da_11ed_a891_bc542f299c57row15_col16 {\n",
       "            background-color:  #e0dbd8;\n",
       "            color:  #000000;\n",
       "        }    #T_e7b86a18_c8da_11ed_a891_bc542f299c57row15_col17 {\n",
       "            background-color:  #3d50c3;\n",
       "            color:  #f1f1f1;\n",
       "        }    #T_e7b86a18_c8da_11ed_a891_bc542f299c57row15_col18 {\n",
       "            background-color:  #92b4fe;\n",
       "            color:  #000000;\n",
       "        }    #T_e7b86a18_c8da_11ed_a891_bc542f299c57row15_col19 {\n",
       "            background-color:  #516ddb;\n",
       "            color:  #000000;\n",
       "        }    #T_e7b86a18_c8da_11ed_a891_bc542f299c57row16_col0 {\n",
       "            background-color:  #d9dce1;\n",
       "            color:  #000000;\n",
       "        }    #T_e7b86a18_c8da_11ed_a891_bc542f299c57row16_col1 {\n",
       "            background-color:  #dadce0;\n",
       "            color:  #000000;\n",
       "        }    #T_e7b86a18_c8da_11ed_a891_bc542f299c57row16_col2 {\n",
       "            background-color:  #d9dce1;\n",
       "            color:  #000000;\n",
       "        }    #T_e7b86a18_c8da_11ed_a891_bc542f299c57row16_col3 {\n",
       "            background-color:  #81a4fb;\n",
       "            color:  #000000;\n",
       "        }    #T_e7b86a18_c8da_11ed_a891_bc542f299c57row16_col4 {\n",
       "            background-color:  #c7d7f0;\n",
       "            color:  #000000;\n",
       "        }    #T_e7b86a18_c8da_11ed_a891_bc542f299c57row16_col5 {\n",
       "            background-color:  #89acfd;\n",
       "            color:  #000000;\n",
       "        }    #T_e7b86a18_c8da_11ed_a891_bc542f299c57row16_col6 {\n",
       "            background-color:  #506bda;\n",
       "            color:  #000000;\n",
       "        }    #T_e7b86a18_c8da_11ed_a891_bc542f299c57row16_col7 {\n",
       "            background-color:  #4961d2;\n",
       "            color:  #f1f1f1;\n",
       "        }    #T_e7b86a18_c8da_11ed_a891_bc542f299c57row16_col8 {\n",
       "            background-color:  #5470de;\n",
       "            color:  #000000;\n",
       "        }    #T_e7b86a18_c8da_11ed_a891_bc542f299c57row16_col9 {\n",
       "            background-color:  #6e90f2;\n",
       "            color:  #000000;\n",
       "        }    #T_e7b86a18_c8da_11ed_a891_bc542f299c57row16_col10 {\n",
       "            background-color:  #4358cb;\n",
       "            color:  #f1f1f1;\n",
       "        }    #T_e7b86a18_c8da_11ed_a891_bc542f299c57row16_col11 {\n",
       "            background-color:  #7295f4;\n",
       "            color:  #000000;\n",
       "        }    #T_e7b86a18_c8da_11ed_a891_bc542f299c57row16_col12 {\n",
       "            background-color:  #5470de;\n",
       "            color:  #000000;\n",
       "        }    #T_e7b86a18_c8da_11ed_a891_bc542f299c57row16_col13 {\n",
       "            background-color:  #84a7fc;\n",
       "            color:  #000000;\n",
       "        }    #T_e7b86a18_c8da_11ed_a891_bc542f299c57row16_col14 {\n",
       "            background-color:  #e4d9d2;\n",
       "            color:  #000000;\n",
       "        }    #T_e7b86a18_c8da_11ed_a891_bc542f299c57row16_col15 {\n",
       "            background-color:  #e2dad5;\n",
       "            color:  #000000;\n",
       "        }    #T_e7b86a18_c8da_11ed_a891_bc542f299c57row16_col16 {\n",
       "            background-color:  #b40426;\n",
       "            color:  #f1f1f1;\n",
       "        }    #T_e7b86a18_c8da_11ed_a891_bc542f299c57row16_col17 {\n",
       "            background-color:  #4257c9;\n",
       "            color:  #f1f1f1;\n",
       "        }    #T_e7b86a18_c8da_11ed_a891_bc542f299c57row16_col18 {\n",
       "            background-color:  #7597f6;\n",
       "            color:  #000000;\n",
       "        }    #T_e7b86a18_c8da_11ed_a891_bc542f299c57row16_col19 {\n",
       "            background-color:  #516ddb;\n",
       "            color:  #000000;\n",
       "        }    #T_e7b86a18_c8da_11ed_a891_bc542f299c57row17_col0 {\n",
       "            background-color:  #3e51c5;\n",
       "            color:  #f1f1f1;\n",
       "        }    #T_e7b86a18_c8da_11ed_a891_bc542f299c57row17_col1 {\n",
       "            background-color:  #3e51c5;\n",
       "            color:  #f1f1f1;\n",
       "        }    #T_e7b86a18_c8da_11ed_a891_bc542f299c57row17_col2 {\n",
       "            background-color:  #3f53c6;\n",
       "            color:  #f1f1f1;\n",
       "        }    #T_e7b86a18_c8da_11ed_a891_bc542f299c57row17_col3 {\n",
       "            background-color:  #6a8bef;\n",
       "            color:  #000000;\n",
       "        }    #T_e7b86a18_c8da_11ed_a891_bc542f299c57row17_col4 {\n",
       "            background-color:  #3e51c5;\n",
       "            color:  #f1f1f1;\n",
       "        }    #T_e7b86a18_c8da_11ed_a891_bc542f299c57row17_col5 {\n",
       "            background-color:  #485fd1;\n",
       "            color:  #f1f1f1;\n",
       "        }    #T_e7b86a18_c8da_11ed_a891_bc542f299c57row17_col6 {\n",
       "            background-color:  #485fd1;\n",
       "            color:  #f1f1f1;\n",
       "        }    #T_e7b86a18_c8da_11ed_a891_bc542f299c57row17_col7 {\n",
       "            background-color:  #4f69d9;\n",
       "            color:  #000000;\n",
       "        }    #T_e7b86a18_c8da_11ed_a891_bc542f299c57row17_col8 {\n",
       "            background-color:  #536edd;\n",
       "            color:  #000000;\n",
       "        }    #T_e7b86a18_c8da_11ed_a891_bc542f299c57row17_col9 {\n",
       "            background-color:  #5a78e4;\n",
       "            color:  #000000;\n",
       "        }    #T_e7b86a18_c8da_11ed_a891_bc542f299c57row17_col10 {\n",
       "            background-color:  #e36b54;\n",
       "            color:  #000000;\n",
       "        }    #T_e7b86a18_c8da_11ed_a891_bc542f299c57row17_col11 {\n",
       "            background-color:  #4257c9;\n",
       "            color:  #f1f1f1;\n",
       "        }    #T_e7b86a18_c8da_11ed_a891_bc542f299c57row17_col12 {\n",
       "            background-color:  #688aef;\n",
       "            color:  #000000;\n",
       "        }    #T_e7b86a18_c8da_11ed_a891_bc542f299c57row17_col13 {\n",
       "            background-color:  #516ddb;\n",
       "            color:  #000000;\n",
       "        }    #T_e7b86a18_c8da_11ed_a891_bc542f299c57row17_col14 {\n",
       "            background-color:  #3d50c3;\n",
       "            color:  #f1f1f1;\n",
       "        }    #T_e7b86a18_c8da_11ed_a891_bc542f299c57row17_col15 {\n",
       "            background-color:  #3d50c3;\n",
       "            color:  #f1f1f1;\n",
       "        }    #T_e7b86a18_c8da_11ed_a891_bc542f299c57row17_col16 {\n",
       "            background-color:  #3d50c3;\n",
       "            color:  #f1f1f1;\n",
       "        }    #T_e7b86a18_c8da_11ed_a891_bc542f299c57row17_col17 {\n",
       "            background-color:  #b40426;\n",
       "            color:  #f1f1f1;\n",
       "        }    #T_e7b86a18_c8da_11ed_a891_bc542f299c57row17_col18 {\n",
       "            background-color:  #506bda;\n",
       "            color:  #000000;\n",
       "        }    #T_e7b86a18_c8da_11ed_a891_bc542f299c57row17_col19 {\n",
       "            background-color:  #3d50c3;\n",
       "            color:  #f1f1f1;\n",
       "        }    #T_e7b86a18_c8da_11ed_a891_bc542f299c57row18_col0 {\n",
       "            background-color:  #6687ed;\n",
       "            color:  #000000;\n",
       "        }    #T_e7b86a18_c8da_11ed_a891_bc542f299c57row18_col1 {\n",
       "            background-color:  #6a8bef;\n",
       "            color:  #000000;\n",
       "        }    #T_e7b86a18_c8da_11ed_a891_bc542f299c57row18_col2 {\n",
       "            background-color:  #98b9ff;\n",
       "            color:  #000000;\n",
       "        }    #T_e7b86a18_c8da_11ed_a891_bc542f299c57row18_col3 {\n",
       "            background-color:  #5977e3;\n",
       "            color:  #000000;\n",
       "        }    #T_e7b86a18_c8da_11ed_a891_bc542f299c57row18_col4 {\n",
       "            background-color:  #536edd;\n",
       "            color:  #000000;\n",
       "        }    #T_e7b86a18_c8da_11ed_a891_bc542f299c57row18_col5 {\n",
       "            background-color:  #536edd;\n",
       "            color:  #000000;\n",
       "        }    #T_e7b86a18_c8da_11ed_a891_bc542f299c57row18_col6 {\n",
       "            background-color:  #6485ec;\n",
       "            color:  #000000;\n",
       "        }    #T_e7b86a18_c8da_11ed_a891_bc542f299c57row18_col7 {\n",
       "            background-color:  #4c66d6;\n",
       "            color:  #000000;\n",
       "        }    #T_e7b86a18_c8da_11ed_a891_bc542f299c57row18_col8 {\n",
       "            background-color:  #3c4ec2;\n",
       "            color:  #f1f1f1;\n",
       "        }    #T_e7b86a18_c8da_11ed_a891_bc542f299c57row18_col9 {\n",
       "            background-color:  #5a78e4;\n",
       "            color:  #000000;\n",
       "        }    #T_e7b86a18_c8da_11ed_a891_bc542f299c57row18_col10 {\n",
       "            background-color:  #4961d2;\n",
       "            color:  #f1f1f1;\n",
       "        }    #T_e7b86a18_c8da_11ed_a891_bc542f299c57row18_col11 {\n",
       "            background-color:  #4b64d5;\n",
       "            color:  #f1f1f1;\n",
       "        }    #T_e7b86a18_c8da_11ed_a891_bc542f299c57row18_col12 {\n",
       "            background-color:  #6b8df0;\n",
       "            color:  #000000;\n",
       "        }    #T_e7b86a18_c8da_11ed_a891_bc542f299c57row18_col13 {\n",
       "            background-color:  #6180e9;\n",
       "            color:  #000000;\n",
       "        }    #T_e7b86a18_c8da_11ed_a891_bc542f299c57row18_col14 {\n",
       "            background-color:  #6788ee;\n",
       "            color:  #000000;\n",
       "        }    #T_e7b86a18_c8da_11ed_a891_bc542f299c57row18_col15 {\n",
       "            background-color:  #8db0fe;\n",
       "            color:  #000000;\n",
       "        }    #T_e7b86a18_c8da_11ed_a891_bc542f299c57row18_col16 {\n",
       "            background-color:  #6a8bef;\n",
       "            color:  #000000;\n",
       "        }    #T_e7b86a18_c8da_11ed_a891_bc542f299c57row18_col17 {\n",
       "            background-color:  #4b64d5;\n",
       "            color:  #f1f1f1;\n",
       "        }    #T_e7b86a18_c8da_11ed_a891_bc542f299c57row18_col18 {\n",
       "            background-color:  #b40426;\n",
       "            color:  #f1f1f1;\n",
       "        }    #T_e7b86a18_c8da_11ed_a891_bc542f299c57row18_col19 {\n",
       "            background-color:  #3b4cc0;\n",
       "            color:  #f1f1f1;\n",
       "        }    #T_e7b86a18_c8da_11ed_a891_bc542f299c57row19_col0 {\n",
       "            background-color:  #5572df;\n",
       "            color:  #000000;\n",
       "        }    #T_e7b86a18_c8da_11ed_a891_bc542f299c57row19_col1 {\n",
       "            background-color:  #536edd;\n",
       "            color:  #000000;\n",
       "        }    #T_e7b86a18_c8da_11ed_a891_bc542f299c57row19_col2 {\n",
       "            background-color:  #5b7ae5;\n",
       "            color:  #000000;\n",
       "        }    #T_e7b86a18_c8da_11ed_a891_bc542f299c57row19_col3 {\n",
       "            background-color:  #5875e1;\n",
       "            color:  #000000;\n",
       "        }    #T_e7b86a18_c8da_11ed_a891_bc542f299c57row19_col4 {\n",
       "            background-color:  #4e68d8;\n",
       "            color:  #000000;\n",
       "        }    #T_e7b86a18_c8da_11ed_a891_bc542f299c57row19_col5 {\n",
       "            background-color:  #4a63d3;\n",
       "            color:  #f1f1f1;\n",
       "        }    #T_e7b86a18_c8da_11ed_a891_bc542f299c57row19_col6 {\n",
       "            background-color:  #4c66d6;\n",
       "            color:  #000000;\n",
       "        }    #T_e7b86a18_c8da_11ed_a891_bc542f299c57row19_col7 {\n",
       "            background-color:  #4b64d5;\n",
       "            color:  #f1f1f1;\n",
       "        }    #T_e7b86a18_c8da_11ed_a891_bc542f299c57row19_col8 {\n",
       "            background-color:  #536edd;\n",
       "            color:  #000000;\n",
       "        }    #T_e7b86a18_c8da_11ed_a891_bc542f299c57row19_col9 {\n",
       "            background-color:  #5673e0;\n",
       "            color:  #000000;\n",
       "        }    #T_e7b86a18_c8da_11ed_a891_bc542f299c57row19_col10 {\n",
       "            background-color:  #445acc;\n",
       "            color:  #f1f1f1;\n",
       "        }    #T_e7b86a18_c8da_11ed_a891_bc542f299c57row19_col11 {\n",
       "            background-color:  #536edd;\n",
       "            color:  #000000;\n",
       "        }    #T_e7b86a18_c8da_11ed_a891_bc542f299c57row19_col12 {\n",
       "            background-color:  #6788ee;\n",
       "            color:  #000000;\n",
       "        }    #T_e7b86a18_c8da_11ed_a891_bc542f299c57row19_col13 {\n",
       "            background-color:  #536edd;\n",
       "            color:  #000000;\n",
       "        }    #T_e7b86a18_c8da_11ed_a891_bc542f299c57row19_col14 {\n",
       "            background-color:  #4e68d8;\n",
       "            color:  #000000;\n",
       "        }    #T_e7b86a18_c8da_11ed_a891_bc542f299c57row19_col15 {\n",
       "            background-color:  #5572df;\n",
       "            color:  #000000;\n",
       "        }    #T_e7b86a18_c8da_11ed_a891_bc542f299c57row19_col16 {\n",
       "            background-color:  #506bda;\n",
       "            color:  #000000;\n",
       "        }    #T_e7b86a18_c8da_11ed_a891_bc542f299c57row19_col17 {\n",
       "            background-color:  #4055c8;\n",
       "            color:  #f1f1f1;\n",
       "        }    #T_e7b86a18_c8da_11ed_a891_bc542f299c57row19_col18 {\n",
       "            background-color:  #4358cb;\n",
       "            color:  #f1f1f1;\n",
       "        }    #T_e7b86a18_c8da_11ed_a891_bc542f299c57row19_col19 {\n",
       "            background-color:  #b40426;\n",
       "            color:  #f1f1f1;\n",
       "        }</style><table id=\"T_e7b86a18_c8da_11ed_a891_bc542f299c57\" ><thead>    <tr>        <th class=\"blank level0\" ></th>        <th class=\"col_heading level0 col0\" >loan_amnt</th>        <th class=\"col_heading level0 col1\" >funded_amnt</th>        <th class=\"col_heading level0 col2\" >funded_amnt_inv</th>        <th class=\"col_heading level0 col3\" >int_rate</th>        <th class=\"col_heading level0 col4\" >installment</th>        <th class=\"col_heading level0 col5\" >annual_inc</th>        <th class=\"col_heading level0 col6\" >dti</th>        <th class=\"col_heading level0 col7\" >delinq_2yrs</th>        <th class=\"col_heading level0 col8\" >inq_last_6mths</th>        <th class=\"col_heading level0 col9\" >open_acc</th>        <th class=\"col_heading level0 col10\" >pub_rec</th>        <th class=\"col_heading level0 col11\" >revol_bal</th>        <th class=\"col_heading level0 col12\" >revol_util</th>        <th class=\"col_heading level0 col13\" >total_acc</th>        <th class=\"col_heading level0 col14\" >total_pymnt</th>        <th class=\"col_heading level0 col15\" >total_pymnt_inv</th>        <th class=\"col_heading level0 col16\" >last_pymnt_amnt</th>        <th class=\"col_heading level0 col17\" >pub_rec_bankruptcies</th>        <th class=\"col_heading level0 col18\" >issue_year</th>        <th class=\"col_heading level0 col19\" >issue_month</th>    </tr></thead><tbody>\n",
       "                <tr>\n",
       "                        <th id=\"T_e7b86a18_c8da_11ed_a891_bc542f299c57level0_row0\" class=\"row_heading level0 row0\" >loan_amnt</th>\n",
       "                        <td id=\"T_e7b86a18_c8da_11ed_a891_bc542f299c57row0_col0\" class=\"data row0 col0\" >1</td>\n",
       "                        <td id=\"T_e7b86a18_c8da_11ed_a891_bc542f299c57row0_col1\" class=\"data row0 col1\" >0.982185</td>\n",
       "                        <td id=\"T_e7b86a18_c8da_11ed_a891_bc542f299c57row0_col2\" class=\"data row0 col2\" >0.936286</td>\n",
       "                        <td id=\"T_e7b86a18_c8da_11ed_a891_bc542f299c57row0_col3\" class=\"data row0 col3\" >0.28221</td>\n",
       "                        <td id=\"T_e7b86a18_c8da_11ed_a891_bc542f299c57row0_col4\" class=\"data row0 col4\" >0.931425</td>\n",
       "                        <td id=\"T_e7b86a18_c8da_11ed_a891_bc542f299c57row0_col5\" class=\"data row0 col5\" >0.392876</td>\n",
       "                        <td id=\"T_e7b86a18_c8da_11ed_a891_bc542f299c57row0_col6\" class=\"data row0 col6\" >0.103747</td>\n",
       "                        <td id=\"T_e7b86a18_c8da_11ed_a891_bc542f299c57row0_col7\" class=\"data row0 col7\" >-0.0405118</td>\n",
       "                        <td id=\"T_e7b86a18_c8da_11ed_a891_bc542f299c57row0_col8\" class=\"data row0 col8\" >0.00288208</td>\n",
       "                        <td id=\"T_e7b86a18_c8da_11ed_a891_bc542f299c57row0_col9\" class=\"data row0 col9\" >0.16241</td>\n",
       "                        <td id=\"T_e7b86a18_c8da_11ed_a891_bc542f299c57row0_col10\" class=\"data row0 col10\" >-0.0432383</td>\n",
       "                        <td id=\"T_e7b86a18_c8da_11ed_a891_bc542f299c57row0_col11\" class=\"data row0 col11\" >0.313888</td>\n",
       "                        <td id=\"T_e7b86a18_c8da_11ed_a891_bc542f299c57row0_col12\" class=\"data row0 col12\" >0.0726902</td>\n",
       "                        <td id=\"T_e7b86a18_c8da_11ed_a891_bc542f299c57row0_col13\" class=\"data row0 col13\" >0.233665</td>\n",
       "                        <td id=\"T_e7b86a18_c8da_11ed_a891_bc542f299c57row0_col14\" class=\"data row0 col14\" >0.870795</td>\n",
       "                        <td id=\"T_e7b86a18_c8da_11ed_a891_bc542f299c57row0_col15\" class=\"data row0 col15\" >0.834986</td>\n",
       "                        <td id=\"T_e7b86a18_c8da_11ed_a891_bc542f299c57row0_col16\" class=\"data row0 col16\" >0.462193</td>\n",
       "                        <td id=\"T_e7b86a18_c8da_11ed_a891_bc542f299c57row0_col17\" class=\"data row0 col17\" >-0.0275223</td>\n",
       "                        <td id=\"T_e7b86a18_c8da_11ed_a891_bc542f299c57row0_col18\" class=\"data row0 col18\" >0.102318</td>\n",
       "                        <td id=\"T_e7b86a18_c8da_11ed_a891_bc542f299c57row0_col19\" class=\"data row0 col19\" >0.0488805</td>\n",
       "            </tr>\n",
       "            <tr>\n",
       "                        <th id=\"T_e7b86a18_c8da_11ed_a891_bc542f299c57level0_row1\" class=\"row_heading level0 row1\" >funded_amnt</th>\n",
       "                        <td id=\"T_e7b86a18_c8da_11ed_a891_bc542f299c57row1_col0\" class=\"data row1 col0\" >0.982185</td>\n",
       "                        <td id=\"T_e7b86a18_c8da_11ed_a891_bc542f299c57row1_col1\" class=\"data row1 col1\" >1</td>\n",
       "                        <td id=\"T_e7b86a18_c8da_11ed_a891_bc542f299c57row1_col2\" class=\"data row1 col2\" >0.954112</td>\n",
       "                        <td id=\"T_e7b86a18_c8da_11ed_a891_bc542f299c57row1_col3\" class=\"data row1 col3\" >0.288259</td>\n",
       "                        <td id=\"T_e7b86a18_c8da_11ed_a891_bc542f299c57row1_col4\" class=\"data row1 col4\" >0.956519</td>\n",
       "                        <td id=\"T_e7b86a18_c8da_11ed_a891_bc542f299c57row1_col5\" class=\"data row1 col5\" >0.389667</td>\n",
       "                        <td id=\"T_e7b86a18_c8da_11ed_a891_bc542f299c57row1_col6\" class=\"data row1 col6\" >0.102939</td>\n",
       "                        <td id=\"T_e7b86a18_c8da_11ed_a891_bc542f299c57row1_col7\" class=\"data row1 col7\" >-0.0402567</td>\n",
       "                        <td id=\"T_e7b86a18_c8da_11ed_a891_bc542f299c57row1_col8\" class=\"data row1 col8\" >0.00342204</td>\n",
       "                        <td id=\"T_e7b86a18_c8da_11ed_a891_bc542f299c57row1_col9\" class=\"data row1 col9\" >0.160216</td>\n",
       "                        <td id=\"T_e7b86a18_c8da_11ed_a891_bc542f299c57row1_col10\" class=\"data row1 col10\" >-0.0435769</td>\n",
       "                        <td id=\"T_e7b86a18_c8da_11ed_a891_bc542f299c57row1_col11\" class=\"data row1 col11\" >0.306265</td>\n",
       "                        <td id=\"T_e7b86a18_c8da_11ed_a891_bc542f299c57row1_col12\" class=\"data row1 col12\" >0.0770884</td>\n",
       "                        <td id=\"T_e7b86a18_c8da_11ed_a891_bc542f299c57row1_col13\" class=\"data row1 col13\" >0.227852</td>\n",
       "                        <td id=\"T_e7b86a18_c8da_11ed_a891_bc542f299c57row1_col14\" class=\"data row1 col14\" >0.88745</td>\n",
       "                        <td id=\"T_e7b86a18_c8da_11ed_a891_bc542f299c57row1_col15\" class=\"data row1 col15\" >0.85172</td>\n",
       "                        <td id=\"T_e7b86a18_c8da_11ed_a891_bc542f299c57row1_col16\" class=\"data row1 col16\" >0.46697</td>\n",
       "                        <td id=\"T_e7b86a18_c8da_11ed_a891_bc542f299c57row1_col17\" class=\"data row1 col17\" >-0.0281114</td>\n",
       "                        <td id=\"T_e7b86a18_c8da_11ed_a891_bc542f299c57row1_col18\" class=\"data row1 col18\" >0.11377</td>\n",
       "                        <td id=\"T_e7b86a18_c8da_11ed_a891_bc542f299c57row1_col19\" class=\"data row1 col19\" >0.0391466</td>\n",
       "            </tr>\n",
       "            <tr>\n",
       "                        <th id=\"T_e7b86a18_c8da_11ed_a891_bc542f299c57level0_row2\" class=\"row_heading level0 row2\" >funded_amnt_inv</th>\n",
       "                        <td id=\"T_e7b86a18_c8da_11ed_a891_bc542f299c57row2_col0\" class=\"data row2 col0\" >0.936286</td>\n",
       "                        <td id=\"T_e7b86a18_c8da_11ed_a891_bc542f299c57row2_col1\" class=\"data row2 col1\" >0.954112</td>\n",
       "                        <td id=\"T_e7b86a18_c8da_11ed_a891_bc542f299c57row2_col2\" class=\"data row2 col2\" >1</td>\n",
       "                        <td id=\"T_e7b86a18_c8da_11ed_a891_bc542f299c57row2_col3\" class=\"data row2 col3\" >0.28183</td>\n",
       "                        <td id=\"T_e7b86a18_c8da_11ed_a891_bc542f299c57row2_col4\" class=\"data row2 col4\" >0.900832</td>\n",
       "                        <td id=\"T_e7b86a18_c8da_11ed_a891_bc542f299c57row2_col5\" class=\"data row2 col5\" >0.372528</td>\n",
       "                        <td id=\"T_e7b86a18_c8da_11ed_a891_bc542f299c57row2_col6\" class=\"data row2 col6\" >0.110377</td>\n",
       "                        <td id=\"T_e7b86a18_c8da_11ed_a891_bc542f299c57row2_col7\" class=\"data row2 col7\" >-0.0452887</td>\n",
       "                        <td id=\"T_e7b86a18_c8da_11ed_a891_bc542f299c57row2_col8\" class=\"data row2 col8\" >-0.0118342</td>\n",
       "                        <td id=\"T_e7b86a18_c8da_11ed_a891_bc542f299c57row2_col9\" class=\"data row2 col9\" >0.148607</td>\n",
       "                        <td id=\"T_e7b86a18_c8da_11ed_a891_bc542f299c57row2_col10\" class=\"data row2 col10\" >-0.0460475</td>\n",
       "                        <td id=\"T_e7b86a18_c8da_11ed_a891_bc542f299c57row2_col11\" class=\"data row2 col11\" >0.287757</td>\n",
       "                        <td id=\"T_e7b86a18_c8da_11ed_a891_bc542f299c57row2_col12\" class=\"data row2 col12\" >0.0818448</td>\n",
       "                        <td id=\"T_e7b86a18_c8da_11ed_a891_bc542f299c57row2_col13\" class=\"data row2 col13\" >0.221735</td>\n",
       "                        <td id=\"T_e7b86a18_c8da_11ed_a891_bc542f299c57row2_col14\" class=\"data row2 col14\" >0.863209</td>\n",
       "                        <td id=\"T_e7b86a18_c8da_11ed_a891_bc542f299c57row2_col15\" class=\"data row2 col15\" >0.898689</td>\n",
       "                        <td id=\"T_e7b86a18_c8da_11ed_a891_bc542f299c57row2_col16\" class=\"data row2 col16\" >0.460652</td>\n",
       "                        <td id=\"T_e7b86a18_c8da_11ed_a891_bc542f299c57row2_col17\" class=\"data row2 col17\" >-0.0293171</td>\n",
       "                        <td id=\"T_e7b86a18_c8da_11ed_a891_bc542f299c57row2_col18\" class=\"data row2 col18\" >0.249596</td>\n",
       "                        <td id=\"T_e7b86a18_c8da_11ed_a891_bc542f299c57row2_col19\" class=\"data row2 col19\" >0.0658815</td>\n",
       "            </tr>\n",
       "            <tr>\n",
       "                        <th id=\"T_e7b86a18_c8da_11ed_a891_bc542f299c57level0_row3\" class=\"row_heading level0 row3\" >int_rate</th>\n",
       "                        <td id=\"T_e7b86a18_c8da_11ed_a891_bc542f299c57row3_col0\" class=\"data row3 col0\" >0.28221</td>\n",
       "                        <td id=\"T_e7b86a18_c8da_11ed_a891_bc542f299c57row3_col1\" class=\"data row3 col1\" >0.288259</td>\n",
       "                        <td id=\"T_e7b86a18_c8da_11ed_a891_bc542f299c57row3_col2\" class=\"data row3 col2\" >0.28183</td>\n",
       "                        <td id=\"T_e7b86a18_c8da_11ed_a891_bc542f299c57row3_col3\" class=\"data row3 col3\" >1</td>\n",
       "                        <td id=\"T_e7b86a18_c8da_11ed_a891_bc542f299c57row3_col4\" class=\"data row3 col4\" >0.262278</td>\n",
       "                        <td id=\"T_e7b86a18_c8da_11ed_a891_bc542f299c57row3_col5\" class=\"data row3 col5\" >0.0462173</td>\n",
       "                        <td id=\"T_e7b86a18_c8da_11ed_a891_bc542f299c57row3_col6\" class=\"data row3 col6\" >0.104816</td>\n",
       "                        <td id=\"T_e7b86a18_c8da_11ed_a891_bc542f299c57row3_col7\" class=\"data row3 col7\" >0.151977</td>\n",
       "                        <td id=\"T_e7b86a18_c8da_11ed_a891_bc542f299c57row3_col8\" class=\"data row3 col8\" >0.134492</td>\n",
       "                        <td id=\"T_e7b86a18_c8da_11ed_a891_bc542f299c57row3_col9\" class=\"data row3 col9\" >-0.0181468</td>\n",
       "                        <td id=\"T_e7b86a18_c8da_11ed_a891_bc542f299c57row3_col10\" class=\"data row3 col10\" >0.105124</td>\n",
       "                        <td id=\"T_e7b86a18_c8da_11ed_a891_bc542f299c57row3_col11\" class=\"data row3 col11\" >0.069744</td>\n",
       "                        <td id=\"T_e7b86a18_c8da_11ed_a891_bc542f299c57row3_col12\" class=\"data row3 col12\" >0.464169</td>\n",
       "                        <td id=\"T_e7b86a18_c8da_11ed_a891_bc542f299c57row3_col13\" class=\"data row3 col13\" >-0.0754346</td>\n",
       "                        <td id=\"T_e7b86a18_c8da_11ed_a891_bc542f299c57row3_col14\" class=\"data row3 col14\" >0.268066</td>\n",
       "                        <td id=\"T_e7b86a18_c8da_11ed_a891_bc542f299c57row3_col15\" class=\"data row3 col15\" >0.263366</td>\n",
       "                        <td id=\"T_e7b86a18_c8da_11ed_a891_bc542f299c57row3_col16\" class=\"data row3 col16\" >0.156072</td>\n",
       "                        <td id=\"T_e7b86a18_c8da_11ed_a891_bc542f299c57row3_col17\" class=\"data row3 col17\" >0.0882896</td>\n",
       "                        <td id=\"T_e7b86a18_c8da_11ed_a891_bc542f299c57row3_col18\" class=\"data row3 col18\" >0.0331545</td>\n",
       "                        <td id=\"T_e7b86a18_c8da_11ed_a891_bc542f299c57row3_col19\" class=\"data row3 col19\" >0.0258366</td>\n",
       "            </tr>\n",
       "            <tr>\n",
       "                        <th id=\"T_e7b86a18_c8da_11ed_a891_bc542f299c57level0_row4\" class=\"row_heading level0 row4\" >installment</th>\n",
       "                        <td id=\"T_e7b86a18_c8da_11ed_a891_bc542f299c57row4_col0\" class=\"data row4 col0\" >0.931425</td>\n",
       "                        <td id=\"T_e7b86a18_c8da_11ed_a891_bc542f299c57row4_col1\" class=\"data row4 col1\" >0.956519</td>\n",
       "                        <td id=\"T_e7b86a18_c8da_11ed_a891_bc542f299c57row4_col2\" class=\"data row4 col2\" >0.900832</td>\n",
       "                        <td id=\"T_e7b86a18_c8da_11ed_a891_bc542f299c57row4_col3\" class=\"data row4 col3\" >0.262278</td>\n",
       "                        <td id=\"T_e7b86a18_c8da_11ed_a891_bc542f299c57row4_col4\" class=\"data row4 col4\" >1</td>\n",
       "                        <td id=\"T_e7b86a18_c8da_11ed_a891_bc542f299c57row4_col5\" class=\"data row4 col5\" >0.386714</td>\n",
       "                        <td id=\"T_e7b86a18_c8da_11ed_a891_bc542f299c57row4_col6\" class=\"data row4 col6\" >0.0923131</td>\n",
       "                        <td id=\"T_e7b86a18_c8da_11ed_a891_bc542f299c57row4_col7\" class=\"data row4 col7\" >-0.0289072</td>\n",
       "                        <td id=\"T_e7b86a18_c8da_11ed_a891_bc542f299c57row4_col8\" class=\"data row4 col8\" >0.00225358</td>\n",
       "                        <td id=\"T_e7b86a18_c8da_11ed_a891_bc542f299c57row4_col9\" class=\"data row4 col9\" >0.155496</td>\n",
       "                        <td id=\"T_e7b86a18_c8da_11ed_a891_bc542f299c57row4_col10\" class=\"data row4 col10\" >-0.0392168</td>\n",
       "                        <td id=\"T_e7b86a18_c8da_11ed_a891_bc542f299c57row4_col11\" class=\"data row4 col11\" >0.305428</td>\n",
       "                        <td id=\"T_e7b86a18_c8da_11ed_a891_bc542f299c57row4_col12\" class=\"data row4 col12\" >0.105364</td>\n",
       "                        <td id=\"T_e7b86a18_c8da_11ed_a891_bc542f299c57row4_col13\" class=\"data row4 col13\" >0.204157</td>\n",
       "                        <td id=\"T_e7b86a18_c8da_11ed_a891_bc542f299c57row4_col14\" class=\"data row4 col14\" >0.848843</td>\n",
       "                        <td id=\"T_e7b86a18_c8da_11ed_a891_bc542f299c57row4_col15\" class=\"data row4 col15\" >0.805279</td>\n",
       "                        <td id=\"T_e7b86a18_c8da_11ed_a891_bc542f299c57row4_col16\" class=\"data row4 col16\" >0.399956</td>\n",
       "                        <td id=\"T_e7b86a18_c8da_11ed_a891_bc542f299c57row4_col17\" class=\"data row4 col17\" >-0.0251721</td>\n",
       "                        <td id=\"T_e7b86a18_c8da_11ed_a891_bc542f299c57row4_col18\" class=\"data row4 col18\" >0.0447918</td>\n",
       "                        <td id=\"T_e7b86a18_c8da_11ed_a891_bc542f299c57row4_col19\" class=\"data row4 col19\" >0.0267958</td>\n",
       "            </tr>\n",
       "            <tr>\n",
       "                        <th id=\"T_e7b86a18_c8da_11ed_a891_bc542f299c57level0_row5\" class=\"row_heading level0 row5\" >annual_inc</th>\n",
       "                        <td id=\"T_e7b86a18_c8da_11ed_a891_bc542f299c57row5_col0\" class=\"data row5 col0\" >0.392876</td>\n",
       "                        <td id=\"T_e7b86a18_c8da_11ed_a891_bc542f299c57row5_col1\" class=\"data row5 col1\" >0.389667</td>\n",
       "                        <td id=\"T_e7b86a18_c8da_11ed_a891_bc542f299c57row5_col2\" class=\"data row5 col2\" >0.372528</td>\n",
       "                        <td id=\"T_e7b86a18_c8da_11ed_a891_bc542f299c57row5_col3\" class=\"data row5 col3\" >0.0462173</td>\n",
       "                        <td id=\"T_e7b86a18_c8da_11ed_a891_bc542f299c57row5_col4\" class=\"data row5 col4\" >0.386714</td>\n",
       "                        <td id=\"T_e7b86a18_c8da_11ed_a891_bc542f299c57row5_col5\" class=\"data row5 col5\" >1</td>\n",
       "                        <td id=\"T_e7b86a18_c8da_11ed_a891_bc542f299c57row5_col6\" class=\"data row5 col6\" >-0.0441139</td>\n",
       "                        <td id=\"T_e7b86a18_c8da_11ed_a891_bc542f299c57row5_col7\" class=\"data row5 col7\" >0.0243506</td>\n",
       "                        <td id=\"T_e7b86a18_c8da_11ed_a891_bc542f299c57row5_col8\" class=\"data row5 col8\" >0.0303425</td>\n",
       "                        <td id=\"T_e7b86a18_c8da_11ed_a891_bc542f299c57row5_col9\" class=\"data row5 col9\" >0.266158</td>\n",
       "                        <td id=\"T_e7b86a18_c8da_11ed_a891_bc542f299c57row5_col10\" class=\"data row5 col10\" >0.000107345</td>\n",
       "                        <td id=\"T_e7b86a18_c8da_11ed_a891_bc542f299c57row5_col11\" class=\"data row5 col11\" >0.371343</td>\n",
       "                        <td id=\"T_e7b86a18_c8da_11ed_a891_bc542f299c57row5_col12\" class=\"data row5 col12\" >0.047056</td>\n",
       "                        <td id=\"T_e7b86a18_c8da_11ed_a891_bc542f299c57row5_col13\" class=\"data row5 col13\" >0.381524</td>\n",
       "                        <td id=\"T_e7b86a18_c8da_11ed_a891_bc542f299c57row5_col14\" class=\"data row5 col14\" >0.368115</td>\n",
       "                        <td id=\"T_e7b86a18_c8da_11ed_a891_bc542f299c57row5_col15\" class=\"data row5 col15\" >0.353818</td>\n",
       "                        <td id=\"T_e7b86a18_c8da_11ed_a891_bc542f299c57row5_col16\" class=\"data row5 col16\" >0.20816</td>\n",
       "                        <td id=\"T_e7b86a18_c8da_11ed_a891_bc542f299c57row5_col17\" class=\"data row5 col17\" >0.00329949</td>\n",
       "                        <td id=\"T_e7b86a18_c8da_11ed_a891_bc542f299c57row5_col18\" class=\"data row5 col18\" >0.0397938</td>\n",
       "                        <td id=\"T_e7b86a18_c8da_11ed_a891_bc542f299c57row5_col19\" class=\"data row5 col19\" >0.0115823</td>\n",
       "            </tr>\n",
       "            <tr>\n",
       "                        <th id=\"T_e7b86a18_c8da_11ed_a891_bc542f299c57level0_row6\" class=\"row_heading level0 row6\" >dti</th>\n",
       "                        <td id=\"T_e7b86a18_c8da_11ed_a891_bc542f299c57row6_col0\" class=\"data row6 col0\" >0.103747</td>\n",
       "                        <td id=\"T_e7b86a18_c8da_11ed_a891_bc542f299c57row6_col1\" class=\"data row6 col1\" >0.102939</td>\n",
       "                        <td id=\"T_e7b86a18_c8da_11ed_a891_bc542f299c57row6_col2\" class=\"data row6 col2\" >0.110377</td>\n",
       "                        <td id=\"T_e7b86a18_c8da_11ed_a891_bc542f299c57row6_col3\" class=\"data row6 col3\" >0.104816</td>\n",
       "                        <td id=\"T_e7b86a18_c8da_11ed_a891_bc542f299c57row6_col4\" class=\"data row6 col4\" >0.0923131</td>\n",
       "                        <td id=\"T_e7b86a18_c8da_11ed_a891_bc542f299c57row6_col5\" class=\"data row6 col5\" >-0.0441139</td>\n",
       "                        <td id=\"T_e7b86a18_c8da_11ed_a891_bc542f299c57row6_col6\" class=\"data row6 col6\" >1</td>\n",
       "                        <td id=\"T_e7b86a18_c8da_11ed_a891_bc542f299c57row6_col7\" class=\"data row6 col7\" >-0.0305276</td>\n",
       "                        <td id=\"T_e7b86a18_c8da_11ed_a891_bc542f299c57row6_col8\" class=\"data row6 col8\" >0.00852238</td>\n",
       "                        <td id=\"T_e7b86a18_c8da_11ed_a891_bc542f299c57row6_col9\" class=\"data row6 col9\" >0.301399</td>\n",
       "                        <td id=\"T_e7b86a18_c8da_11ed_a891_bc542f299c57row6_col10\" class=\"data row6 col10\" >-0.00833051</td>\n",
       "                        <td id=\"T_e7b86a18_c8da_11ed_a891_bc542f299c57row6_col11\" class=\"data row6 col11\" >0.286327</td>\n",
       "                        <td id=\"T_e7b86a18_c8da_11ed_a891_bc542f299c57row6_col12\" class=\"data row6 col12\" >0.27281</td>\n",
       "                        <td id=\"T_e7b86a18_c8da_11ed_a891_bc542f299c57row6_col13\" class=\"data row6 col13\" >0.253199</td>\n",
       "                        <td id=\"T_e7b86a18_c8da_11ed_a891_bc542f299c57row6_col14\" class=\"data row6 col14\" >0.0982098</td>\n",
       "                        <td id=\"T_e7b86a18_c8da_11ed_a891_bc542f299c57row6_col15\" class=\"data row6 col15\" >0.104021</td>\n",
       "                        <td id=\"T_e7b86a18_c8da_11ed_a891_bc542f299c57row6_col16\" class=\"data row6 col16\" >0.0316053</td>\n",
       "                        <td id=\"T_e7b86a18_c8da_11ed_a891_bc542f299c57row6_col17\" class=\"data row6 col17\" >0.00382196</td>\n",
       "                        <td id=\"T_e7b86a18_c8da_11ed_a891_bc542f299c57row6_col18\" class=\"data row6 col18\" >0.0954272</td>\n",
       "                        <td id=\"T_e7b86a18_c8da_11ed_a891_bc542f299c57row6_col19\" class=\"data row6 col19\" >0.0187727</td>\n",
       "            </tr>\n",
       "            <tr>\n",
       "                        <th id=\"T_e7b86a18_c8da_11ed_a891_bc542f299c57level0_row7\" class=\"row_heading level0 row7\" >delinq_2yrs</th>\n",
       "                        <td id=\"T_e7b86a18_c8da_11ed_a891_bc542f299c57row7_col0\" class=\"data row7 col0\" >-0.0405118</td>\n",
       "                        <td id=\"T_e7b86a18_c8da_11ed_a891_bc542f299c57row7_col1\" class=\"data row7 col1\" >-0.0402567</td>\n",
       "                        <td id=\"T_e7b86a18_c8da_11ed_a891_bc542f299c57row7_col2\" class=\"data row7 col2\" >-0.0452887</td>\n",
       "                        <td id=\"T_e7b86a18_c8da_11ed_a891_bc542f299c57row7_col3\" class=\"data row7 col3\" >0.151977</td>\n",
       "                        <td id=\"T_e7b86a18_c8da_11ed_a891_bc542f299c57row7_col4\" class=\"data row7 col4\" >-0.0289072</td>\n",
       "                        <td id=\"T_e7b86a18_c8da_11ed_a891_bc542f299c57row7_col5\" class=\"data row7 col5\" >0.0243506</td>\n",
       "                        <td id=\"T_e7b86a18_c8da_11ed_a891_bc542f299c57row7_col6\" class=\"data row7 col6\" >-0.0305276</td>\n",
       "                        <td id=\"T_e7b86a18_c8da_11ed_a891_bc542f299c57row7_col7\" class=\"data row7 col7\" >1</td>\n",
       "                        <td id=\"T_e7b86a18_c8da_11ed_a891_bc542f299c57row7_col8\" class=\"data row7 col8\" >0.0100708</td>\n",
       "                        <td id=\"T_e7b86a18_c8da_11ed_a891_bc542f299c57row7_col9\" class=\"data row7 col9\" >0.0150682</td>\n",
       "                        <td id=\"T_e7b86a18_c8da_11ed_a891_bc542f299c57row7_col10\" class=\"data row7 col10\" >0.00917477</td>\n",
       "                        <td id=\"T_e7b86a18_c8da_11ed_a891_bc542f299c57row7_col11\" class=\"data row7 col11\" >-0.0685783</td>\n",
       "                        <td id=\"T_e7b86a18_c8da_11ed_a891_bc542f299c57row7_col12\" class=\"data row7 col12\" >-0.0433221</td>\n",
       "                        <td id=\"T_e7b86a18_c8da_11ed_a891_bc542f299c57row7_col13\" class=\"data row7 col13\" >0.0673832</td>\n",
       "                        <td id=\"T_e7b86a18_c8da_11ed_a891_bc542f299c57row7_col14\" class=\"data row7 col14\" >-0.0321069</td>\n",
       "                        <td id=\"T_e7b86a18_c8da_11ed_a891_bc542f299c57row7_col15\" class=\"data row7 col15\" >-0.0373715</td>\n",
       "                        <td id=\"T_e7b86a18_c8da_11ed_a891_bc542f299c57row7_col16\" class=\"data row7 col16\" >-0.017218</td>\n",
       "                        <td id=\"T_e7b86a18_c8da_11ed_a891_bc542f299c57row7_col17\" class=\"data row7 col17\" >0.00407475</td>\n",
       "                        <td id=\"T_e7b86a18_c8da_11ed_a891_bc542f299c57row7_col18\" class=\"data row7 col18\" >-0.00279698</td>\n",
       "                        <td id=\"T_e7b86a18_c8da_11ed_a891_bc542f299c57row7_col19\" class=\"data row7 col19\" >-0.00912017</td>\n",
       "            </tr>\n",
       "            <tr>\n",
       "                        <th id=\"T_e7b86a18_c8da_11ed_a891_bc542f299c57level0_row8\" class=\"row_heading level0 row8\" >inq_last_6mths</th>\n",
       "                        <td id=\"T_e7b86a18_c8da_11ed_a891_bc542f299c57row8_col0\" class=\"data row8 col0\" >0.00288208</td>\n",
       "                        <td id=\"T_e7b86a18_c8da_11ed_a891_bc542f299c57row8_col1\" class=\"data row8 col1\" >0.00342204</td>\n",
       "                        <td id=\"T_e7b86a18_c8da_11ed_a891_bc542f299c57row8_col2\" class=\"data row8 col2\" >-0.0118342</td>\n",
       "                        <td id=\"T_e7b86a18_c8da_11ed_a891_bc542f299c57row8_col3\" class=\"data row8 col3\" >0.134492</td>\n",
       "                        <td id=\"T_e7b86a18_c8da_11ed_a891_bc542f299c57row8_col4\" class=\"data row8 col4\" >0.00225358</td>\n",
       "                        <td id=\"T_e7b86a18_c8da_11ed_a891_bc542f299c57row8_col5\" class=\"data row8 col5\" >0.0303425</td>\n",
       "                        <td id=\"T_e7b86a18_c8da_11ed_a891_bc542f299c57row8_col6\" class=\"data row8 col6\" >0.00852238</td>\n",
       "                        <td id=\"T_e7b86a18_c8da_11ed_a891_bc542f299c57row8_col7\" class=\"data row8 col7\" >0.0100708</td>\n",
       "                        <td id=\"T_e7b86a18_c8da_11ed_a891_bc542f299c57row8_col8\" class=\"data row8 col8\" >1</td>\n",
       "                        <td id=\"T_e7b86a18_c8da_11ed_a891_bc542f299c57row8_col9\" class=\"data row8 col9\" >0.0923525</td>\n",
       "                        <td id=\"T_e7b86a18_c8da_11ed_a891_bc542f299c57row8_col10\" class=\"data row8 col10\" >0.0254514</td>\n",
       "                        <td id=\"T_e7b86a18_c8da_11ed_a891_bc542f299c57row8_col11\" class=\"data row8 col11\" >-0.0244435</td>\n",
       "                        <td id=\"T_e7b86a18_c8da_11ed_a891_bc542f299c57row8_col12\" class=\"data row8 col12\" >-0.0683825</td>\n",
       "                        <td id=\"T_e7b86a18_c8da_11ed_a891_bc542f299c57row8_col13\" class=\"data row8 col13\" >0.10776</td>\n",
       "                        <td id=\"T_e7b86a18_c8da_11ed_a891_bc542f299c57row8_col14\" class=\"data row8 col14\" >-0.0196715</td>\n",
       "                        <td id=\"T_e7b86a18_c8da_11ed_a891_bc542f299c57row8_col15\" class=\"data row8 col15\" >-0.0296365</td>\n",
       "                        <td id=\"T_e7b86a18_c8da_11ed_a891_bc542f299c57row8_col16\" class=\"data row8 col16\" >0.021444</td>\n",
       "                        <td id=\"T_e7b86a18_c8da_11ed_a891_bc542f299c57row8_col17\" class=\"data row8 col17\" >0.0155055</td>\n",
       "                        <td id=\"T_e7b86a18_c8da_11ed_a891_bc542f299c57row8_col18\" class=\"data row8 col18\" >-0.0621181</td>\n",
       "                        <td id=\"T_e7b86a18_c8da_11ed_a891_bc542f299c57row8_col19\" class=\"data row8 col19\" >0.0155848</td>\n",
       "            </tr>\n",
       "            <tr>\n",
       "                        <th id=\"T_e7b86a18_c8da_11ed_a891_bc542f299c57level0_row9\" class=\"row_heading level0 row9\" >open_acc</th>\n",
       "                        <td id=\"T_e7b86a18_c8da_11ed_a891_bc542f299c57row9_col0\" class=\"data row9 col0\" >0.16241</td>\n",
       "                        <td id=\"T_e7b86a18_c8da_11ed_a891_bc542f299c57row9_col1\" class=\"data row9 col1\" >0.160216</td>\n",
       "                        <td id=\"T_e7b86a18_c8da_11ed_a891_bc542f299c57row9_col2\" class=\"data row9 col2\" >0.148607</td>\n",
       "                        <td id=\"T_e7b86a18_c8da_11ed_a891_bc542f299c57row9_col3\" class=\"data row9 col3\" >-0.0181468</td>\n",
       "                        <td id=\"T_e7b86a18_c8da_11ed_a891_bc542f299c57row9_col4\" class=\"data row9 col4\" >0.155496</td>\n",
       "                        <td id=\"T_e7b86a18_c8da_11ed_a891_bc542f299c57row9_col5\" class=\"data row9 col5\" >0.266158</td>\n",
       "                        <td id=\"T_e7b86a18_c8da_11ed_a891_bc542f299c57row9_col6\" class=\"data row9 col6\" >0.301399</td>\n",
       "                        <td id=\"T_e7b86a18_c8da_11ed_a891_bc542f299c57row9_col7\" class=\"data row9 col7\" >0.0150682</td>\n",
       "                        <td id=\"T_e7b86a18_c8da_11ed_a891_bc542f299c57row9_col8\" class=\"data row9 col8\" >0.0923525</td>\n",
       "                        <td id=\"T_e7b86a18_c8da_11ed_a891_bc542f299c57row9_col9\" class=\"data row9 col9\" >1</td>\n",
       "                        <td id=\"T_e7b86a18_c8da_11ed_a891_bc542f299c57row9_col10\" class=\"data row9 col10\" >0.00640173</td>\n",
       "                        <td id=\"T_e7b86a18_c8da_11ed_a891_bc542f299c57row9_col11\" class=\"data row9 col11\" >0.281725</td>\n",
       "                        <td id=\"T_e7b86a18_c8da_11ed_a891_bc542f299c57row9_col12\" class=\"data row9 col12\" >-0.102847</td>\n",
       "                        <td id=\"T_e7b86a18_c8da_11ed_a891_bc542f299c57row9_col13\" class=\"data row9 col13\" >0.682995</td>\n",
       "                        <td id=\"T_e7b86a18_c8da_11ed_a891_bc542f299c57row9_col14\" class=\"data row9 col14\" >0.144344</td>\n",
       "                        <td id=\"T_e7b86a18_c8da_11ed_a891_bc542f299c57row9_col15\" class=\"data row9 col15\" >0.135167</td>\n",
       "                        <td id=\"T_e7b86a18_c8da_11ed_a891_bc542f299c57row9_col16\" class=\"data row9 col16\" >0.0757893</td>\n",
       "                        <td id=\"T_e7b86a18_c8da_11ed_a891_bc542f299c57row9_col17\" class=\"data row9 col17\" >0.0117527</td>\n",
       "                        <td id=\"T_e7b86a18_c8da_11ed_a891_bc542f299c57row9_col18\" class=\"data row9 col18\" >0.0116824</td>\n",
       "                        <td id=\"T_e7b86a18_c8da_11ed_a891_bc542f299c57row9_col19\" class=\"data row9 col19\" >0.000343197</td>\n",
       "            </tr>\n",
       "            <tr>\n",
       "                        <th id=\"T_e7b86a18_c8da_11ed_a891_bc542f299c57level0_row10\" class=\"row_heading level0 row10\" >pub_rec</th>\n",
       "                        <td id=\"T_e7b86a18_c8da_11ed_a891_bc542f299c57row10_col0\" class=\"data row10 col0\" >-0.0432383</td>\n",
       "                        <td id=\"T_e7b86a18_c8da_11ed_a891_bc542f299c57row10_col1\" class=\"data row10 col1\" >-0.0435769</td>\n",
       "                        <td id=\"T_e7b86a18_c8da_11ed_a891_bc542f299c57row10_col2\" class=\"data row10 col2\" >-0.0460475</td>\n",
       "                        <td id=\"T_e7b86a18_c8da_11ed_a891_bc542f299c57row10_col3\" class=\"data row10 col3\" >0.105124</td>\n",
       "                        <td id=\"T_e7b86a18_c8da_11ed_a891_bc542f299c57row10_col4\" class=\"data row10 col4\" >-0.0392168</td>\n",
       "                        <td id=\"T_e7b86a18_c8da_11ed_a891_bc542f299c57row10_col5\" class=\"data row10 col5\" >0.000107345</td>\n",
       "                        <td id=\"T_e7b86a18_c8da_11ed_a891_bc542f299c57row10_col6\" class=\"data row10 col6\" >-0.00833051</td>\n",
       "                        <td id=\"T_e7b86a18_c8da_11ed_a891_bc542f299c57row10_col7\" class=\"data row10 col7\" >0.00917477</td>\n",
       "                        <td id=\"T_e7b86a18_c8da_11ed_a891_bc542f299c57row10_col8\" class=\"data row10 col8\" >0.0254514</td>\n",
       "                        <td id=\"T_e7b86a18_c8da_11ed_a891_bc542f299c57row10_col9\" class=\"data row10 col9\" >0.00640173</td>\n",
       "                        <td id=\"T_e7b86a18_c8da_11ed_a891_bc542f299c57row10_col10\" class=\"data row10 col10\" >1</td>\n",
       "                        <td id=\"T_e7b86a18_c8da_11ed_a891_bc542f299c57row10_col11\" class=\"data row10 col11\" >-0.0580496</td>\n",
       "                        <td id=\"T_e7b86a18_c8da_11ed_a891_bc542f299c57row10_col12\" class=\"data row10 col12\" >0.0602797</td>\n",
       "                        <td id=\"T_e7b86a18_c8da_11ed_a891_bc542f299c57row10_col13\" class=\"data row10 col13\" >-0.0135664</td>\n",
       "                        <td id=\"T_e7b86a18_c8da_11ed_a891_bc542f299c57row10_col14\" class=\"data row10 col14\" >-0.0456976</td>\n",
       "                        <td id=\"T_e7b86a18_c8da_11ed_a891_bc542f299c57row10_col15\" class=\"data row10 col15\" >-0.0470643</td>\n",
       "                        <td id=\"T_e7b86a18_c8da_11ed_a891_bc542f299c57row10_col16\" class=\"data row10 col16\" >-0.0259491</td>\n",
       "                        <td id=\"T_e7b86a18_c8da_11ed_a891_bc542f299c57row10_col17\" class=\"data row10 col17\" >0.843918</td>\n",
       "                        <td id=\"T_e7b86a18_c8da_11ed_a891_bc542f299c57row10_col18\" class=\"data row10 col18\" >-0.00451276</td>\n",
       "                        <td id=\"T_e7b86a18_c8da_11ed_a891_bc542f299c57row10_col19\" class=\"data row10 col19\" >-0.0227173</td>\n",
       "            </tr>\n",
       "            <tr>\n",
       "                        <th id=\"T_e7b86a18_c8da_11ed_a891_bc542f299c57level0_row11\" class=\"row_heading level0 row11\" >revol_bal</th>\n",
       "                        <td id=\"T_e7b86a18_c8da_11ed_a891_bc542f299c57row11_col0\" class=\"data row11 col0\" >0.313888</td>\n",
       "                        <td id=\"T_e7b86a18_c8da_11ed_a891_bc542f299c57row11_col1\" class=\"data row11 col1\" >0.306265</td>\n",
       "                        <td id=\"T_e7b86a18_c8da_11ed_a891_bc542f299c57row11_col2\" class=\"data row11 col2\" >0.287757</td>\n",
       "                        <td id=\"T_e7b86a18_c8da_11ed_a891_bc542f299c57row11_col3\" class=\"data row11 col3\" >0.069744</td>\n",
       "                        <td id=\"T_e7b86a18_c8da_11ed_a891_bc542f299c57row11_col4\" class=\"data row11 col4\" >0.305428</td>\n",
       "                        <td id=\"T_e7b86a18_c8da_11ed_a891_bc542f299c57row11_col5\" class=\"data row11 col5\" >0.371343</td>\n",
       "                        <td id=\"T_e7b86a18_c8da_11ed_a891_bc542f299c57row11_col6\" class=\"data row11 col6\" >0.286327</td>\n",
       "                        <td id=\"T_e7b86a18_c8da_11ed_a891_bc542f299c57row11_col7\" class=\"data row11 col7\" >-0.0685783</td>\n",
       "                        <td id=\"T_e7b86a18_c8da_11ed_a891_bc542f299c57row11_col8\" class=\"data row11 col8\" >-0.0244435</td>\n",
       "                        <td id=\"T_e7b86a18_c8da_11ed_a891_bc542f299c57row11_col9\" class=\"data row11 col9\" >0.281725</td>\n",
       "                        <td id=\"T_e7b86a18_c8da_11ed_a891_bc542f299c57row11_col10\" class=\"data row11 col10\" >-0.0580496</td>\n",
       "                        <td id=\"T_e7b86a18_c8da_11ed_a891_bc542f299c57row11_col11\" class=\"data row11 col11\" >1</td>\n",
       "                        <td id=\"T_e7b86a18_c8da_11ed_a891_bc542f299c57row11_col12\" class=\"data row11 col12\" >0.319769</td>\n",
       "                        <td id=\"T_e7b86a18_c8da_11ed_a891_bc542f299c57row11_col13\" class=\"data row11 col13\" >0.303811</td>\n",
       "                        <td id=\"T_e7b86a18_c8da_11ed_a891_bc542f299c57row11_col14\" class=\"data row11 col14\" >0.278378</td>\n",
       "                        <td id=\"T_e7b86a18_c8da_11ed_a891_bc542f299c57row11_col15\" class=\"data row11 col15\" >0.26347</td>\n",
       "                        <td id=\"T_e7b86a18_c8da_11ed_a891_bc542f299c57row11_col16\" class=\"data row11 col16\" >0.118996</td>\n",
       "                        <td id=\"T_e7b86a18_c8da_11ed_a891_bc542f299c57row11_col17\" class=\"data row11 col17\" >-0.0430762</td>\n",
       "                        <td id=\"T_e7b86a18_c8da_11ed_a891_bc542f299c57row11_col18\" class=\"data row11 col18\" >-0.00657841</td>\n",
       "                        <td id=\"T_e7b86a18_c8da_11ed_a891_bc542f299c57row11_col19\" class=\"data row11 col19\" >0.0187048</td>\n",
       "            </tr>\n",
       "            <tr>\n",
       "                        <th id=\"T_e7b86a18_c8da_11ed_a891_bc542f299c57level0_row12\" class=\"row_heading level0 row12\" >revol_util</th>\n",
       "                        <td id=\"T_e7b86a18_c8da_11ed_a891_bc542f299c57row12_col0\" class=\"data row12 col0\" >0.0726902</td>\n",
       "                        <td id=\"T_e7b86a18_c8da_11ed_a891_bc542f299c57row12_col1\" class=\"data row12 col1\" >0.0770884</td>\n",
       "                        <td id=\"T_e7b86a18_c8da_11ed_a891_bc542f299c57row12_col2\" class=\"data row12 col2\" >0.0818448</td>\n",
       "                        <td id=\"T_e7b86a18_c8da_11ed_a891_bc542f299c57row12_col3\" class=\"data row12 col3\" >0.464169</td>\n",
       "                        <td id=\"T_e7b86a18_c8da_11ed_a891_bc542f299c57row12_col4\" class=\"data row12 col4\" >0.105364</td>\n",
       "                        <td id=\"T_e7b86a18_c8da_11ed_a891_bc542f299c57row12_col5\" class=\"data row12 col5\" >0.047056</td>\n",
       "                        <td id=\"T_e7b86a18_c8da_11ed_a891_bc542f299c57row12_col6\" class=\"data row12 col6\" >0.27281</td>\n",
       "                        <td id=\"T_e7b86a18_c8da_11ed_a891_bc542f299c57row12_col7\" class=\"data row12 col7\" >-0.0433221</td>\n",
       "                        <td id=\"T_e7b86a18_c8da_11ed_a891_bc542f299c57row12_col8\" class=\"data row12 col8\" >-0.0683825</td>\n",
       "                        <td id=\"T_e7b86a18_c8da_11ed_a891_bc542f299c57row12_col9\" class=\"data row12 col9\" >-0.102847</td>\n",
       "                        <td id=\"T_e7b86a18_c8da_11ed_a891_bc542f299c57row12_col10\" class=\"data row12 col10\" >0.0602797</td>\n",
       "                        <td id=\"T_e7b86a18_c8da_11ed_a891_bc542f299c57row12_col11\" class=\"data row12 col11\" >0.319769</td>\n",
       "                        <td id=\"T_e7b86a18_c8da_11ed_a891_bc542f299c57row12_col12\" class=\"data row12 col12\" >1</td>\n",
       "                        <td id=\"T_e7b86a18_c8da_11ed_a891_bc542f299c57row12_col13\" class=\"data row12 col13\" >-0.084341</td>\n",
       "                        <td id=\"T_e7b86a18_c8da_11ed_a891_bc542f299c57row12_col14\" class=\"data row12 col14\" >0.0797112</td>\n",
       "                        <td id=\"T_e7b86a18_c8da_11ed_a891_bc542f299c57row12_col15\" class=\"data row12 col15\" >0.0829534</td>\n",
       "                        <td id=\"T_e7b86a18_c8da_11ed_a891_bc542f299c57row12_col16\" class=\"data row12 col16\" >-0.00923621</td>\n",
       "                        <td id=\"T_e7b86a18_c8da_11ed_a891_bc542f299c57row12_col17\" class=\"data row12 col17\" >0.0608167</td>\n",
       "                        <td id=\"T_e7b86a18_c8da_11ed_a891_bc542f299c57row12_col18\" class=\"data row12 col18\" >0.0677375</td>\n",
       "                        <td id=\"T_e7b86a18_c8da_11ed_a891_bc542f299c57row12_col19\" class=\"data row12 col19\" >0.0524969</td>\n",
       "            </tr>\n",
       "            <tr>\n",
       "                        <th id=\"T_e7b86a18_c8da_11ed_a891_bc542f299c57level0_row13\" class=\"row_heading level0 row13\" >total_acc</th>\n",
       "                        <td id=\"T_e7b86a18_c8da_11ed_a891_bc542f299c57row13_col0\" class=\"data row13 col0\" >0.233665</td>\n",
       "                        <td id=\"T_e7b86a18_c8da_11ed_a891_bc542f299c57row13_col1\" class=\"data row13 col1\" >0.227852</td>\n",
       "                        <td id=\"T_e7b86a18_c8da_11ed_a891_bc542f299c57row13_col2\" class=\"data row13 col2\" >0.221735</td>\n",
       "                        <td id=\"T_e7b86a18_c8da_11ed_a891_bc542f299c57row13_col3\" class=\"data row13 col3\" >-0.0754346</td>\n",
       "                        <td id=\"T_e7b86a18_c8da_11ed_a891_bc542f299c57row13_col4\" class=\"data row13 col4\" >0.204157</td>\n",
       "                        <td id=\"T_e7b86a18_c8da_11ed_a891_bc542f299c57row13_col5\" class=\"data row13 col5\" >0.381524</td>\n",
       "                        <td id=\"T_e7b86a18_c8da_11ed_a891_bc542f299c57row13_col6\" class=\"data row13 col6\" >0.253199</td>\n",
       "                        <td id=\"T_e7b86a18_c8da_11ed_a891_bc542f299c57row13_col7\" class=\"data row13 col7\" >0.0673832</td>\n",
       "                        <td id=\"T_e7b86a18_c8da_11ed_a891_bc542f299c57row13_col8\" class=\"data row13 col8\" >0.10776</td>\n",
       "                        <td id=\"T_e7b86a18_c8da_11ed_a891_bc542f299c57row13_col9\" class=\"data row13 col9\" >0.682995</td>\n",
       "                        <td id=\"T_e7b86a18_c8da_11ed_a891_bc542f299c57row13_col10\" class=\"data row13 col10\" >-0.0135664</td>\n",
       "                        <td id=\"T_e7b86a18_c8da_11ed_a891_bc542f299c57row13_col11\" class=\"data row13 col11\" >0.303811</td>\n",
       "                        <td id=\"T_e7b86a18_c8da_11ed_a891_bc542f299c57row13_col12\" class=\"data row13 col12\" >-0.084341</td>\n",
       "                        <td id=\"T_e7b86a18_c8da_11ed_a891_bc542f299c57row13_col13\" class=\"data row13 col13\" >1</td>\n",
       "                        <td id=\"T_e7b86a18_c8da_11ed_a891_bc542f299c57row13_col14\" class=\"data row13 col14\" >0.19914</td>\n",
       "                        <td id=\"T_e7b86a18_c8da_11ed_a891_bc542f299c57row13_col15\" class=\"data row13 col15\" >0.194525</td>\n",
       "                        <td id=\"T_e7b86a18_c8da_11ed_a891_bc542f299c57row13_col16\" class=\"data row13 col16\" >0.158321</td>\n",
       "                        <td id=\"T_e7b86a18_c8da_11ed_a891_bc542f299c57row13_col17\" class=\"data row13 col17\" >-0.000135965</td>\n",
       "                        <td id=\"T_e7b86a18_c8da_11ed_a891_bc542f299c57row13_col18\" class=\"data row13 col18\" >0.0507827</td>\n",
       "                        <td id=\"T_e7b86a18_c8da_11ed_a891_bc542f299c57row13_col19\" class=\"data row13 col19\" >0.00151668</td>\n",
       "            </tr>\n",
       "            <tr>\n",
       "                        <th id=\"T_e7b86a18_c8da_11ed_a891_bc542f299c57level0_row14\" class=\"row_heading level0 row14\" >total_pymnt</th>\n",
       "                        <td id=\"T_e7b86a18_c8da_11ed_a891_bc542f299c57row14_col0\" class=\"data row14 col0\" >0.870795</td>\n",
       "                        <td id=\"T_e7b86a18_c8da_11ed_a891_bc542f299c57row14_col1\" class=\"data row14 col1\" >0.88745</td>\n",
       "                        <td id=\"T_e7b86a18_c8da_11ed_a891_bc542f299c57row14_col2\" class=\"data row14 col2\" >0.863209</td>\n",
       "                        <td id=\"T_e7b86a18_c8da_11ed_a891_bc542f299c57row14_col3\" class=\"data row14 col3\" >0.268066</td>\n",
       "                        <td id=\"T_e7b86a18_c8da_11ed_a891_bc542f299c57row14_col4\" class=\"data row14 col4\" >0.848843</td>\n",
       "                        <td id=\"T_e7b86a18_c8da_11ed_a891_bc542f299c57row14_col5\" class=\"data row14 col5\" >0.368115</td>\n",
       "                        <td id=\"T_e7b86a18_c8da_11ed_a891_bc542f299c57row14_col6\" class=\"data row14 col6\" >0.0982098</td>\n",
       "                        <td id=\"T_e7b86a18_c8da_11ed_a891_bc542f299c57row14_col7\" class=\"data row14 col7\" >-0.0321069</td>\n",
       "                        <td id=\"T_e7b86a18_c8da_11ed_a891_bc542f299c57row14_col8\" class=\"data row14 col8\" >-0.0196715</td>\n",
       "                        <td id=\"T_e7b86a18_c8da_11ed_a891_bc542f299c57row14_col9\" class=\"data row14 col9\" >0.144344</td>\n",
       "                        <td id=\"T_e7b86a18_c8da_11ed_a891_bc542f299c57row14_col10\" class=\"data row14 col10\" >-0.0456976</td>\n",
       "                        <td id=\"T_e7b86a18_c8da_11ed_a891_bc542f299c57row14_col11\" class=\"data row14 col11\" >0.278378</td>\n",
       "                        <td id=\"T_e7b86a18_c8da_11ed_a891_bc542f299c57row14_col12\" class=\"data row14 col12\" >0.0797112</td>\n",
       "                        <td id=\"T_e7b86a18_c8da_11ed_a891_bc542f299c57row14_col13\" class=\"data row14 col13\" >0.19914</td>\n",
       "                        <td id=\"T_e7b86a18_c8da_11ed_a891_bc542f299c57row14_col14\" class=\"data row14 col14\" >1</td>\n",
       "                        <td id=\"T_e7b86a18_c8da_11ed_a891_bc542f299c57row14_col15\" class=\"data row14 col15\" >0.967382</td>\n",
       "                        <td id=\"T_e7b86a18_c8da_11ed_a891_bc542f299c57row14_col16\" class=\"data row14 col16\" >0.508783</td>\n",
       "                        <td id=\"T_e7b86a18_c8da_11ed_a891_bc542f299c57row14_col17\" class=\"data row14 col17\" >-0.0341749</td>\n",
       "                        <td id=\"T_e7b86a18_c8da_11ed_a891_bc542f299c57row14_col18\" class=\"data row14 col18\" >0.101932</td>\n",
       "                        <td id=\"T_e7b86a18_c8da_11ed_a891_bc542f299c57row14_col19\" class=\"data row14 col19\" >0.0233146</td>\n",
       "            </tr>\n",
       "            <tr>\n",
       "                        <th id=\"T_e7b86a18_c8da_11ed_a891_bc542f299c57level0_row15\" class=\"row_heading level0 row15\" >total_pymnt_inv</th>\n",
       "                        <td id=\"T_e7b86a18_c8da_11ed_a891_bc542f299c57row15_col0\" class=\"data row15 col0\" >0.834986</td>\n",
       "                        <td id=\"T_e7b86a18_c8da_11ed_a891_bc542f299c57row15_col1\" class=\"data row15 col1\" >0.85172</td>\n",
       "                        <td id=\"T_e7b86a18_c8da_11ed_a891_bc542f299c57row15_col2\" class=\"data row15 col2\" >0.898689</td>\n",
       "                        <td id=\"T_e7b86a18_c8da_11ed_a891_bc542f299c57row15_col3\" class=\"data row15 col3\" >0.263366</td>\n",
       "                        <td id=\"T_e7b86a18_c8da_11ed_a891_bc542f299c57row15_col4\" class=\"data row15 col4\" >0.805279</td>\n",
       "                        <td id=\"T_e7b86a18_c8da_11ed_a891_bc542f299c57row15_col5\" class=\"data row15 col5\" >0.353818</td>\n",
       "                        <td id=\"T_e7b86a18_c8da_11ed_a891_bc542f299c57row15_col6\" class=\"data row15 col6\" >0.104021</td>\n",
       "                        <td id=\"T_e7b86a18_c8da_11ed_a891_bc542f299c57row15_col7\" class=\"data row15 col7\" >-0.0373715</td>\n",
       "                        <td id=\"T_e7b86a18_c8da_11ed_a891_bc542f299c57row15_col8\" class=\"data row15 col8\" >-0.0296365</td>\n",
       "                        <td id=\"T_e7b86a18_c8da_11ed_a891_bc542f299c57row15_col9\" class=\"data row15 col9\" >0.135167</td>\n",
       "                        <td id=\"T_e7b86a18_c8da_11ed_a891_bc542f299c57row15_col10\" class=\"data row15 col10\" >-0.0470643</td>\n",
       "                        <td id=\"T_e7b86a18_c8da_11ed_a891_bc542f299c57row15_col11\" class=\"data row15 col11\" >0.26347</td>\n",
       "                        <td id=\"T_e7b86a18_c8da_11ed_a891_bc542f299c57row15_col12\" class=\"data row15 col12\" >0.0829534</td>\n",
       "                        <td id=\"T_e7b86a18_c8da_11ed_a891_bc542f299c57row15_col13\" class=\"data row15 col13\" >0.194525</td>\n",
       "                        <td id=\"T_e7b86a18_c8da_11ed_a891_bc542f299c57row15_col14\" class=\"data row15 col14\" >0.967382</td>\n",
       "                        <td id=\"T_e7b86a18_c8da_11ed_a891_bc542f299c57row15_col15\" class=\"data row15 col15\" >1</td>\n",
       "                        <td id=\"T_e7b86a18_c8da_11ed_a891_bc542f299c57row15_col16\" class=\"data row15 col16\" >0.49958</td>\n",
       "                        <td id=\"T_e7b86a18_c8da_11ed_a891_bc542f299c57row15_col17\" class=\"data row15 col17\" >-0.0348429</td>\n",
       "                        <td id=\"T_e7b86a18_c8da_11ed_a891_bc542f299c57row15_col18\" class=\"data row15 col18\" >0.216721</td>\n",
       "                        <td id=\"T_e7b86a18_c8da_11ed_a891_bc542f299c57row15_col19\" class=\"data row15 col19\" >0.0459935</td>\n",
       "            </tr>\n",
       "            <tr>\n",
       "                        <th id=\"T_e7b86a18_c8da_11ed_a891_bc542f299c57level0_row16\" class=\"row_heading level0 row16\" >last_pymnt_amnt</th>\n",
       "                        <td id=\"T_e7b86a18_c8da_11ed_a891_bc542f299c57row16_col0\" class=\"data row16 col0\" >0.462193</td>\n",
       "                        <td id=\"T_e7b86a18_c8da_11ed_a891_bc542f299c57row16_col1\" class=\"data row16 col1\" >0.46697</td>\n",
       "                        <td id=\"T_e7b86a18_c8da_11ed_a891_bc542f299c57row16_col2\" class=\"data row16 col2\" >0.460652</td>\n",
       "                        <td id=\"T_e7b86a18_c8da_11ed_a891_bc542f299c57row16_col3\" class=\"data row16 col3\" >0.156072</td>\n",
       "                        <td id=\"T_e7b86a18_c8da_11ed_a891_bc542f299c57row16_col4\" class=\"data row16 col4\" >0.399956</td>\n",
       "                        <td id=\"T_e7b86a18_c8da_11ed_a891_bc542f299c57row16_col5\" class=\"data row16 col5\" >0.20816</td>\n",
       "                        <td id=\"T_e7b86a18_c8da_11ed_a891_bc542f299c57row16_col6\" class=\"data row16 col6\" >0.0316053</td>\n",
       "                        <td id=\"T_e7b86a18_c8da_11ed_a891_bc542f299c57row16_col7\" class=\"data row16 col7\" >-0.017218</td>\n",
       "                        <td id=\"T_e7b86a18_c8da_11ed_a891_bc542f299c57row16_col8\" class=\"data row16 col8\" >0.021444</td>\n",
       "                        <td id=\"T_e7b86a18_c8da_11ed_a891_bc542f299c57row16_col9\" class=\"data row16 col9\" >0.0757893</td>\n",
       "                        <td id=\"T_e7b86a18_c8da_11ed_a891_bc542f299c57row16_col10\" class=\"data row16 col10\" >-0.0259491</td>\n",
       "                        <td id=\"T_e7b86a18_c8da_11ed_a891_bc542f299c57row16_col11\" class=\"data row16 col11\" >0.118996</td>\n",
       "                        <td id=\"T_e7b86a18_c8da_11ed_a891_bc542f299c57row16_col12\" class=\"data row16 col12\" >-0.00923621</td>\n",
       "                        <td id=\"T_e7b86a18_c8da_11ed_a891_bc542f299c57row16_col13\" class=\"data row16 col13\" >0.158321</td>\n",
       "                        <td id=\"T_e7b86a18_c8da_11ed_a891_bc542f299c57row16_col14\" class=\"data row16 col14\" >0.508783</td>\n",
       "                        <td id=\"T_e7b86a18_c8da_11ed_a891_bc542f299c57row16_col15\" class=\"data row16 col15\" >0.49958</td>\n",
       "                        <td id=\"T_e7b86a18_c8da_11ed_a891_bc542f299c57row16_col16\" class=\"data row16 col16\" >1</td>\n",
       "                        <td id=\"T_e7b86a18_c8da_11ed_a891_bc542f299c57row16_col17\" class=\"data row16 col17\" >-0.0153763</td>\n",
       "                        <td id=\"T_e7b86a18_c8da_11ed_a891_bc542f299c57row16_col18\" class=\"data row16 col18\" >0.129629</td>\n",
       "                        <td id=\"T_e7b86a18_c8da_11ed_a891_bc542f299c57row16_col19\" class=\"data row16 col19\" >0.049502</td>\n",
       "            </tr>\n",
       "            <tr>\n",
       "                        <th id=\"T_e7b86a18_c8da_11ed_a891_bc542f299c57level0_row17\" class=\"row_heading level0 row17\" >pub_rec_bankruptcies</th>\n",
       "                        <td id=\"T_e7b86a18_c8da_11ed_a891_bc542f299c57row17_col0\" class=\"data row17 col0\" >-0.0275223</td>\n",
       "                        <td id=\"T_e7b86a18_c8da_11ed_a891_bc542f299c57row17_col1\" class=\"data row17 col1\" >-0.0281114</td>\n",
       "                        <td id=\"T_e7b86a18_c8da_11ed_a891_bc542f299c57row17_col2\" class=\"data row17 col2\" >-0.0293171</td>\n",
       "                        <td id=\"T_e7b86a18_c8da_11ed_a891_bc542f299c57row17_col3\" class=\"data row17 col3\" >0.0882896</td>\n",
       "                        <td id=\"T_e7b86a18_c8da_11ed_a891_bc542f299c57row17_col4\" class=\"data row17 col4\" >-0.0251721</td>\n",
       "                        <td id=\"T_e7b86a18_c8da_11ed_a891_bc542f299c57row17_col5\" class=\"data row17 col5\" >0.00329949</td>\n",
       "                        <td id=\"T_e7b86a18_c8da_11ed_a891_bc542f299c57row17_col6\" class=\"data row17 col6\" >0.00382196</td>\n",
       "                        <td id=\"T_e7b86a18_c8da_11ed_a891_bc542f299c57row17_col7\" class=\"data row17 col7\" >0.00407475</td>\n",
       "                        <td id=\"T_e7b86a18_c8da_11ed_a891_bc542f299c57row17_col8\" class=\"data row17 col8\" >0.0155055</td>\n",
       "                        <td id=\"T_e7b86a18_c8da_11ed_a891_bc542f299c57row17_col9\" class=\"data row17 col9\" >0.0117527</td>\n",
       "                        <td id=\"T_e7b86a18_c8da_11ed_a891_bc542f299c57row17_col10\" class=\"data row17 col10\" >0.843918</td>\n",
       "                        <td id=\"T_e7b86a18_c8da_11ed_a891_bc542f299c57row17_col11\" class=\"data row17 col11\" >-0.0430762</td>\n",
       "                        <td id=\"T_e7b86a18_c8da_11ed_a891_bc542f299c57row17_col12\" class=\"data row17 col12\" >0.0608167</td>\n",
       "                        <td id=\"T_e7b86a18_c8da_11ed_a891_bc542f299c57row17_col13\" class=\"data row17 col13\" >-0.000135965</td>\n",
       "                        <td id=\"T_e7b86a18_c8da_11ed_a891_bc542f299c57row17_col14\" class=\"data row17 col14\" >-0.0341749</td>\n",
       "                        <td id=\"T_e7b86a18_c8da_11ed_a891_bc542f299c57row17_col15\" class=\"data row17 col15\" >-0.0348429</td>\n",
       "                        <td id=\"T_e7b86a18_c8da_11ed_a891_bc542f299c57row17_col16\" class=\"data row17 col16\" >-0.0153763</td>\n",
       "                        <td id=\"T_e7b86a18_c8da_11ed_a891_bc542f299c57row17_col17\" class=\"data row17 col17\" >1</td>\n",
       "                        <td id=\"T_e7b86a18_c8da_11ed_a891_bc542f299c57row17_col18\" class=\"data row17 col18\" >0.0145212</td>\n",
       "                        <td id=\"T_e7b86a18_c8da_11ed_a891_bc542f299c57row17_col19\" class=\"data row17 col19\" >-0.0188885</td>\n",
       "            </tr>\n",
       "            <tr>\n",
       "                        <th id=\"T_e7b86a18_c8da_11ed_a891_bc542f299c57level0_row18\" class=\"row_heading level0 row18\" >issue_year</th>\n",
       "                        <td id=\"T_e7b86a18_c8da_11ed_a891_bc542f299c57row18_col0\" class=\"data row18 col0\" >0.102318</td>\n",
       "                        <td id=\"T_e7b86a18_c8da_11ed_a891_bc542f299c57row18_col1\" class=\"data row18 col1\" >0.11377</td>\n",
       "                        <td id=\"T_e7b86a18_c8da_11ed_a891_bc542f299c57row18_col2\" class=\"data row18 col2\" >0.249596</td>\n",
       "                        <td id=\"T_e7b86a18_c8da_11ed_a891_bc542f299c57row18_col3\" class=\"data row18 col3\" >0.0331545</td>\n",
       "                        <td id=\"T_e7b86a18_c8da_11ed_a891_bc542f299c57row18_col4\" class=\"data row18 col4\" >0.0447918</td>\n",
       "                        <td id=\"T_e7b86a18_c8da_11ed_a891_bc542f299c57row18_col5\" class=\"data row18 col5\" >0.0397938</td>\n",
       "                        <td id=\"T_e7b86a18_c8da_11ed_a891_bc542f299c57row18_col6\" class=\"data row18 col6\" >0.0954272</td>\n",
       "                        <td id=\"T_e7b86a18_c8da_11ed_a891_bc542f299c57row18_col7\" class=\"data row18 col7\" >-0.00279698</td>\n",
       "                        <td id=\"T_e7b86a18_c8da_11ed_a891_bc542f299c57row18_col8\" class=\"data row18 col8\" >-0.0621181</td>\n",
       "                        <td id=\"T_e7b86a18_c8da_11ed_a891_bc542f299c57row18_col9\" class=\"data row18 col9\" >0.0116824</td>\n",
       "                        <td id=\"T_e7b86a18_c8da_11ed_a891_bc542f299c57row18_col10\" class=\"data row18 col10\" >-0.00451276</td>\n",
       "                        <td id=\"T_e7b86a18_c8da_11ed_a891_bc542f299c57row18_col11\" class=\"data row18 col11\" >-0.00657841</td>\n",
       "                        <td id=\"T_e7b86a18_c8da_11ed_a891_bc542f299c57row18_col12\" class=\"data row18 col12\" >0.0677375</td>\n",
       "                        <td id=\"T_e7b86a18_c8da_11ed_a891_bc542f299c57row18_col13\" class=\"data row18 col13\" >0.0507827</td>\n",
       "                        <td id=\"T_e7b86a18_c8da_11ed_a891_bc542f299c57row18_col14\" class=\"data row18 col14\" >0.101932</td>\n",
       "                        <td id=\"T_e7b86a18_c8da_11ed_a891_bc542f299c57row18_col15\" class=\"data row18 col15\" >0.216721</td>\n",
       "                        <td id=\"T_e7b86a18_c8da_11ed_a891_bc542f299c57row18_col16\" class=\"data row18 col16\" >0.129629</td>\n",
       "                        <td id=\"T_e7b86a18_c8da_11ed_a891_bc542f299c57row18_col17\" class=\"data row18 col17\" >0.0145212</td>\n",
       "                        <td id=\"T_e7b86a18_c8da_11ed_a891_bc542f299c57row18_col18\" class=\"data row18 col18\" >1</td>\n",
       "                        <td id=\"T_e7b86a18_c8da_11ed_a891_bc542f299c57row18_col19\" class=\"data row18 col19\" >-0.0307777</td>\n",
       "            </tr>\n",
       "            <tr>\n",
       "                        <th id=\"T_e7b86a18_c8da_11ed_a891_bc542f299c57level0_row19\" class=\"row_heading level0 row19\" >issue_month</th>\n",
       "                        <td id=\"T_e7b86a18_c8da_11ed_a891_bc542f299c57row19_col0\" class=\"data row19 col0\" >0.0488805</td>\n",
       "                        <td id=\"T_e7b86a18_c8da_11ed_a891_bc542f299c57row19_col1\" class=\"data row19 col1\" >0.0391466</td>\n",
       "                        <td id=\"T_e7b86a18_c8da_11ed_a891_bc542f299c57row19_col2\" class=\"data row19 col2\" >0.0658815</td>\n",
       "                        <td id=\"T_e7b86a18_c8da_11ed_a891_bc542f299c57row19_col3\" class=\"data row19 col3\" >0.0258366</td>\n",
       "                        <td id=\"T_e7b86a18_c8da_11ed_a891_bc542f299c57row19_col4\" class=\"data row19 col4\" >0.0267958</td>\n",
       "                        <td id=\"T_e7b86a18_c8da_11ed_a891_bc542f299c57row19_col5\" class=\"data row19 col5\" >0.0115823</td>\n",
       "                        <td id=\"T_e7b86a18_c8da_11ed_a891_bc542f299c57row19_col6\" class=\"data row19 col6\" >0.0187727</td>\n",
       "                        <td id=\"T_e7b86a18_c8da_11ed_a891_bc542f299c57row19_col7\" class=\"data row19 col7\" >-0.00912017</td>\n",
       "                        <td id=\"T_e7b86a18_c8da_11ed_a891_bc542f299c57row19_col8\" class=\"data row19 col8\" >0.0155848</td>\n",
       "                        <td id=\"T_e7b86a18_c8da_11ed_a891_bc542f299c57row19_col9\" class=\"data row19 col9\" >0.000343197</td>\n",
       "                        <td id=\"T_e7b86a18_c8da_11ed_a891_bc542f299c57row19_col10\" class=\"data row19 col10\" >-0.0227173</td>\n",
       "                        <td id=\"T_e7b86a18_c8da_11ed_a891_bc542f299c57row19_col11\" class=\"data row19 col11\" >0.0187048</td>\n",
       "                        <td id=\"T_e7b86a18_c8da_11ed_a891_bc542f299c57row19_col12\" class=\"data row19 col12\" >0.0524969</td>\n",
       "                        <td id=\"T_e7b86a18_c8da_11ed_a891_bc542f299c57row19_col13\" class=\"data row19 col13\" >0.00151668</td>\n",
       "                        <td id=\"T_e7b86a18_c8da_11ed_a891_bc542f299c57row19_col14\" class=\"data row19 col14\" >0.0233146</td>\n",
       "                        <td id=\"T_e7b86a18_c8da_11ed_a891_bc542f299c57row19_col15\" class=\"data row19 col15\" >0.0459935</td>\n",
       "                        <td id=\"T_e7b86a18_c8da_11ed_a891_bc542f299c57row19_col16\" class=\"data row19 col16\" >0.049502</td>\n",
       "                        <td id=\"T_e7b86a18_c8da_11ed_a891_bc542f299c57row19_col17\" class=\"data row19 col17\" >-0.0188885</td>\n",
       "                        <td id=\"T_e7b86a18_c8da_11ed_a891_bc542f299c57row19_col18\" class=\"data row19 col18\" >-0.0307777</td>\n",
       "                        <td id=\"T_e7b86a18_c8da_11ed_a891_bc542f299c57row19_col19\" class=\"data row19 col19\" >1</td>\n",
       "            </tr>\n",
       "    </tbody></table>"
      ],
      "text/plain": [
       "<pandas.io.formats.style.Styler at 0x1c3b3aac7b8>"
      ]
     },
     "execution_count": 61,
     "metadata": {},
     "output_type": "execute_result"
    }
   ],
   "source": [
    "numeric_columns= loan[['loan_amnt','funded_amnt','funded_amnt_inv','int_rate','installment','annual_inc','dti','delinq_2yrs','inq_last_6mths','open_acc','pub_rec','revol_bal','revol_util','total_acc','total_pymnt','total_pymnt_inv','last_pymnt_amnt','pub_rec_bankruptcies','issue_year','issue_month']]\n",
    "corr = numeric_columns.corr()\n",
    "corr.style.background_gradient(cmap='coolwarm')"
   ]
  },
  {
   "cell_type": "markdown",
   "metadata": {},
   "source": [
    "## <font color='red'>Observations based on Correlation Matrix--\n",
    "\n",
    "1.\tloan_amnt(amount for which loan is applied) is strongly correlated with 'funded_amnt','funded_amnt_inv' and 'installment'.\n",
    "2.\t'loan_amnt','funded_amnt','funded_amnt_inv' and 'installment'are negatively correlated to 'pub_rec','pub_rec_bankruptcies'.\n",
    "3.\tThe number of open credit lines('open_acc') is negatively correlated to interest rate('int_rate').\n",
    "4.\t'revol_bal'(revolving balance) and 'revol_util'(revolving utilization rate) are negatively correlated to   'delinq_2yrs'(30+ days past due incidences) ,'inq_last_6mths'(inquiry in last 6 months)\n",
    "5.\t'pub_rec_bankruptcies'(number of public record bankruptcies) are negatively correlated to 'last_pymnt_amnt'(last payment) 6.  Annual income('annual_inc') is negatively correlated to Debt to income ratio('dti')</font>"
   ]
  },
  {
   "cell_type": "markdown",
   "metadata": {},
   "source": [
    "## Funded Amount"
   ]
  },
  {
   "cell_type": "markdown",
   "metadata": {},
   "source": [
    "### 1. Funded Amount vs. Term"
   ]
  },
  {
   "cell_type": "code",
   "execution_count": 62,
   "metadata": {},
   "outputs": [
    {
     "data": {
      "image/png": "[encoded data removed]",
      "text/plain": [
       "<Figure size 720x720 with 1 Axes>"
      ]
     },
     "metadata": {
      "needs_background": "light"
     },
     "output_type": "display_data"
    }
   ],
   "source": [
    "plt.figure(figsize=(10,10))\n",
    "sns.barplot(data =loan,x='term', y='funded_amnt', hue ='loan_status',palette=\"pastel\")\n",
    "plt.show()"
   ]
  },
  {
   "cell_type": "markdown",
   "metadata": {},
   "source": [
    "##### Observation:\n",
    "60 months term loan have higher funding amount than 36 months and accordingly both Fully Paid and Charged Off is higher for 60 months"
   ]
  },
  {
   "cell_type": "markdown",
   "metadata": {},
   "source": [
    "### 2. Funded amount vs. Interest Rate"
   ]
  },
  {
   "cell_type": "code",
   "execution_count": 63,
   "metadata": {},
   "outputs": [
    {
     "data": {
      "image/png": "[encoded data removed]",
      "text/plain": [
       "<Figure size 720x720 with 1 Axes>"
      ]
     },
     "metadata": {
      "needs_background": "light"
     },
     "output_type": "display_data"
    }
   ],
   "source": [
    "plt.figure(figsize=(10,10))\n",
    "sns.barplot(data =loan,x='int_rate_bins', y='funded_amnt', hue ='loan_status',palette=\"pastel\")\n",
    "plt.show()"
   ]
  },
  {
   "cell_type": "markdown",
   "metadata": {},
   "source": [
    "##### Observation:\n",
    "Higher value loans are funded at higher interest rate,which is good source of business for bank"
   ]
  },
  {
   "cell_type": "markdown",
   "metadata": {},
   "source": [
    "### 3.Funded amount vs. Annual income"
   ]
  },
  {
   "cell_type": "code",
   "execution_count": 64,
   "metadata": {},
   "outputs": [
    {
     "data": {
      "image/png": "[encoded data removed]",
      "text/plain": [
       "<Figure size 720x720 with 1 Axes>"
      ]
     },
     "metadata": {
      "needs_background": "light"
     },
     "output_type": "display_data"
    }
   ],
   "source": [
    "plt.figure(figsize=(10,10))\n",
    "sns.barplot(data =loan,x='annual_inc_bins', y='funded_amnt', hue ='loan_status',palette=\"pastel\")\n",
    "plt.show()"
   ]
  },
  {
   "cell_type": "markdown",
   "metadata": {},
   "source": [
    "##### Observation:\n",
    "Higher value loans are funded to high income group borrowers"
   ]
  },
  {
   "cell_type": "markdown",
   "metadata": {},
   "source": [
    "### 4.Funded amount vs. Loan purpose"
   ]
  },
  {
   "cell_type": "code",
   "execution_count": 65,
   "metadata": {},
   "outputs": [
    {
     "data": {
      "image/png": "[encoded data removed]",
      "text/plain": [
       "<Figure size 720x720 with 1 Axes>"
      ]
     },
     "metadata": {
      "needs_background": "light"
     },
     "output_type": "display_data"
    }
   ],
   "source": [
    "plt.figure(figsize=(10,10))\n",
    "sns.barplot(data =loan,x='funded_amnt', y='purpose', hue ='loan_status',palette=\"pastel\")\n",
    "plt.show()"
   ]
  },
  {
   "cell_type": "markdown",
   "metadata": {},
   "source": [
    "#####  Observation:\n",
    "1.Most high value loans are funded for the purpose of Small business,Debt consolidation and Credit card.  \n",
    "2.If its a high value loan and funded to Small Business Charge Off is more."
   ]
  },
  {
   "cell_type": "markdown",
   "metadata": {},
   "source": [
    "### 5.Funded amount vs. Years of employment"
   ]
  },
  {
   "cell_type": "code",
   "execution_count": 66,
   "metadata": {},
   "outputs": [
    {
     "data": {
      "image/png": "[encoded data removed]",
      "text/plain": [
       "<Figure size 720x720 with 1 Axes>"
      ]
     },
     "metadata": {
      "needs_background": "light"
     },
     "output_type": "display_data"
    }
   ],
   "source": [
    "plt.figure(figsize=(10,10))\n",
    "sns.barplot(data =loan,x='funded_amnt', y='emp_length', hue ='loan_status',palette=\"pastel\")\n",
    "plt.show()"
   ]
  },
  {
   "cell_type": "markdown",
   "metadata": {},
   "source": [
    "##### Observation:\n",
    "Most high value loans are Charged Off for borrowers with 10+ years of experience. \n",
    " "
   ]
  },
  {
   "cell_type": "markdown",
   "metadata": {},
   "source": [
    "## State"
   ]
  },
  {
   "cell_type": "markdown",
   "metadata": {},
   "source": [
    "### 1. State vs. Annual income"
   ]
  },
  {
   "cell_type": "code",
   "execution_count": 67,
   "metadata": {},
   "outputs": [
    {
     "data": {
      "image/png": "[encoded data removed]",
      "text/plain": [
       "<Figure size 2160x2160 with 1 Axes>"
      ]
     },
     "metadata": {
      "needs_background": "light"
     },
     "output_type": "display_data"
    }
   ],
   "source": [
    "plt.figure(figsize=(30,30))\n",
    "sns.barplot(data =loan,x='addr_state', y='annual_inc', hue ='loan_status',palette=\"pastel\")\n",
    "plt.show()"
   ]
  },
  {
   "cell_type": "markdown",
   "metadata": {},
   "source": [
    "##### Observation:\n",
    "1.If the borrower has high annual income and is from the state of 'TN' they are more likely to Charge Off\n",
    "\n",
    "2.If the borrower has high annual income and is from the state of 'DC' they are more like to fully pay their loans.  "
   ]
  },
  {
   "cell_type": "markdown",
   "metadata": {},
   "source": [
    "### 2. State vs. Interest Rate"
   ]
  },
  {
   "cell_type": "code",
   "execution_count": 68,
   "metadata": {},
   "outputs": [
    {
     "data": {
      "image/png": "[encoded data removed]",
      "text/plain": [
       "<Figure size 2160x2160 with 1 Axes>"
      ]
     },
     "metadata": {
      "needs_background": "light"
     },
     "output_type": "display_data"
    }
   ],
   "source": [
    "plt.figure(figsize=(30,30))\n",
    "sns.barplot(data =loan,x='addr_state', y='int_rate', hue ='loan_status',palette=\"pastel\")\n",
    "plt.show()"
   ]
  },
  {
   "cell_type": "markdown",
   "metadata": {},
   "source": [
    "##### Observation:\n",
    "State of 'WY' has highest interest rate both in Charged Off and Fully Paid loans"
   ]
  },
  {
   "cell_type": "markdown",
   "metadata": {},
   "source": [
    "## Loan Amount"
   ]
  },
  {
   "cell_type": "markdown",
   "metadata": {},
   "source": [
    "### Loan Status vs. Loan amount"
   ]
  },
  {
   "cell_type": "code",
   "execution_count": 69,
   "metadata": {},
   "outputs": [
    {
     "data": {
      "text/plain": [
       "<matplotlib.axes._subplots.AxesSubplot at 0x1c3b687f160>"
      ]
     },
     "execution_count": 69,
     "metadata": {},
     "output_type": "execute_result"
    },
    {
     "data": {
      "image/png": "[encoded data removed]",
      "text/plain": [
       "<Figure size 432x288 with 1 Axes>"
      ]
     },
     "metadata": {
      "needs_background": "light"
     },
     "output_type": "display_data"
    }
   ],
   "source": [
    "sns.boxplot(x='loan_status', y='loan_amnt', data=loan)"
   ]
  },
  {
   "cell_type": "markdown",
   "metadata": {},
   "source": [
    "##### Observation: \n",
    "Charged Off loans have higher loan amount  than Fully Paid loans"
   ]
  },
  {
   "cell_type": "markdown",
   "metadata": {},
   "source": [
    "### Home Ownership vs. Loan Amount"
   ]
  },
  {
   "cell_type": "code",
   "execution_count": 70,
   "metadata": {},
   "outputs": [
    {
     "data": {
      "text/plain": [
       "<matplotlib.axes._subplots.AxesSubplot at 0x1c3b69689b0>"
      ]
     },
     "execution_count": 70,
     "metadata": {},
     "output_type": "execute_result"
    },
    {
     "data": {
      "image/png": "[encoded data removed]",
      "text/plain": [
       "<Figure size 432x288 with 1 Axes>"
      ]
     },
     "metadata": {
      "needs_background": "light"
     },
     "output_type": "display_data"
    }
   ],
   "source": [
    "sns.boxplot(x='home_ownership', y='loan_amnt', data=loan)"
   ]
  },
  {
   "cell_type": "markdown",
   "metadata": {},
   "source": [
    "##### Observation: \n",
    "Borrowers who live in mortgaged home have requested for higher loan amount"
   ]
  },
  {
   "cell_type": "markdown",
   "metadata": {},
   "source": [
    "### Purpose vs. Loan amount"
   ]
  },
  {
   "cell_type": "code",
   "execution_count": 71,
   "metadata": {},
   "outputs": [
    {
     "data": {
      "text/plain": [
       "<matplotlib.axes._subplots.AxesSubplot at 0x1c3b6a1cba8>"
      ]
     },
     "execution_count": 71,
     "metadata": {},
     "output_type": "execute_result"
    },
    {
     "data": {
      "image/png": "[encoded data removed]",
      "text/plain": [
       "<Figure size 1440x360 with 1 Axes>"
      ]
     },
     "metadata": {
      "needs_background": "light"
     },
     "output_type": "display_data"
    }
   ],
   "source": [
    "plt.figure(figsize=(20,5))\n",
    "plt.xticks(rotation=90)\n",
    "sns.boxplot(x='purpose', y='loan_amnt', data=loan)"
   ]
  },
  {
   "cell_type": "markdown",
   "metadata": {},
   "source": [
    "##### Observation: \n",
    "Higher loan amount is requested for Small business and Debt reconciliation "
   ]
  },
  {
   "cell_type": "markdown",
   "metadata": {},
   "source": [
    "### Issued year vs. Loan amount"
   ]
  },
  {
   "cell_type": "code",
   "execution_count": 72,
   "metadata": {},
   "outputs": [
    {
     "data": {
      "text/plain": [
       "<matplotlib.axes._subplots.AxesSubplot at 0x1c3b683d780>"
      ]
     },
     "execution_count": 72,
     "metadata": {},
     "output_type": "execute_result"
    },
    {
     "data": {
      "image/png": "[encoded data removed]",
      "text/plain": [
       "<Figure size 432x288 with 1 Axes>"
      ]
     },
     "metadata": {
      "needs_background": "light"
     },
     "output_type": "display_data"
    }
   ],
   "source": [
    "sns.boxplot(x='issue_year', y='loan_amnt', data=loan)"
   ]
  },
  {
   "cell_type": "markdown",
   "metadata": {},
   "source": [
    "##### Observation: \n",
    "The median value for requested loan amount is almost similar each year"
   ]
  },
  {
   "cell_type": "markdown",
   "metadata": {},
   "source": [
    "## Interest Rate"
   ]
  },
  {
   "cell_type": "markdown",
   "metadata": {},
   "source": [
    "###  Loan status vs. Interest Rate "
   ]
  },
  {
   "cell_type": "code",
   "execution_count": 73,
   "metadata": {},
   "outputs": [
    {
     "data": {
      "text/plain": [
       "<matplotlib.axes._subplots.AxesSubplot at 0x1c3b4887080>"
      ]
     },
     "execution_count": 73,
     "metadata": {},
     "output_type": "execute_result"
    },
    {
     "data": {
      "image/png": "[encoded data removed]",
      "text/plain": [
       "<Figure size 432x288 with 1 Axes>"
      ]
     },
     "metadata": {
      "needs_background": "light"
     },
     "output_type": "display_data"
    }
   ],
   "source": [
    "sns.boxplot(x='loan_status', y='int_rate', data=loan)"
   ]
  },
  {
   "cell_type": "markdown",
   "metadata": {},
   "source": [
    "##### Observation: \n",
    "Interest rates for Charged Off loans were higher compared to Fully Paid loans"
   ]
  },
  {
   "cell_type": "markdown",
   "metadata": {},
   "source": [
    "### Purpose vs. Interest Rate"
   ]
  },
  {
   "cell_type": "code",
   "execution_count": 74,
   "metadata": {},
   "outputs": [
    {
     "data": {
      "text/plain": [
       "<matplotlib.axes._subplots.AxesSubplot at 0x1c3b54030b8>"
      ]
     },
     "execution_count": 74,
     "metadata": {},
     "output_type": "execute_result"
    },
    {
     "data": {
      "image/png": "[encoded data removed]",
      "text/plain": [
       "<Figure size 1440x360 with 1 Axes>"
      ]
     },
     "metadata": {
      "needs_background": "light"
     },
     "output_type": "display_data"
    }
   ],
   "source": [
    "plt.figure(figsize=(20,5))\n",
    "plt.xticks(rotation=90)\n",
    "sns.boxplot(x='purpose', y='int_rate', data=loan)"
   ]
  },
  {
   "cell_type": "markdown",
   "metadata": {},
   "source": [
    "##### Observation: \n",
    "Interest rates are higher for loans for the purpose of Debt Consolidation,Small Business and House"
   ]
  },
  {
   "cell_type": "markdown",
   "metadata": {},
   "source": [
    "## <font color='red'>Observations based on Bivariate analysis:\n",
    "1.\t60 months term loan have higher funding amount than 36 months and accordingly both Fully Paid and Charged Off loan is higher for 60 months.\n",
    "2.\tHigher value loans are funded at higher interest rate, which is good source of business for bank.\n",
    "3.\tHigher value loans are funded to high income group borrowers.\n",
    "4.\tMost high value loans are funded for the purpose of Small business, Debt consolidation and Credit card.  \n",
    "5.\tIf its a high value loan and funded to Small Business Charge Off is more.\n",
    "6.\tMost high value loans are Charged Off for borrowers with 10+ years of experience.\n",
    "7.\tIf the borrower has high annual income and is from the state of 'TN' they are more likely to Charge Off\n",
    "8.\tIf the borrower has high annual income and is from the state of 'DC' they are more like to fully pay their loans.\n",
    "9.\tState of 'WY' has highest interest rate both in Charged Off and Fully Paid loans.\n",
    "10.\tCharged Off loans have higher loan amount  than Fully Paid loans.\n",
    "11.\tBorrowers who live in mortgaged home have requested for higher loan amount.\n",
    "12.\tHigher loan amount is requested for Small business and Debt reconciliation.\n",
    "13.\tThe median value for requested loan amount is almost similar each year.\n",
    "14.\tInterest rates for Charged Off loans were higher compared to Fully Paid loans.\n",
    "15.\tInterest rates are higher for loans for the purpose of Debt Consolidation, Small Business and House</font>\n"
   ]
  },
  {
   "cell_type": "markdown",
   "metadata": {},
   "source": [
    "# <font color='green'>Step4:Recommendations</font>"
   ]
  },
  {
   "cell_type": "markdown",
   "metadata": {},
   "source": [
    "## <font color='red'>Recommendations:\n",
    "1.\tBe cautious while sanctioning loans taken for the purpose of Debt consolidation as they are Charged Off most often.\n",
    "2.\tLoans of grade B,C are more Charged Off so need to be more cautious with verification and number of loans offered in these grades.\n",
    "3.\tLoans of sub-grades B5 followed by B3 are more Charged Off, so verify the loan application more cautiously.\n",
    "4.\tIn general the state of 'CA' has highest Charged Off loan, but among the high income group of borrowers the state of 'TN' has highest Charged Off loan.\n",
    "5.\tThe bank should verify the loan applications thoroughly since Charge Off is highest among loans with status ‘Unverified’.\n",
    "6.\tPeople who live in Rented homes have higher Charged Off loans so bank needs to be cautious of such applicants.\n",
    "7.\tThe loans in the interest range 11-16% are most often charged so bank need to set the right interest rate.\n",
    "8.\tBorrowers with annual income in the range of 31K-58K are most likely to have Charged Off loan, so bank should target borrowers in other income group.\n",
    "9.\tBank should continue charging higher interest rate for high value loan as its good business value.\n",
    "10.\tBank should continue funding high value loan to high income group because they can repay it.\n",
    "11.\tBank should strictly avoid funding high value loan to ‘Small business’ because Charge Off is high there. Small business doesnt seem to handle high value loan very well.\n",
    "12.\tPrefer offering high value loan in the state of ‘DC’(where completely paying loan is highest) and try to avoid as much possible  in the state of ‘TN’.</font>\n"
   ]
  },
  {
   "cell_type": "code",
   "execution_count": null,
   "metadata": {},
   "outputs": [],
   "source": []
  }
 ],
 "metadata": {
  "kernelspec": {
   "display_name": "Python 3",
   "language": "python",
   "name": "python3"
  },
  "language_info": {
   "codemirror_mode": {
    "name": "ipython",
    "version": 3
   },
   "file_extension": ".py",
   "mimetype": "text/x-python",
   "name": "python",
   "nbconvert_exporter": "python",
   "pygments_lexer": "ipython3",
   "version": "3.7.3"
  }
 },
 "nbformat": 4,
 "nbformat_minor": 2
}
